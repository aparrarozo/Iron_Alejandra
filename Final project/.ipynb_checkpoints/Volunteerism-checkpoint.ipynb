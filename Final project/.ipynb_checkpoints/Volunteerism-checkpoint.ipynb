{
 "cells": [
  {
   "cell_type": "code",
   "execution_count": 1,
   "id": "df02ffc1",
   "metadata": {},
   "outputs": [
    {
     "data": {
      "text/plain": [
       "(          id  res  settype  stratum        indwt  sex   age  a1_1  a1_2  a1_3  \\\n",
       " 0     1821.0  1.0      2.0      2.0  2023.881348  1.0  18.0   0.0   0.0   0.0   \n",
       " 1     3187.0  1.0      2.0      3.0  1469.627930  1.0  30.0   0.0   0.0   0.0   \n",
       " 2     2329.0  1.0      1.0      1.0  2348.268799  1.0  27.0   0.0   0.0   0.0   \n",
       " 3     7616.0  1.0      1.0      1.0  2058.008545  1.0  34.0   0.0   0.0   0.0   \n",
       " 4     8523.0  1.0      1.0      1.0  3426.511475  1.0  19.0   0.0   0.0   0.0   \n",
       " ...      ...  ...      ...      ...          ...  ...   ...   ...   ...   ...   \n",
       " 2405  1720.0  1.0      3.0      4.0  1056.470825  2.0  72.0   0.0   0.0   0.0   \n",
       " 2406  1022.0  1.0      2.0      2.0   627.192932  2.0  69.0   0.0   0.0   0.0   \n",
       " 2407  3934.0  1.0      1.0      1.0   346.886810  2.0  68.0   0.0   0.0   0.0   \n",
       " 2408  8815.0  1.0      2.0      3.0   672.276550  2.0  56.0   0.0   0.0   0.0   \n",
       " 2409  4136.0  1.0      3.0      4.0  1508.201904  2.0  61.0   0.0   0.0   0.0   \n",
       " \n",
       "       ...  c3_time    int_date  int_start    int_end   int_dur  accept  \\\n",
       " 0     ...   -0.007  2014-05-01  39751.680  42242.048  2490.368     1.0   \n",
       " 1     ...   -0.007  2014-04-30  68873.216  70183.936  1310.720     1.0   \n",
       " 2     ...   -0.007  2014-04-26  66870.272  68967.424  2097.152     1.0   \n",
       " 3     ...   -0.007  2014-04-27  70123.520  72744.960  2621.440     1.0   \n",
       " 4     ...   -0.007  2014-05-03  52156.416  53729.280  1572.864     1.0   \n",
       " ...   ...      ...         ...        ...        ...       ...     ...   \n",
       " 2405  ...   -0.007  2014-04-29  42813.440  45172.736  2359.296     1.0   \n",
       " 2406  ...   -0.007  2014-05-04  52263.936  53574.656  1310.720     1.0   \n",
       " 2407  ...   -0.007  2014-05-03  36689.920  39311.360  2621.440     1.0   \n",
       " 2408  ...   -0.007  2014-04-30  50523.136  51178.496   655.360     1.0   \n",
       " 2409  ...   -0.007  2014-04-29  57755.648  60246.016  2490.368     1.0   \n",
       " \n",
       "       npsuss  nhhpsu  nadhh        hhwt  \n",
       " 0      102.0   527.0    2.0  694.975830  \n",
       " 1      171.0   203.0    4.0  252.326050  \n",
       " 2      718.0   406.0    4.0  403.183258  \n",
       " 3      718.0   536.0    2.0  706.694763  \n",
       " 4      718.0   396.0    5.0  470.648712  \n",
       " ...      ...     ...    ...         ...  \n",
       " 2405   496.0   166.0    2.0  661.132996  \n",
       " 2406    32.0   537.0    2.0  392.493561  \n",
       " 2407   718.0   512.0    1.0  434.159332  \n",
       " 2408   171.0   561.0    3.0  280.471039  \n",
       " 2409   496.0   315.0    2.0  943.823669  \n",
       " \n",
       " [2410 rows x 306 columns],\n",
       " <pyreadstat._readstat_parser.metadata_container at 0x7fd0ffc52100>)"
      ]
     },
     "execution_count": 1,
     "metadata": {},
     "output_type": "execute_result"
    }
   ],
   "source": [
    "import pandas as pd\n",
    "import pyreadstat\n",
    "\n",
    "df = pyreadstat.read_sav('Volunteerism_2014_only_responses_04112014.sav')\n",
    "df"
   ]
  },
  {
   "cell_type": "code",
   "execution_count": 2,
   "id": "51451094",
   "metadata": {},
   "outputs": [
    {
     "data": {
      "text/plain": [
       "tuple"
      ]
     },
     "execution_count": 2,
     "metadata": {},
     "output_type": "execute_result"
    }
   ],
   "source": [
    "type(df)"
   ]
  },
  {
   "cell_type": "code",
   "execution_count": 3,
   "id": "e7c7064c",
   "metadata": {},
   "outputs": [
    {
     "data": {
      "text/plain": [
       "pyreadstat._readstat_parser.metadata_container"
      ]
     },
     "execution_count": 3,
     "metadata": {},
     "output_type": "execute_result"
    }
   ],
   "source": [
    "type(df[1])"
   ]
  },
  {
   "cell_type": "code",
   "execution_count": null,
   "id": "aee4fd78",
   "metadata": {},
   "outputs": [],
   "source": [
    "#df.shape"
   ]
  },
  {
   "cell_type": "code",
   "execution_count": null,
   "id": "09764890",
   "metadata": {
    "scrolled": true
   },
   "outputs": [],
   "source": [
    "#df = pd.DataFrame(list(df))\n",
    "df"
   ]
  },
  {
   "cell_type": "code",
   "execution_count": null,
   "id": "698caef3",
   "metadata": {},
   "outputs": [],
   "source": [
    "df= list(df)"
   ]
  },
  {
   "cell_type": "code",
   "execution_count": null,
   "id": "997079d9",
   "metadata": {},
   "outputs": [],
   "source": [
    "df"
   ]
  },
  {
   "cell_type": "code",
   "execution_count": null,
   "id": "6e1aeeda",
   "metadata": {},
   "outputs": [],
   "source": [
    "df_data = pd.DataFrame(df)\n",
    "print(df_data)"
   ]
  },
  {
   "cell_type": "code",
   "execution_count": null,
   "id": "67e7a1ef",
   "metadata": {},
   "outputs": [],
   "source": [
    "df_dtype = pd.DataFrame(df, dtype='object')\n",
    "print(df_dtype)"
   ]
  },
  {
   "cell_type": "code",
   "execution_count": null,
   "id": "21e3e82b",
   "metadata": {},
   "outputs": [],
   "source": []
  }
 ],
 "metadata": {
  "kernelspec": {
   "display_name": "Python 3 (ipykernel)",
   "language": "python",
   "name": "python3"
  },
  "language_info": {
   "codemirror_mode": {
    "name": "ipython",
    "version": 3
   },
   "file_extension": ".py",
   "mimetype": "text/x-python",
   "name": "python",
   "nbconvert_exporter": "python",
   "pygments_lexer": "ipython3",
   "version": "3.9.7"
  },
  "toc": {
   "base_numbering": 1,
   "nav_menu": {},
   "number_sections": true,
   "sideBar": true,
   "skip_h1_title": false,
   "title_cell": "Table of Contents",
   "title_sidebar": "Contents",
   "toc_cell": false,
   "toc_position": {},
   "toc_section_display": true,
   "toc_window_display": false
  }
 },
 "nbformat": 4,
 "nbformat_minor": 5
}
