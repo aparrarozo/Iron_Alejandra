{
 "cells": [
  {
   "cell_type": "raw",
   "id": "215a24c2",
   "metadata": {},
   "source": [
    "numpy exercises\n",
    "This is a collection of exercises that have been collected in the numpy mailing list, on stack overflow and in the numpy documentation. The goal of this collection is to offer a quick reference for both old and new users but also to provide a set of exercises for those who teach.\n",
    "\n",
    "If you find an error or think you've a better way to solve some of them, feel free to open an issue at https://github.com/rougier/numpy-100. File automatically generated. See the documentation to update questions/answers/hints programmatically.\n"
   ]
  },
  {
   "cell_type": "code",
   "execution_count": 208,
   "id": "8ec5217d",
   "metadata": {},
   "outputs": [],
   "source": [
    "#1. Import the numpy package under the name np (★☆☆)hint: \n"
   ]
  },
  {
   "cell_type": "code",
   "execution_count": 209,
   "id": "1c7d837f",
   "metadata": {},
   "outputs": [],
   "source": [
    "import numpy as np"
   ]
  },
  {
   "cell_type": "code",
   "execution_count": 210,
   "id": "d0ed1bd3",
   "metadata": {},
   "outputs": [],
   "source": [
    "# 2. Create a null vector of size 10 (★☆☆)\n",
    "hint: np.zeros"
   ]
  },
  {
   "cell_type": "code",
   "execution_count": 211,
   "id": "b75606fd",
   "metadata": {},
   "outputs": [
    {
     "data": {
      "text/plain": [
       "array([0., 0., 0., 0., 0., 0., 0., 0., 0., 0.])"
      ]
     },
     "execution_count": 211,
     "metadata": {},
     "output_type": "execute_result"
    }
   ],
   "source": [
    "np.zeros(10)\n"
   ]
  },
  {
   "cell_type": "code",
   "execution_count": 212,
   "id": "b3ef401f",
   "metadata": {},
   "outputs": [],
   "source": [
    "###3. Create a null vector of size 10 but the fifth value which is 1 (★☆☆)hint: array[4]\n"
   ]
  },
  {
   "cell_type": "code",
   "execution_count": 213,
   "id": "37b94976",
   "metadata": {},
   "outputs": [
    {
     "data": {
      "text/plain": [
       "array([0., 0., 0., 0., 0., 0., 0., 0., 0., 0.])"
      ]
     },
     "execution_count": 213,
     "metadata": {},
     "output_type": "execute_result"
    }
   ],
   "source": [
    "a = np.zeros(10)\n",
    "a"
   ]
  },
  {
   "cell_type": "code",
   "execution_count": 214,
   "id": "166029b9",
   "metadata": {},
   "outputs": [],
   "source": [
    "a[5]=1"
   ]
  },
  {
   "cell_type": "code",
   "execution_count": 215,
   "id": "c682cbaf",
   "metadata": {},
   "outputs": [
    {
     "data": {
      "text/plain": [
       "array([0., 0., 0., 0., 0., 1., 0., 0., 0., 0.])"
      ]
     },
     "execution_count": 215,
     "metadata": {},
     "output_type": "execute_result"
    }
   ],
   "source": [
    "a"
   ]
  },
  {
   "cell_type": "code",
   "execution_count": 216,
   "id": "b3f28470",
   "metadata": {},
   "outputs": [],
   "source": [
    "# 4. Create a vector with values ranging from 10 to 49 (★☆☆) hint: arange"
   ]
  },
  {
   "cell_type": "code",
   "execution_count": 217,
   "id": "17aab136",
   "metadata": {},
   "outputs": [
    {
     "data": {
      "text/plain": [
       "array([10, 11, 12, 13, 14, 15, 16, 17, 18, 19, 20, 21, 22, 23, 24, 25, 26,\n",
       "       27, 28, 29, 30, 31, 32, 33, 34, 35, 36, 37, 38, 39, 40, 41, 42, 43,\n",
       "       44, 45, 46, 47, 48, 49])"
      ]
     },
     "execution_count": 217,
     "metadata": {},
     "output_type": "execute_result"
    }
   ],
   "source": [
    "b = np.arange(10,50)\n",
    "b"
   ]
  },
  {
   "cell_type": "code",
   "execution_count": 218,
   "id": "dd11e3c0",
   "metadata": {},
   "outputs": [],
   "source": [
    "### 5. Create a 3x3 matrix with values ranging from 0 to 8 (★☆☆) hint: reshape"
   ]
  },
  {
   "cell_type": "code",
   "execution_count": 219,
   "id": "92ed77e1",
   "metadata": {},
   "outputs": [
    {
     "data": {
      "text/plain": [
       "array([[0, 1, 2],\n",
       "       [3, 4, 5],\n",
       "       [6, 7, 8]])"
      ]
     },
     "execution_count": 219,
     "metadata": {},
     "output_type": "execute_result"
    }
   ],
   "source": [
    "c = np.arange(0,9).reshape(3,3)\n",
    "c"
   ]
  },
  {
   "cell_type": "code",
   "execution_count": 220,
   "id": "b14430dd",
   "metadata": {},
   "outputs": [],
   "source": [
    "### 6. Find indices of non-zero elements from [1,2,0,0,4,0] (★☆☆) hint: np.nonzero"
   ]
  },
  {
   "cell_type": "code",
   "execution_count": 221,
   "id": "efd78bed",
   "metadata": {},
   "outputs": [
    {
     "data": {
      "text/plain": [
       "(array([0, 1, 4]),)"
      ]
     },
     "execution_count": 221,
     "metadata": {},
     "output_type": "execute_result"
    }
   ],
   "source": [
    "d = np.array([1,2,0,0,4,0])\n",
    "np.nonzero (d)"
   ]
  },
  {
   "cell_type": "code",
   "execution_count": 222,
   "id": "793682cb",
   "metadata": {},
   "outputs": [],
   "source": [
    "### 7. Create a 3x3 identity matrix (★☆☆) hint: np.eye"
   ]
  },
  {
   "cell_type": "code",
   "execution_count": 223,
   "id": "c979c296",
   "metadata": {},
   "outputs": [
    {
     "data": {
      "text/plain": [
       "array([[0., 0., 0.],\n",
       "       [0., 0., 0.],\n",
       "       [0., 0., 0.]])"
      ]
     },
     "execution_count": 223,
     "metadata": {},
     "output_type": "execute_result"
    }
   ],
   "source": [
    "identity_matrix = np.zeros(9).reshape(3,3)\n",
    "identity_matrix"
   ]
  },
  {
   "cell_type": "code",
   "execution_count": 224,
   "id": "6193ebeb",
   "metadata": {},
   "outputs": [
    {
     "data": {
      "text/plain": [
       "array([[1., 0., 0.],\n",
       "       [0., 1., 0.],\n",
       "       [0., 0., 1.]])"
      ]
     },
     "execution_count": 224,
     "metadata": {},
     "output_type": "execute_result"
    }
   ],
   "source": [
    "identity_matrix = np.eye(3,3) \n",
    "identity_matrix"
   ]
  },
  {
   "cell_type": "code",
   "execution_count": 225,
   "id": "aa84bdfc",
   "metadata": {},
   "outputs": [],
   "source": [
    "###8. Create a 3x3x3 array with random values (★☆☆) hint: np.random.random"
   ]
  },
  {
   "cell_type": "code",
   "execution_count": 226,
   "id": "f1e1d0ad",
   "metadata": {},
   "outputs": [
    {
     "data": {
      "text/plain": [
       "array([[[0.59792607, 0.52766448, 0.93097582],\n",
       "        [0.44775132, 0.17239615, 0.78084678],\n",
       "        [0.33567862, 0.27506255, 0.49948369]],\n",
       "\n",
       "       [[0.94042832, 0.7699324 , 0.030699  ],\n",
       "        [0.48577588, 0.84081027, 0.72564578],\n",
       "        [0.7714988 , 0.42235597, 0.82291984]],\n",
       "\n",
       "       [[0.12374579, 0.58535735, 0.44051287],\n",
       "        [0.81790297, 0.63973254, 0.94346814],\n",
       "        [0.58131958, 0.22915017, 0.22542729]]])"
      ]
     },
     "execution_count": 226,
     "metadata": {},
     "output_type": "execute_result"
    }
   ],
   "source": [
    "f = np.random.random ((3,3,3))\n",
    "f"
   ]
  },
  {
   "cell_type": "code",
   "execution_count": 227,
   "id": "333385f2",
   "metadata": {},
   "outputs": [],
   "source": [
    "### 9. Create a 10x10 array with random values and find the minimum and maximum values (★☆☆) hint: min, max"
   ]
  },
  {
   "cell_type": "code",
   "execution_count": 228,
   "id": "d659d94c",
   "metadata": {},
   "outputs": [
    {
     "data": {
      "text/plain": [
       "array([[0.22327725, 0.01785653, 0.93086918, 0.04431077, 0.09236585,\n",
       "        0.35681505, 0.15523134, 0.16416697, 0.55815546, 0.70367775],\n",
       "       [0.08304782, 0.29913228, 0.04818634, 0.32838029, 0.85787374,\n",
       "        0.82215572, 0.5316451 , 0.12181809, 0.03016959, 0.0018602 ],\n",
       "       [0.80818204, 0.68696582, 0.79345318, 0.86738089, 0.91120256,\n",
       "        0.74917571, 0.88134292, 0.07311401, 0.62427633, 0.43879792],\n",
       "       [0.06059488, 0.72351154, 0.37534592, 0.91352454, 0.06228803,\n",
       "        0.14016293, 0.02267688, 0.80027741, 0.89376993, 0.26404597],\n",
       "       [0.13330168, 0.00813564, 0.53137219, 0.7979226 , 0.52193713,\n",
       "        0.06045174, 0.84464963, 0.9163635 , 0.42434844, 0.98231781],\n",
       "       [0.8347448 , 0.93080655, 0.5964941 , 0.50038629, 0.82319104,\n",
       "        0.46281952, 0.29380209, 0.25641211, 0.44761677, 0.10853537],\n",
       "       [0.15981468, 0.16824276, 0.5330886 , 0.28272632, 0.22440695,\n",
       "        0.46187343, 0.26004854, 0.99466081, 0.43209248, 0.63671202],\n",
       "       [0.42363497, 0.02918378, 0.58731951, 0.15060116, 0.35842426,\n",
       "        0.1536449 , 0.53235309, 0.7010284 , 0.38444965, 0.64019868],\n",
       "       [0.81421236, 0.55636451, 0.63833401, 0.15026353, 0.91136378,\n",
       "        0.77444718, 0.61474712, 0.94303328, 0.44852331, 0.77819573],\n",
       "       [0.92463999, 0.60265571, 0.7303598 , 0.60146583, 0.26987979,\n",
       "        0.76792351, 0.09963326, 0.95004484, 0.91792279, 0.45281551]])"
      ]
     },
     "execution_count": 228,
     "metadata": {},
     "output_type": "execute_result"
    }
   ],
   "source": [
    "g = np.random.random ((10,10))\n",
    "g"
   ]
  },
  {
   "cell_type": "code",
   "execution_count": 229,
   "id": "8191b5ef",
   "metadata": {},
   "outputs": [
    {
     "data": {
      "text/plain": [
       "0.0018602049630186412"
      ]
     },
     "execution_count": 229,
     "metadata": {},
     "output_type": "execute_result"
    }
   ],
   "source": [
    "np.min(g)"
   ]
  },
  {
   "cell_type": "code",
   "execution_count": 230,
   "id": "8396eaec",
   "metadata": {},
   "outputs": [
    {
     "data": {
      "text/plain": [
       "0.9946608069673045"
      ]
     },
     "execution_count": 230,
     "metadata": {},
     "output_type": "execute_result"
    }
   ],
   "source": [
    "np.max(g)"
   ]
  },
  {
   "cell_type": "code",
   "execution_count": 231,
   "id": "8191f2be",
   "metadata": {},
   "outputs": [],
   "source": [
    "### 10. Create a random vector of size 30 and find the mean value (★☆☆) hint: mean"
   ]
  },
  {
   "cell_type": "code",
   "execution_count": 232,
   "id": "acb3d9ac",
   "metadata": {},
   "outputs": [
    {
     "data": {
      "text/plain": [
       "0.761619370057027"
      ]
     },
     "execution_count": 232,
     "metadata": {},
     "output_type": "execute_result"
    }
   ],
   "source": [
    "random_vec_3 = np.random.random()\n",
    "random_vec_3"
   ]
  },
  {
   "cell_type": "code",
   "execution_count": 233,
   "id": "5ec0f3cb",
   "metadata": {},
   "outputs": [
    {
     "data": {
      "text/plain": [
       "0.761619370057027"
      ]
     },
     "execution_count": 233,
     "metadata": {},
     "output_type": "execute_result"
    }
   ],
   "source": [
    "mean_vec = np.mean(random_vec_3)\n",
    "mean_vec"
   ]
  },
  {
   "cell_type": "code",
   "execution_count": 234,
   "id": "3a6cb2b5",
   "metadata": {},
   "outputs": [],
   "source": [
    "###11. Create a 5x5 matrix with values 1,2,3,4 just below the diagonal (★☆☆) hint: np.diag\n"
   ]
  },
  {
   "cell_type": "code",
   "execution_count": 235,
   "id": "9e73cda9",
   "metadata": {},
   "outputs": [
    {
     "data": {
      "text/plain": [
       "array([[0.22518997, 0.97264692, 0.91414538, 0.88490753, 0.95787402],\n",
       "       [0.82599455, 0.80025073, 0.78533529, 0.72355238, 0.69099748],\n",
       "       [0.01406763, 0.52126631, 0.11115005, 0.14787381, 0.55175749],\n",
       "       [0.75533356, 0.19848124, 0.90387372, 0.07970626, 0.60858095],\n",
       "       [0.98305943, 0.82098808, 0.54540512, 0.25800516, 0.58153833]])"
      ]
     },
     "execution_count": 235,
     "metadata": {},
     "output_type": "execute_result"
    }
   ],
   "source": [
    "array_5_5 = np.random.random ((5,5))\n",
    "array_5_5"
   ]
  },
  {
   "cell_type": "code",
   "execution_count": 236,
   "id": "ea0921b3",
   "metadata": {},
   "outputs": [
    {
     "name": "stdout",
     "output_type": "stream",
     "text": [
      "[[0 0 0 0 0]\n",
      " [1 0 0 0 0]\n",
      " [0 2 0 0 0]\n",
      " [0 0 3 0 0]\n",
      " [0 0 0 4 0]]\n"
     ]
    }
   ],
   "source": [
    "diagonal_5_5= np.diag(np.arange(1,5), k= -1)\n",
    "print(diagonal_5_5)"
   ]
  },
  {
   "cell_type": "code",
   "execution_count": 237,
   "id": "86d81bea",
   "metadata": {},
   "outputs": [],
   "source": [
    "###  12. Normalize a 5x5 random matrix (★☆☆) hint: (x -mean)/std"
   ]
  },
  {
   "cell_type": "code",
   "execution_count": 238,
   "id": "5210ac34",
   "metadata": {},
   "outputs": [
    {
     "data": {
      "text/plain": [
       "array([[0.0681063 , 0.44213367, 0.39219333, 0.06778995, 0.64429793],\n",
       "       [0.7325006 , 0.7860168 , 0.31994789, 0.78445669, 0.33005812],\n",
       "       [0.8686914 , 0.18421036, 0.00492093, 0.93665965, 0.10864562],\n",
       "       [0.25164613, 0.04689305, 0.24175846, 0.56544208, 0.46391146],\n",
       "       [0.91475715, 0.27001093, 0.42123954, 0.9036179 , 0.31376658]])"
      ]
     },
     "execution_count": 238,
     "metadata": {},
     "output_type": "execute_result"
    }
   ],
   "source": [
    "normal_matrix_5_5= np.random.random ((5,5))\n",
    "normal_matrix_5_5"
   ]
  },
  {
   "cell_type": "code",
   "execution_count": 239,
   "id": "29cd5308",
   "metadata": {},
   "outputs": [
    {
     "data": {
      "text/plain": [
       "0.004920926276343107"
      ]
     },
     "execution_count": 239,
     "metadata": {},
     "output_type": "execute_result"
    }
   ],
   "source": [
    "min_normal_mat = np.min(normal_matrix_5_5)\n",
    "min_normal_mat"
   ]
  },
  {
   "cell_type": "code",
   "execution_count": 240,
   "id": "2d5fa6ba",
   "metadata": {},
   "outputs": [
    {
     "data": {
      "text/plain": [
       "0.9366596455364704"
      ]
     },
     "execution_count": 240,
     "metadata": {},
     "output_type": "execute_result"
    }
   ],
   "source": [
    "max_normal_mat = np.max(normal_matrix_5_5)\n",
    "max_normal_mat"
   ]
  },
  {
   "cell_type": "code",
   "execution_count": 241,
   "id": "131f5f55",
   "metadata": {},
   "outputs": [
    {
     "data": {
      "text/plain": [
       "0.9317387192601273"
      ]
     },
     "execution_count": 241,
     "metadata": {},
     "output_type": "execute_result"
    }
   ],
   "source": [
    "difference_max_min= max_normal_mat-min_normal_mat\n",
    "difference_max_min"
   ]
  },
  {
   "cell_type": "code",
   "execution_count": 242,
   "id": "769155df",
   "metadata": {},
   "outputs": [
    {
     "data": {
      "text/plain": [
       "0.44254690097477756"
      ]
     },
     "execution_count": 242,
     "metadata": {},
     "output_type": "execute_result"
    }
   ],
   "source": [
    "mean_normal_mal= np.mean(normal_matrix_5_5)\n",
    "mean_normal_mal"
   ]
  },
  {
   "cell_type": "code",
   "execution_count": 243,
   "id": "61f234b3",
   "metadata": {},
   "outputs": [
    {
     "data": {
      "text/plain": [
       "0.29646224490845985"
      ]
     },
     "execution_count": 243,
     "metadata": {},
     "output_type": "execute_result"
    }
   ],
   "source": [
    "std_nomal_mat= np.std(normal_matrix_5_5)\n",
    "std_nomal_mat"
   ]
  },
  {
   "cell_type": "code",
   "execution_count": 244,
   "id": "87bf623b",
   "metadata": {},
   "outputs": [],
   "source": [
    "### Normalize with formula: (x -mean)/std\n",
    "normalized = ((normal_matrix_5_5-mean_normal_mal)/(std_nomal_mat))"
   ]
  },
  {
   "cell_type": "code",
   "execution_count": 245,
   "id": "82aa8ed3",
   "metadata": {},
   "outputs": [
    {
     "data": {
      "text/plain": [
       "array([[-1.26302964e+00, -1.39386162e-03, -1.69848158e-01,\n",
       "        -1.26409673e+00,  6.80528585e-01],\n",
       "       [ 9.78045953e-01,  1.15856204e+00, -4.13540034e-01,\n",
       "         1.15329960e+00, -3.79437107e-01],\n",
       "       [ 1.43743260e+00, -8.71397787e-01, -1.47616090e+00,\n",
       "         1.66669703e+00, -1.12628601e+00],\n",
       "       [-6.43929454e-01, -1.33458429e+00, -6.77281643e-01,\n",
       "         4.14539066e-01,  7.20650270e-02],\n",
       "       [ 1.59281748e+00, -5.81982955e-01, -7.18720804e-02,\n",
       "         1.55524357e+00, -4.34390306e-01]])"
      ]
     },
     "execution_count": 245,
     "metadata": {},
     "output_type": "execute_result"
    }
   ],
   "source": [
    "normalized"
   ]
  },
  {
   "cell_type": "code",
   "execution_count": 246,
   "id": "6b045c68",
   "metadata": {},
   "outputs": [],
   "source": [
    "### Normalized with alternative formula y = (y-xmin)/(xmax-xmin)"
   ]
  },
  {
   "cell_type": "code",
   "execution_count": 247,
   "id": "78a5311f",
   "metadata": {},
   "outputs": [
    {
     "data": {
      "text/plain": [
       "array([[0.06781447, 0.46924394, 0.41564486, 0.06747495, 0.68621921],\n",
       "       [0.7808838 , 0.83832072, 0.33810655, 0.83664631, 0.34895748],\n",
       "       [0.92705224, 0.19242458, 0.        , 1.        , 0.1113238 ],\n",
       "       [0.26480085, 0.04504709, 0.25418879, 0.6015862 , 0.49261722],\n",
       "       [0.97649288, 0.28451109, 0.44681906, 0.96453754, 0.33147238]])"
      ]
     },
     "execution_count": 247,
     "metadata": {},
     "output_type": "execute_result"
    }
   ],
   "source": [
    "normalized_2 = (normal_matrix_5_5-min_normal_mat)/(max_normal_mat-min_normal_mat)\n",
    "normalized_2"
   ]
  },
  {
   "cell_type": "code",
   "execution_count": 248,
   "id": "ff97f1c8",
   "metadata": {},
   "outputs": [],
   "source": [
    "### 13. How to find common values between two arrays? (★☆☆) hint: np.intersect1d"
   ]
  },
  {
   "cell_type": "code",
   "execution_count": 249,
   "id": "1201b597",
   "metadata": {},
   "outputs": [
    {
     "data": {
      "text/plain": [
       "array([1])"
      ]
     },
     "execution_count": 249,
     "metadata": {},
     "output_type": "execute_result"
    }
   ],
   "source": [
    "array_1 = [1,3,5,7]\n",
    "array_2= [1,2,4,10]\n",
    "\n",
    "np.intersect1d(array_1, array_2)"
   ]
  },
  {
   "cell_type": "code",
   "execution_count": 250,
   "id": "300b5c0e",
   "metadata": {},
   "outputs": [],
   "source": [
    "### 14. Create a random vector of size 10 and sort it"
   ]
  },
  {
   "cell_type": "code",
   "execution_count": 251,
   "id": "6141502f",
   "metadata": {},
   "outputs": [
    {
     "data": {
      "text/plain": [
       "array([0.7436818 , 0.58701848, 0.91203537, 0.59899894, 0.9081575 ,\n",
       "       0.55113335, 0.71679049, 0.30826624, 0.37079816, 0.41809157])"
      ]
     },
     "execution_count": 251,
     "metadata": {},
     "output_type": "execute_result"
    }
   ],
   "source": [
    "random_vec=np.random.random(10)\n",
    "random_vec"
   ]
  },
  {
   "cell_type": "code",
   "execution_count": 252,
   "id": "42066784",
   "metadata": {},
   "outputs": [
    {
     "data": {
      "text/plain": [
       "array([0.30826624, 0.37079816, 0.41809157, 0.55113335, 0.58701848,\n",
       "       0.59899894, 0.71679049, 0.7436818 , 0.9081575 , 0.91203537])"
      ]
     },
     "execution_count": 252,
     "metadata": {},
     "output_type": "execute_result"
    }
   ],
   "source": [
    "np.sort(random_vec)"
   ]
  },
  {
   "cell_type": "code",
   "execution_count": 253,
   "id": "8d8a00e5",
   "metadata": {},
   "outputs": [],
   "source": [
    "### 15. Create random vector of size 10 and replace the maximum value by 0 (★★☆) hint: argmax"
   ]
  },
  {
   "cell_type": "code",
   "execution_count": 254,
   "id": "bfca7013",
   "metadata": {},
   "outputs": [],
   "source": [
    "random_vec_15 =np.random.random(10)"
   ]
  },
  {
   "cell_type": "code",
   "execution_count": 255,
   "id": "14c6f285",
   "metadata": {},
   "outputs": [
    {
     "data": {
      "text/plain": [
       "array([0.91337922, 0.30710248, 0.87896478, 0.01066171, 0.73453688,\n",
       "       0.75491664, 0.69971582, 0.03491402, 0.31116391, 0.48890462])"
      ]
     },
     "execution_count": 255,
     "metadata": {},
     "output_type": "execute_result"
    }
   ],
   "source": [
    "random_vec_15"
   ]
  },
  {
   "cell_type": "code",
   "execution_count": 256,
   "id": "740b5c4e",
   "metadata": {},
   "outputs": [],
   "source": [
    "max_val_rvect_15 = np.argmax(random_vec_15)"
   ]
  },
  {
   "cell_type": "code",
   "execution_count": 257,
   "id": "7985bd3a",
   "metadata": {},
   "outputs": [
    {
     "data": {
      "text/plain": [
       "0"
      ]
     },
     "execution_count": 257,
     "metadata": {},
     "output_type": "execute_result"
    }
   ],
   "source": [
    "max_val_rvect_15"
   ]
  },
  {
   "cell_type": "code",
   "execution_count": 258,
   "id": "50a743e6",
   "metadata": {},
   "outputs": [],
   "source": [
    "### replace max by 0:\n",
    "random_vec_15[7]=0"
   ]
  },
  {
   "cell_type": "code",
   "execution_count": 259,
   "id": "c74e8260",
   "metadata": {},
   "outputs": [
    {
     "data": {
      "text/plain": [
       "array([0.91337922, 0.30710248, 0.87896478, 0.01066171, 0.73453688,\n",
       "       0.75491664, 0.69971582, 0.        , 0.31116391, 0.48890462])"
      ]
     },
     "execution_count": 259,
     "metadata": {},
     "output_type": "execute_result"
    }
   ],
   "source": [
    "random_vec_15"
   ]
  },
  {
   "cell_type": "code",
   "execution_count": 260,
   "id": "146a79f1",
   "metadata": {},
   "outputs": [],
   "source": [
    "### 16. Subtract the mean of each row of a matrix (★★☆) hint: mean(axis=,keepdims=)"
   ]
  },
  {
   "cell_type": "code",
   "execution_count": 261,
   "id": "0b45d74e",
   "metadata": {},
   "outputs": [
    {
     "data": {
      "text/plain": [
       "array([[0.15632524, 0.17619863, 0.16683781],\n",
       "       [0.45632434, 0.84118198, 0.73010743],\n",
       "       [0.11051118, 0.05662965, 0.36790448]])"
      ]
     },
     "execution_count": 261,
     "metadata": {},
     "output_type": "execute_result"
    }
   ],
   "source": [
    "matrix_16 = np.random.random((3,3,))\n",
    "matrix_16"
   ]
  },
  {
   "cell_type": "code",
   "execution_count": 262,
   "id": "c9ba5c83",
   "metadata": {},
   "outputs": [
    {
     "data": {
      "text/plain": [
       "array([[0.16645389],\n",
       "       [0.67587125],\n",
       "       [0.17834844]])"
      ]
     },
     "execution_count": 262,
     "metadata": {},
     "output_type": "execute_result"
    }
   ],
   "source": [
    "mean_by_row = np.mean(matrix_16, axis=1).reshape((3,1))\n",
    "mean_by_row"
   ]
  },
  {
   "cell_type": "code",
   "execution_count": 263,
   "id": "d1f8b082",
   "metadata": {},
   "outputs": [],
   "source": [
    "### 17. How to get the n largest values of an array (★★★) \n",
    "### Z = np.arange(10000) np.random.shuffle(Z) n = 5 hint: np.argsort | np.argpartition"
   ]
  },
  {
   "cell_type": "code",
   "execution_count": 264,
   "id": "5f1e2cd0",
   "metadata": {},
   "outputs": [],
   "source": [
    "n = 5"
   ]
  },
  {
   "cell_type": "code",
   "execution_count": 265,
   "id": "724d4ad5",
   "metadata": {},
   "outputs": [
    {
     "data": {
      "text/plain": [
       "array([4731, 1917, 8741, ..., 4258,  348,  944])"
      ]
     },
     "execution_count": 265,
     "metadata": {},
     "output_type": "execute_result"
    }
   ],
   "source": [
    "array_17 = np.arange(10000)\n",
    "np.random.shuffle(array_17)\n",
    "array_17"
   ]
  },
  {
   "cell_type": "code",
   "execution_count": 266,
   "id": "cef342a1",
   "metadata": {},
   "outputs": [
    {
     "data": {
      "text/plain": [
       "array([8894, 5347, 1830, 9624, 7323])"
      ]
     },
     "execution_count": 266,
     "metadata": {},
     "output_type": "execute_result"
    }
   ],
   "source": [
    "# argsort will sort the values\n",
    "sorted_array = np.argsort(array_17)[-5:]\n",
    "sorted_array"
   ]
  },
  {
   "cell_type": "code",
   "execution_count": 267,
   "id": "b61869cb",
   "metadata": {},
   "outputs": [],
   "source": [
    "### 18. Create a random 5*3 matrix and replace items that are larger than 4 by their squares ( Example: 6 --> 36) hint: np.where"
   ]
  },
  {
   "cell_type": "code",
   "execution_count": 268,
   "id": "a5673748",
   "metadata": {},
   "outputs": [
    {
     "data": {
      "text/plain": [
       "array([[2, 9, 1],\n",
       "       [3, 6, 0],\n",
       "       [7, 3, 2],\n",
       "       [0, 3, 2],\n",
       "       [5, 9, 3]])"
      ]
     },
     "execution_count": 268,
     "metadata": {},
     "output_type": "execute_result"
    }
   ],
   "source": [
    "array_18 = np.random.randint(0,10,(5,3))\n",
    "array_18"
   ]
  },
  {
   "cell_type": "code",
   "execution_count": 269,
   "id": "920c8d9c",
   "metadata": {},
   "outputs": [
    {
     "data": {
      "text/plain": [
       "array([[ 2, 81,  1],\n",
       "       [ 3, 36,  0],\n",
       "       [49,  3,  2],\n",
       "       [ 0,  3,  2],\n",
       "       [25, 81,  3]])"
      ]
     },
     "execution_count": 269,
     "metadata": {},
     "output_type": "execute_result"
    }
   ],
   "source": [
    "## ATTENTION .where() uses a boolean condition so if TRUE the value will not be replaced.\n",
    "replaced_array_18= np.where((array_18<4),array_18,array_18**2 )\n",
    "replaced_array_18"
   ]
  },
  {
   "cell_type": "code",
   "execution_count": null,
   "id": "5e46ecb1",
   "metadata": {},
   "outputs": [],
   "source": []
  }
 ],
 "metadata": {
  "kernelspec": {
   "display_name": "Python 3 (ipykernel)",
   "language": "python",
   "name": "python3"
  },
  "language_info": {
   "codemirror_mode": {
    "name": "ipython",
    "version": 3
   },
   "file_extension": ".py",
   "mimetype": "text/x-python",
   "name": "python",
   "nbconvert_exporter": "python",
   "pygments_lexer": "ipython3",
   "version": "3.9.7"
  }
 },
 "nbformat": 4,
 "nbformat_minor": 5
}
