{
 "cells": [
  {
   "cell_type": "markdown",
   "id": "af7bf0e5",
   "metadata": {},
   "source": [
    "Instructions\n",
    "It is assumed that the mean systolic blood pressure is μ = 120 mm Hg. In the Honolulu Heart Study, a sample of n = 100 people had an average systolic blood pressure of 130.1 mm Hg with a standard deviation of 21.21 mm Hg. Is the group significantly different (with respect to systolic blood pressure!) from the regular population?\n",
    "\n",
    "#### Set up the hypothesis test.\n",
    "Write down all the steps followed for setting up the test.\n",
    "Calculate the test statistic by hand and also code it in Python. It should be 4.76190. What decision can you make based on this calculated value?"
   ]
  },
  {
   "cell_type": "code",
   "execution_count": 2,
   "id": "a1188561",
   "metadata": {},
   "outputs": [],
   "source": [
    "pop_mean = 120\n",
    "n= 100\n",
    "sample_mean= 130.1\n",
    "std_sample = 21.21\n",
    "\n",
    "import scipy.stats\n",
    "import math"
   ]
  },
  {
   "cell_type": "raw",
   "id": "1dcceb5a",
   "metadata": {},
   "source": [
    "Defening Hypothesis:\n",
    "Ho= The systolic blood pressure of sample group is within the average == 120\n",
    "\n",
    "Defining alternative hypothesis:\n",
    "Ha= The systolic blod pressure of sample group != 120\n",
    "\n",
    "Decide a test statistic :  two tails \n",
    "T Test for lack of a pop std\n",
    "\n"
   ]
  },
  {
   "cell_type": "code",
   "execution_count": 3,
   "id": "22a461dd",
   "metadata": {},
   "outputs": [
    {
     "data": {
      "text/plain": [
       "4.761904761904759"
      ]
     },
     "execution_count": 3,
     "metadata": {},
     "output_type": "execute_result"
    }
   ],
   "source": [
    "# t_score = (130-120)/(std_sample/√100)\n",
    "\n",
    "t_score = (sample_mean - pop_mean) / (std_sample / math.sqrt(n))\n",
    "t_score"
   ]
  },
  {
   "cell_type": "code",
   "execution_count": 4,
   "id": "64d25a9f",
   "metadata": {},
   "outputs": [],
   "source": [
    "critical_value = +- scipy.stats.t.ppf(0.975, df=99)"
   ]
  },
  {
   "cell_type": "code",
   "execution_count": 5,
   "id": "c945a5d2",
   "metadata": {},
   "outputs": [
    {
     "data": {
      "text/plain": [
       "-1.9842169515086827"
      ]
     },
     "execution_count": 5,
     "metadata": {},
     "output_type": "execute_result"
    }
   ],
   "source": [
    "critical_value"
   ]
  },
  {
   "cell_type": "code",
   "execution_count": null,
   "id": "3fedd5e0",
   "metadata": {},
   "outputs": [],
   "source": [
    "As after the test statistic t_score> critical_value, I reject the H0 hypothesis."
   ]
  }
 ],
 "metadata": {
  "kernelspec": {
   "display_name": "Python 3 (ipykernel)",
   "language": "python",
   "name": "python3"
  },
  "language_info": {
   "codemirror_mode": {
    "name": "ipython",
    "version": 3
   },
   "file_extension": ".py",
   "mimetype": "text/x-python",
   "name": "python",
   "nbconvert_exporter": "python",
   "pygments_lexer": "ipython3",
   "version": "3.9.7"
  }
 },
 "nbformat": 4,
 "nbformat_minor": 5
}
