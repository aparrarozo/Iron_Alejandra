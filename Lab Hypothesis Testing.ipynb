{
 "cells": [
  {
   "cell_type": "markdown",
   "id": "af7bf0e5",
   "metadata": {},
   "source": [
    "Instructions\n",
    "It is assumed that the mean systolic blood pressure is μ = 120 mm Hg. In the Honolulu Heart Study, a sample of n = 100 people had an average systolic blood pressure of 130.1 mm Hg with a standard deviation of 21.21 mm Hg. Is the group significantly different (with respect to systolic blood pressure!) from the regular population?\n",
    "\n",
    "#### Set up the hypothesis test.\n",
    "Write down all the steps followed for setting up the test.\n",
    "Calculate the test statistic by hand and also code it in Python. It should be 4.76190. What decision can you make based on this calculated value?"
   ]
  },
  {
   "cell_type": "code",
   "execution_count": 1,
   "id": "a1188561",
   "metadata": {},
   "outputs": [],
   "source": [
    "pop_mean = 120\n",
    "n= 100\n",
    "sample_mean= 130.1\n",
    "std_sample = 21.21\n",
    "\n",
    "import scipy.stats as stats\n",
    "import math\n",
    "import pandas as pd\n"
   ]
  },
  {
   "cell_type": "raw",
   "id": "1dcceb5a",
   "metadata": {},
   "source": [
    "Defening Hypothesis:\n",
    "Ho= The systolic blood pressure of sample group is within the average == 120\n",
    "\n",
    "Defining alternative hypothesis:\n",
    "Ha= The systolic blod pressure of sample group != 120\n",
    "\n",
    "Decide a test statistic :  two tails \n",
    "T Test for lack of a pop std\n",
    "\n"
   ]
  },
  {
   "cell_type": "code",
   "execution_count": 2,
   "id": "22a461dd",
   "metadata": {},
   "outputs": [
    {
     "data": {
      "text/plain": [
       "4.761904761904759"
      ]
     },
     "execution_count": 2,
     "metadata": {},
     "output_type": "execute_result"
    }
   ],
   "source": [
    "# t_score = (130-120)/(std_sample/√100)\n",
    "\n",
    "t_score = (sample_mean - pop_mean) / (std_sample / math.sqrt(n))\n",
    "t_score"
   ]
  },
  {
   "cell_type": "code",
   "execution_count": 4,
   "id": "64d25a9f",
   "metadata": {},
   "outputs": [],
   "source": [
    "critical_value = +-stats.t.ppf(1-(0.95/2), df=99)\n"
   ]
  },
  {
   "cell_type": "code",
   "execution_count": 5,
   "id": "c945a5d2",
   "metadata": {},
   "outputs": [
    {
     "data": {
      "text/plain": [
       "-0.0628659526643502"
      ]
     },
     "execution_count": 5,
     "metadata": {},
     "output_type": "execute_result"
    }
   ],
   "source": [
    "critical_value"
   ]
  },
  {
   "cell_type": "raw",
   "id": "6262919b",
   "metadata": {},
   "source": [
    "As after the test statistic t_score> critical_value, I reject the H0 hypothesis."
   ]
  },
  {
   "cell_type": "markdown",
   "id": "a0507c16",
   "metadata": {},
   "source": [
    "### Activity 2 \n",
    "#### In a packing plant, a machine packs cartons with jars. It is supposed that a new machine will pack faster on the average than the machine currently used. To test that hypothesis, the times it takes each machine to pack ten cartons are recorded. The results, in seconds, are shown in the tables in the file Data/machine.txt. Assume that there is sufficient evidence to conduct the t test, does the data provide sufficient evidence to show if one machine is better than the other"
   ]
  },
  {
   "cell_type": "code",
   "execution_count": 6,
   "id": "ee299678",
   "metadata": {
    "scrolled": true
   },
   "outputs": [],
   "source": [
    "machine_data= pd.read_csv(\"Data_Machine.txt\", sep=\"\\t\")"
   ]
  },
  {
   "cell_type": "raw",
   "id": "55b8110f",
   "metadata": {},
   "source": [
    "H0 = New machine is slower or as fast as the old one \n",
    "avg_new_machine => avg_old_machine\n",
    "\n",
    "Ha = New machine is faster\n",
    "avg_new_machine < avg_old_machine\n"
   ]
  },
  {
   "cell_type": "code",
   "execution_count": 8,
   "id": "3cb32940",
   "metadata": {},
   "outputs": [
    {
     "data": {
      "text/html": [
       "<div>\n",
       "<style scoped>\n",
       "    .dataframe tbody tr th:only-of-type {\n",
       "        vertical-align: middle;\n",
       "    }\n",
       "\n",
       "    .dataframe tbody tr th {\n",
       "        vertical-align: top;\n",
       "    }\n",
       "\n",
       "    .dataframe thead th {\n",
       "        text-align: right;\n",
       "    }\n",
       "</style>\n",
       "<table border=\"1\" class=\"dataframe\">\n",
       "  <thead>\n",
       "    <tr style=\"text-align: right;\">\n",
       "      <th></th>\n",
       "      <th>New Machine</th>\n",
       "      <th>Old Machine</th>\n",
       "    </tr>\n",
       "  </thead>\n",
       "  <tbody>\n",
       "    <tr>\n",
       "      <th>0</th>\n",
       "      <td>42.1</td>\n",
       "      <td>42.7</td>\n",
       "    </tr>\n",
       "    <tr>\n",
       "      <th>1</th>\n",
       "      <td>41.0</td>\n",
       "      <td>43.6</td>\n",
       "    </tr>\n",
       "    <tr>\n",
       "      <th>2</th>\n",
       "      <td>41.3</td>\n",
       "      <td>43.8</td>\n",
       "    </tr>\n",
       "    <tr>\n",
       "      <th>3</th>\n",
       "      <td>41.8</td>\n",
       "      <td>43.3</td>\n",
       "    </tr>\n",
       "    <tr>\n",
       "      <th>4</th>\n",
       "      <td>42.4</td>\n",
       "      <td>42.5</td>\n",
       "    </tr>\n",
       "    <tr>\n",
       "      <th>5</th>\n",
       "      <td>42.8</td>\n",
       "      <td>43.5</td>\n",
       "    </tr>\n",
       "    <tr>\n",
       "      <th>6</th>\n",
       "      <td>43.2</td>\n",
       "      <td>43.1</td>\n",
       "    </tr>\n",
       "    <tr>\n",
       "      <th>7</th>\n",
       "      <td>42.3</td>\n",
       "      <td>41.7</td>\n",
       "    </tr>\n",
       "    <tr>\n",
       "      <th>8</th>\n",
       "      <td>41.8</td>\n",
       "      <td>44.0</td>\n",
       "    </tr>\n",
       "    <tr>\n",
       "      <th>9</th>\n",
       "      <td>42.7</td>\n",
       "      <td>44.1</td>\n",
       "    </tr>\n",
       "  </tbody>\n",
       "</table>\n",
       "</div>"
      ],
      "text/plain": [
       "   New Machine    Old Machine\n",
       "0         42.1           42.7\n",
       "1         41.0           43.6\n",
       "2         41.3           43.8\n",
       "3         41.8           43.3\n",
       "4         42.4           42.5\n",
       "5         42.8           43.5\n",
       "6         43.2           43.1\n",
       "7         42.3           41.7\n",
       "8         41.8           44.0\n",
       "9         42.7           44.1"
      ]
     },
     "execution_count": 8,
     "metadata": {},
     "output_type": "execute_result"
    }
   ],
   "source": [
    "machine_data"
   ]
  },
  {
   "cell_type": "code",
   "execution_count": 9,
   "id": "53ce0ab6",
   "metadata": {},
   "outputs": [],
   "source": [
    "new_machine = machine_data['New Machine']"
   ]
  },
  {
   "cell_type": "code",
   "execution_count": 10,
   "id": "351bef11",
   "metadata": {},
   "outputs": [],
   "source": [
    "avg_new_machine = machine_data['New Machine'].mean()"
   ]
  },
  {
   "cell_type": "code",
   "execution_count": 11,
   "id": "3da8fdb4",
   "metadata": {},
   "outputs": [
    {
     "data": {
      "text/plain": [
       "42.14"
      ]
     },
     "execution_count": 11,
     "metadata": {},
     "output_type": "execute_result"
    }
   ],
   "source": [
    "avg_new_machine"
   ]
  },
  {
   "cell_type": "code",
   "execution_count": 12,
   "id": "2912cea7",
   "metadata": {},
   "outputs": [],
   "source": [
    "def delete_spaces(machine_data):\n",
    "    machine_data.columns = [i.strip() for i in machine_data.columns]\n",
    "    return machine_data"
   ]
  },
  {
   "cell_type": "code",
   "execution_count": 13,
   "id": "3469e041",
   "metadata": {},
   "outputs": [
    {
     "data": {
      "text/html": [
       "<div>\n",
       "<style scoped>\n",
       "    .dataframe tbody tr th:only-of-type {\n",
       "        vertical-align: middle;\n",
       "    }\n",
       "\n",
       "    .dataframe tbody tr th {\n",
       "        vertical-align: top;\n",
       "    }\n",
       "\n",
       "    .dataframe thead th {\n",
       "        text-align: right;\n",
       "    }\n",
       "</style>\n",
       "<table border=\"1\" class=\"dataframe\">\n",
       "  <thead>\n",
       "    <tr style=\"text-align: right;\">\n",
       "      <th></th>\n",
       "      <th>New Machine</th>\n",
       "      <th>Old Machine</th>\n",
       "    </tr>\n",
       "  </thead>\n",
       "  <tbody>\n",
       "    <tr>\n",
       "      <th>0</th>\n",
       "      <td>42.1</td>\n",
       "      <td>42.7</td>\n",
       "    </tr>\n",
       "    <tr>\n",
       "      <th>1</th>\n",
       "      <td>41.0</td>\n",
       "      <td>43.6</td>\n",
       "    </tr>\n",
       "    <tr>\n",
       "      <th>2</th>\n",
       "      <td>41.3</td>\n",
       "      <td>43.8</td>\n",
       "    </tr>\n",
       "    <tr>\n",
       "      <th>3</th>\n",
       "      <td>41.8</td>\n",
       "      <td>43.3</td>\n",
       "    </tr>\n",
       "    <tr>\n",
       "      <th>4</th>\n",
       "      <td>42.4</td>\n",
       "      <td>42.5</td>\n",
       "    </tr>\n",
       "    <tr>\n",
       "      <th>5</th>\n",
       "      <td>42.8</td>\n",
       "      <td>43.5</td>\n",
       "    </tr>\n",
       "    <tr>\n",
       "      <th>6</th>\n",
       "      <td>43.2</td>\n",
       "      <td>43.1</td>\n",
       "    </tr>\n",
       "    <tr>\n",
       "      <th>7</th>\n",
       "      <td>42.3</td>\n",
       "      <td>41.7</td>\n",
       "    </tr>\n",
       "    <tr>\n",
       "      <th>8</th>\n",
       "      <td>41.8</td>\n",
       "      <td>44.0</td>\n",
       "    </tr>\n",
       "    <tr>\n",
       "      <th>9</th>\n",
       "      <td>42.7</td>\n",
       "      <td>44.1</td>\n",
       "    </tr>\n",
       "  </tbody>\n",
       "</table>\n",
       "</div>"
      ],
      "text/plain": [
       "   New Machine  Old Machine\n",
       "0         42.1         42.7\n",
       "1         41.0         43.6\n",
       "2         41.3         43.8\n",
       "3         41.8         43.3\n",
       "4         42.4         42.5\n",
       "5         42.8         43.5\n",
       "6         43.2         43.1\n",
       "7         42.3         41.7\n",
       "8         41.8         44.0\n",
       "9         42.7         44.1"
      ]
     },
     "execution_count": 13,
     "metadata": {},
     "output_type": "execute_result"
    }
   ],
   "source": [
    "delete_spaces(machine_data)"
   ]
  },
  {
   "cell_type": "code",
   "execution_count": 14,
   "id": "d5440c94",
   "metadata": {},
   "outputs": [
    {
     "data": {
      "text/plain": [
       "Index(['New Machine', 'Old Machine'], dtype='object')"
      ]
     },
     "execution_count": 14,
     "metadata": {},
     "output_type": "execute_result"
    }
   ],
   "source": [
    "machine_data.columns"
   ]
  },
  {
   "cell_type": "code",
   "execution_count": 15,
   "id": "f049d60c",
   "metadata": {},
   "outputs": [],
   "source": [
    "old_machine = machine_data['Old Machine'] \n",
    "avg_old_machine = old_machine = machine_data['Old Machine'].mean() "
   ]
  },
  {
   "cell_type": "code",
   "execution_count": 16,
   "id": "64981ab6",
   "metadata": {},
   "outputs": [
    {
     "data": {
      "text/plain": [
       "43.230000000000004"
      ]
     },
     "execution_count": 16,
     "metadata": {},
     "output_type": "execute_result"
    }
   ],
   "source": [
    "avg_old_machine = machine_data['Old Machine'].mean()\n",
    "avg_old_machine"
   ]
  },
  {
   "cell_type": "code",
   "execution_count": 17,
   "id": "6b28408a",
   "metadata": {},
   "outputs": [],
   "source": [
    "new_machine_std= machine_data['New Machine'].std()"
   ]
  },
  {
   "cell_type": "code",
   "execution_count": 18,
   "id": "a2982a47",
   "metadata": {},
   "outputs": [
    {
     "data": {
      "text/plain": [
       "0.68"
      ]
     },
     "execution_count": 18,
     "metadata": {},
     "output_type": "execute_result"
    }
   ],
   "source": [
    "round(new_machine_std,2)"
   ]
  },
  {
   "cell_type": "code",
   "execution_count": 19,
   "id": "2b0353d7",
   "metadata": {},
   "outputs": [
    {
     "data": {
      "text/plain": [
       "0.75"
      ]
     },
     "execution_count": 19,
     "metadata": {},
     "output_type": "execute_result"
    }
   ],
   "source": [
    "old_machine_std= machine_data['Old Machine'].std()\n",
    "round(old_machine_std,2)"
   ]
  },
  {
   "cell_type": "code",
   "execution_count": 20,
   "id": "2bca6e6d",
   "metadata": {},
   "outputs": [],
   "source": [
    "import numpy as np"
   ]
  },
  {
   "cell_type": "code",
   "execution_count": 27,
   "id": "8a0d5bc4",
   "metadata": {},
   "outputs": [
    {
     "name": "stdout",
     "output_type": "stream",
     "text": [
      "Our t statistic is: 3.40\n"
     ]
    }
   ],
   "source": [
    "t_value = (avg_old_machine-avg_new_machine)/ np.sqrt( ((new_machine_std**2)/10 + ((old_machine_std**2)/10)))\n",
    "print(\"Our t statistic is: {:.2f}\".format(t_value))"
   ]
  },
  {
   "cell_type": "code",
   "execution_count": 26,
   "id": "d49fb2dd",
   "metadata": {},
   "outputs": [
    {
     "name": "stdout",
     "output_type": "stream",
     "text": [
      "The tc critical value is: 1.83\n"
     ]
    }
   ],
   "source": [
    "tc = stats.t.ppf(1-(0.05),df=9) \n",
    "\n",
    "print(\"The tc critical value is: {:.2f}\".format(tc))"
   ]
  },
  {
   "cell_type": "code",
   "execution_count": 28,
   "id": "993d6fdb",
   "metadata": {},
   "outputs": [
    {
     "data": {
      "text/plain": [
       "True"
      ]
     },
     "execution_count": 28,
     "metadata": {},
     "output_type": "execute_result"
    }
   ],
   "source": [
    "t_value > tc"
   ]
  },
  {
   "cell_type": "markdown",
   "id": "bb9588ff",
   "metadata": {},
   "source": [
    "The H0 is rejected."
   ]
  }
 ],
 "metadata": {
  "kernelspec": {
   "display_name": "Python 3 (ipykernel)",
   "language": "python",
   "name": "python3"
  },
  "language_info": {
   "codemirror_mode": {
    "name": "ipython",
    "version": 3
   },
   "file_extension": ".py",
   "mimetype": "text/x-python",
   "name": "python",
   "nbconvert_exporter": "python",
   "pygments_lexer": "ipython3",
   "version": "3.9.7"
  }
 },
 "nbformat": 4,
 "nbformat_minor": 5
}
