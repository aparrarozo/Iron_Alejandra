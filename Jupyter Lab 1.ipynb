{
 "cells": [
  {
   "cell_type": "markdown",
   "id": "70eb690c",
   "metadata": {},
   "source": [
    "# Post Ironhack vacation dream"
   ]
  },
  {
   "cell_type": "markdown",
   "id": "06192831",
   "metadata": {},
   "source": [
    "What would you do if you were a millionaire once you finished the bootcamp?"
   ]
  },
  {
   "cell_type": "code",
   "execution_count": null,
   "id": "9d4ec71c",
   "metadata": {},
   "outputs": [],
   "source": [
    "input(\"Enter your name, Ironhacker: \")"
   ]
  },
  {
   "cell_type": "markdown",
   "id": "0b4d728a",
   "metadata": {},
   "source": [
    "![alt text](https://scontent.ftxl2-1.fna.fbcdn.net/v/t1.6435-9/52830896_2120758724634048_8298482161447600128_n.jpg?_nc_cat=101&ccb=1-5&_nc_sid=09cbfe&_nc_ohc=pTSv39matH4AX-QOgim&_nc_ht=scontent.ftxl2-1.fna&oh=00_AT-TsLGAwHzCpK68fthcTGHMq2YGb0VrbahkM4afpFcMbQ&oe=6202ABC0)"
   ]
  },
  {
   "cell_type": "code",
   "execution_count": null,
   "id": "a8cd14d4",
   "metadata": {},
   "outputs": [],
   "source": [
    "input(\"Where would you like to go to recover from the bootcamp experience? \")"
   ]
  },
  {
   "cell_type": "markdown",
   "id": "f7129c8b",
   "metadata": {},
   "source": [
    "![alt text](https://trainsplanesandtuktuks.com/Wordpress/wp-content/uploads/2019/02/DSC02796-edited.jpg)"
   ]
  },
  {
   "cell_type": "markdown",
   "id": "1cd35ea3",
   "metadata": {},
   "source": [
    "<h1><span style=\"color:brown\">Fabulous things to do here: </span></h1>\n",
    "\n",
    "- <span style=\"color:orange\"> Eating green mango out of a passionfruit every single day</span><br> \n",
    "- <span style=\"color:green\"> See spectacular landscapes</span><br> \n",
    "- <span style=\"color:purple\"> Walk for hours and swim under waterfalls</span><br>  "
   ]
  },
  {
   "cell_type": "code",
   "execution_count": null,
   "id": "ca1c2873",
   "metadata": {},
   "outputs": [],
   "source": [
    "HTML('<iframe width=\"790\" height=\"444\" src=\"https://www.youtube.com/embed/hVke3_S__Ww\" title=\"YouTube video player\" frameborder=\"0\" allow=\"accelerometer; autoplay; clipboard-write; encrypted-media; gyroscope; picture-in-picture\" allowfullscreen></iframe>')"
   ]
  },
  {
   "cell_type": "code",
   "execution_count": null,
   "id": "de426932",
   "metadata": {},
   "outputs": [],
   "source": []
  },
  {
   "cell_type": "code",
   "execution_count": null,
   "id": "61b8c8c3",
   "metadata": {},
   "outputs": [],
   "source": []
  }
 ],
 "metadata": {
  "kernelspec": {
   "display_name": "Python 3 (ipykernel)",
   "language": "python",
   "name": "python3"
  },
  "language_info": {
   "codemirror_mode": {
    "name": "ipython",
    "version": 3
   },
   "file_extension": ".py",
   "mimetype": "text/x-python",
   "name": "python",
   "nbconvert_exporter": "python",
   "pygments_lexer": "ipython3",
   "version": "3.9.7"
  }
 },
 "nbformat": 4,
 "nbformat_minor": 5
}
