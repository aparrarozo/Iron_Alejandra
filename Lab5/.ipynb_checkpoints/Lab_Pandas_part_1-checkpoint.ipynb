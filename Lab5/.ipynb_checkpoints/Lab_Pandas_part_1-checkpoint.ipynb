{
 "cells": [
  {
   "cell_type": "markdown",
   "metadata": {
    "id": "N1YkD9XI6Fg3"
   },
   "source": [
    "# Using Pandas"
   ]
  },
  {
   "cell_type": "code",
   "execution_count": 2,
   "metadata": {
    "executionInfo": {
     "elapsed": 4,
     "status": "ok",
     "timestamp": 1623140082185,
     "user": {
      "displayName": "Ignacio Soteras",
      "photoUrl": "",
      "userId": "02050793736257155229"
     },
     "user_tz": -120
    },
    "id": "jL4kjGt66Fg5"
   },
   "outputs": [],
   "source": [
    "import pandas as pd\n",
    "import numpy as np\n",
    "pd.set_option('display.max_rows', 200)\n",
    "## to make it possible to display multiple output inside one cell \n",
    "from IPython.core.interactiveshell import InteractiveShell\n",
    "InteractiveShell.ast_node_interactivity = \"all\""
   ]
  },
  {
   "cell_type": "markdown",
   "metadata": {},
   "source": [
    "<b>load the data from the vehicles.csv file into pandas data frame"
   ]
  },
  {
   "cell_type": "code",
   "execution_count": 3,
   "metadata": {
    "executionInfo": {
     "elapsed": 1346,
     "status": "ok",
     "timestamp": 1623140174431,
     "user": {
      "displayName": "Ignacio Soteras",
      "photoUrl": "",
      "userId": "02050793736257155229"
     },
     "user_tz": -120
    },
    "id": "GVHPs2Qa6Fg5"
   },
   "outputs": [
    {
     "data": {
      "text/html": [
       "<div>\n",
       "<style scoped>\n",
       "    .dataframe tbody tr th:only-of-type {\n",
       "        vertical-align: middle;\n",
       "    }\n",
       "\n",
       "    .dataframe tbody tr th {\n",
       "        vertical-align: top;\n",
       "    }\n",
       "\n",
       "    .dataframe thead th {\n",
       "        text-align: right;\n",
       "    }\n",
       "</style>\n",
       "<table border=\"1\" class=\"dataframe\">\n",
       "  <thead>\n",
       "    <tr style=\"text-align: right;\">\n",
       "      <th></th>\n",
       "      <th>Make</th>\n",
       "      <th>Model</th>\n",
       "      <th>Year</th>\n",
       "      <th>Engine Displacement</th>\n",
       "      <th>Cylinders</th>\n",
       "      <th>Transmission</th>\n",
       "      <th>Drivetrain</th>\n",
       "      <th>Vehicle Class</th>\n",
       "      <th>Fuel Type</th>\n",
       "      <th>Fuel Barrels/Year</th>\n",
       "      <th>City MPG</th>\n",
       "      <th>Highway MPG</th>\n",
       "      <th>Combined MPG</th>\n",
       "      <th>CO2 Emission Grams/Mile</th>\n",
       "      <th>Fuel Cost/Year</th>\n",
       "    </tr>\n",
       "  </thead>\n",
       "  <tbody>\n",
       "    <tr>\n",
       "      <th>0</th>\n",
       "      <td>AM General</td>\n",
       "      <td>DJ Po Vehicle 2WD</td>\n",
       "      <td>1984</td>\n",
       "      <td>2.5</td>\n",
       "      <td>4.0</td>\n",
       "      <td>Automatic 3-spd</td>\n",
       "      <td>2-Wheel Drive</td>\n",
       "      <td>Special Purpose Vehicle 2WD</td>\n",
       "      <td>Regular</td>\n",
       "      <td>19.388824</td>\n",
       "      <td>18</td>\n",
       "      <td>17</td>\n",
       "      <td>17</td>\n",
       "      <td>522.764706</td>\n",
       "      <td>1950</td>\n",
       "    </tr>\n",
       "    <tr>\n",
       "      <th>1</th>\n",
       "      <td>AM General</td>\n",
       "      <td>FJ8c Post Office</td>\n",
       "      <td>1984</td>\n",
       "      <td>4.2</td>\n",
       "      <td>6.0</td>\n",
       "      <td>Automatic 3-spd</td>\n",
       "      <td>2-Wheel Drive</td>\n",
       "      <td>Special Purpose Vehicle 2WD</td>\n",
       "      <td>Regular</td>\n",
       "      <td>25.354615</td>\n",
       "      <td>13</td>\n",
       "      <td>13</td>\n",
       "      <td>13</td>\n",
       "      <td>683.615385</td>\n",
       "      <td>2550</td>\n",
       "    </tr>\n",
       "    <tr>\n",
       "      <th>2</th>\n",
       "      <td>AM General</td>\n",
       "      <td>Post Office DJ5 2WD</td>\n",
       "      <td>1985</td>\n",
       "      <td>2.5</td>\n",
       "      <td>4.0</td>\n",
       "      <td>Automatic 3-spd</td>\n",
       "      <td>Rear-Wheel Drive</td>\n",
       "      <td>Special Purpose Vehicle 2WD</td>\n",
       "      <td>Regular</td>\n",
       "      <td>20.600625</td>\n",
       "      <td>16</td>\n",
       "      <td>17</td>\n",
       "      <td>16</td>\n",
       "      <td>555.437500</td>\n",
       "      <td>2100</td>\n",
       "    </tr>\n",
       "    <tr>\n",
       "      <th>3</th>\n",
       "      <td>AM General</td>\n",
       "      <td>Post Office DJ8 2WD</td>\n",
       "      <td>1985</td>\n",
       "      <td>4.2</td>\n",
       "      <td>6.0</td>\n",
       "      <td>Automatic 3-spd</td>\n",
       "      <td>Rear-Wheel Drive</td>\n",
       "      <td>Special Purpose Vehicle 2WD</td>\n",
       "      <td>Regular</td>\n",
       "      <td>25.354615</td>\n",
       "      <td>13</td>\n",
       "      <td>13</td>\n",
       "      <td>13</td>\n",
       "      <td>683.615385</td>\n",
       "      <td>2550</td>\n",
       "    </tr>\n",
       "    <tr>\n",
       "      <th>4</th>\n",
       "      <td>ASC Incorporated</td>\n",
       "      <td>GNX</td>\n",
       "      <td>1987</td>\n",
       "      <td>3.8</td>\n",
       "      <td>6.0</td>\n",
       "      <td>Automatic 4-spd</td>\n",
       "      <td>Rear-Wheel Drive</td>\n",
       "      <td>Midsize Cars</td>\n",
       "      <td>Premium</td>\n",
       "      <td>20.600625</td>\n",
       "      <td>14</td>\n",
       "      <td>21</td>\n",
       "      <td>16</td>\n",
       "      <td>555.437500</td>\n",
       "      <td>2550</td>\n",
       "    </tr>\n",
       "  </tbody>\n",
       "</table>\n",
       "</div>"
      ],
      "text/plain": [
       "               Make                Model  Year  Engine Displacement  \\\n",
       "0        AM General    DJ Po Vehicle 2WD  1984                  2.5   \n",
       "1        AM General     FJ8c Post Office  1984                  4.2   \n",
       "2        AM General  Post Office DJ5 2WD  1985                  2.5   \n",
       "3        AM General  Post Office DJ8 2WD  1985                  4.2   \n",
       "4  ASC Incorporated                  GNX  1987                  3.8   \n",
       "\n",
       "   Cylinders     Transmission        Drivetrain                Vehicle Class  \\\n",
       "0        4.0  Automatic 3-spd     2-Wheel Drive  Special Purpose Vehicle 2WD   \n",
       "1        6.0  Automatic 3-spd     2-Wheel Drive  Special Purpose Vehicle 2WD   \n",
       "2        4.0  Automatic 3-spd  Rear-Wheel Drive  Special Purpose Vehicle 2WD   \n",
       "3        6.0  Automatic 3-spd  Rear-Wheel Drive  Special Purpose Vehicle 2WD   \n",
       "4        6.0  Automatic 4-spd  Rear-Wheel Drive                 Midsize Cars   \n",
       "\n",
       "  Fuel Type  Fuel Barrels/Year  City MPG  Highway MPG  Combined MPG  \\\n",
       "0   Regular          19.388824        18           17            17   \n",
       "1   Regular          25.354615        13           13            13   \n",
       "2   Regular          20.600625        16           17            16   \n",
       "3   Regular          25.354615        13           13            13   \n",
       "4   Premium          20.600625        14           21            16   \n",
       "\n",
       "   CO2 Emission Grams/Mile  Fuel Cost/Year  \n",
       "0               522.764706            1950  \n",
       "1               683.615385            2550  \n",
       "2               555.437500            2100  \n",
       "3               683.615385            2550  \n",
       "4               555.437500            2550  "
      ]
     },
     "execution_count": 3,
     "metadata": {},
     "output_type": "execute_result"
    }
   ],
   "source": [
    "## Your Code here\n",
    "cars = pd.read_csv(\"vehicles.csv\")\n",
    "cars.head()"
   ]
  },
  {
   "cell_type": "markdown",
   "metadata": {
    "id": "Yk72_YtZ6Fg5"
   },
   "source": [
    "First exploration of the dataset:\n",
    "\n",
    "- How many observations does it have?\n",
    "- Look at all the columns: do you understand what they mean?\n",
    "- Look at the raw data: do you see anything weird?\n",
    "- Look at the data types: are they the expected ones for the information the column contains?"
   ]
  },
  {
   "cell_type": "code",
   "execution_count": 3,
   "metadata": {
    "colab": {
     "base_uri": "https://localhost:8080/"
    },
    "executionInfo": {
     "elapsed": 226,
     "status": "ok",
     "timestamp": 1623140221705,
     "user": {
      "displayName": "Ignacio Soteras",
      "photoUrl": "",
      "userId": "02050793736257155229"
     },
     "user_tz": -120
    },
    "id": "-FT85oMVPxlW",
    "outputId": "c9f5d2c8-d3c2-4acc-edec-914a92c7f60b"
   },
   "outputs": [
    {
     "data": {
      "text/plain": [
       "(35952, 15)"
      ]
     },
     "execution_count": 3,
     "metadata": {},
     "output_type": "execute_result"
    }
   ],
   "source": [
    "## Your Code here\n",
    "cars.shape"
   ]
  },
  {
   "cell_type": "code",
   "execution_count": 4,
   "metadata": {},
   "outputs": [
    {
     "name": "stdout",
     "output_type": "stream",
     "text": [
      "<class 'pandas.core.frame.DataFrame'>\n",
      "RangeIndex: 35952 entries, 0 to 35951\n",
      "Data columns (total 15 columns):\n",
      " #   Column                   Non-Null Count  Dtype  \n",
      "---  ------                   --------------  -----  \n",
      " 0   Make                     35952 non-null  object \n",
      " 1   Model                    35952 non-null  object \n",
      " 2   Year                     35952 non-null  int64  \n",
      " 3   Engine Displacement      35952 non-null  float64\n",
      " 4   Cylinders                35952 non-null  float64\n",
      " 5   Transmission             35952 non-null  object \n",
      " 6   Drivetrain               35952 non-null  object \n",
      " 7   Vehicle Class            35952 non-null  object \n",
      " 8   Fuel Type                35952 non-null  object \n",
      " 9   Fuel Barrels/Year        35952 non-null  float64\n",
      " 10  City MPG                 35952 non-null  int64  \n",
      " 11  Highway MPG              35952 non-null  int64  \n",
      " 12  Combined MPG             35952 non-null  int64  \n",
      " 13  CO2 Emission Grams/Mile  35952 non-null  float64\n",
      " 14  Fuel Cost/Year           35952 non-null  int64  \n",
      "dtypes: float64(4), int64(5), object(6)\n",
      "memory usage: 4.1+ MB\n"
     ]
    }
   ],
   "source": [
    "cars.info()"
   ]
  },
  {
   "cell_type": "markdown",
   "metadata": {
    "id": "tqcFYXUk6Fg6"
   },
   "source": [
    "### Cleaning and wrangling data\n",
    "\n",
    "- Some car brand names refer to the same brand. Replace all brand names that contain the word \"Dutton\" for simply \"Dutton\". If you find similar examples, clean their names too. Use `loc` with boolean indexing.\n",
    "\n",
    "- Convert CO2 Emissions from Grams/Mile to Grams/Km\n",
    "\n",
    "- Create a binary column that solely indicates if the transmission of a car is automatic or manual. Use `pandas.Series.str.startswith` and .\n",
    "\n",
    "- convert MPG columns to km_per_liter"
   ]
  },
  {
   "cell_type": "code",
   "execution_count": 4,
   "metadata": {
    "colab": {
     "base_uri": "https://localhost:8080/"
    },
    "executionInfo": {
     "elapsed": 239,
     "status": "ok",
     "timestamp": 1623140685861,
     "user": {
      "displayName": "Ignacio Soteras",
      "photoUrl": "",
      "userId": "02050793736257155229"
     },
     "user_tz": -120
    },
    "id": "jPtYqxszRc_h",
    "outputId": "b7a82779-98d2-4f55-e8d7-4a9202cc1274"
   },
   "outputs": [],
   "source": [
    "## Your Code here\n",
    "cars[\"Make\"] = list(map(lambda x:\"Dutton\" if (\"Dutton\"in x) else x, cars[\"Make\"]))"
   ]
  },
  {
   "cell_type": "code",
   "execution_count": 5,
   "metadata": {},
   "outputs": [
    {
     "data": {
      "text/plain": [
       "Int64Index([11012, 30164, 31754], dtype='int64')"
      ]
     },
     "execution_count": 5,
     "metadata": {},
     "output_type": "execute_result"
    }
   ],
   "source": [
    "cars.index[np.where(cars['Make'] == 'Dutton')]"
   ]
  },
  {
   "cell_type": "code",
   "execution_count": 6,
   "metadata": {},
   "outputs": [
    {
     "data": {
      "text/plain": [
       "'Dutton'"
      ]
     },
     "execution_count": 6,
     "metadata": {},
     "output_type": "execute_result"
    }
   ],
   "source": [
    "cars.loc[11012,\"Make\"]"
   ]
  },
  {
   "cell_type": "code",
   "execution_count": 7,
   "metadata": {},
   "outputs": [],
   "source": [
    "cars[\"Make\"] = list(map(lambda x:\"AM General\" if (\"American Motors Corporation\"in x) else x, cars[\"Make\"]))"
   ]
  },
  {
   "cell_type": "code",
   "execution_count": 8,
   "metadata": {},
   "outputs": [],
   "source": [
    "cars[\"Make\"] = list(map(lambda x:\"BMW\" if (\"BMW\"in x) else x, cars[\"Make\"]))"
   ]
  },
  {
   "cell_type": "code",
   "execution_count": 9,
   "metadata": {},
   "outputs": [],
   "source": [
    "cars[\"Make\"] = list(map(lambda x:\"Saleen\" if (\"Saleen\"in x) else x, cars[\"Make\"]))"
   ]
  },
  {
   "cell_type": "code",
   "execution_count": 10,
   "metadata": {},
   "outputs": [],
   "source": [
    "cars[\"Make\"] = list(map(lambda x:\"Panoz Auto- Development\" if (\"Pano\"in x) else x, cars[\"Make\"]))"
   ]
  },
  {
   "cell_type": "code",
   "execution_count": 11,
   "metadata": {},
   "outputs": [
    {
     "data": {
      "text/plain": [
       "array(['AM General', 'ASC Incorporated', 'Acura', 'Alfa Romeo',\n",
       "       'Aston Martin', 'Audi', 'Aurora Cars Ltd', 'Autokraft Limited',\n",
       "       'BMW', 'Bentley', 'Bertone', 'Bill Dovell Motor Car Company',\n",
       "       'Bitter Gmbh and Co. Kg', 'Bugatti', 'Buick', 'CCC Engineering',\n",
       "       'CX Automotive', 'Cadillac', 'Chevrolet', 'Chrysler',\n",
       "       'Consulier Industries Inc', 'Dabryan Coach Builders Inc', 'Dacia',\n",
       "       'Daewoo', 'Daihatsu', 'Dodge', 'Dutton', 'Eagle',\n",
       "       'Environmental Rsch and Devp Corp', 'Evans Automobiles',\n",
       "       'Excalibur Autos', 'Federal Coach', 'Ferrari', 'Fiat', 'Fisker',\n",
       "       'Ford', 'GMC', 'General Motors', 'Genesis', 'Geo', 'Goldacre',\n",
       "       'Grumman Allied Industries', 'Grumman Olson', 'Honda', 'Hummer',\n",
       "       'Hyundai', 'Import Foreign Auto Sales Inc',\n",
       "       'Import Trade Services', 'Infiniti', 'Isis Imports Ltd', 'Isuzu',\n",
       "       'J.K. Motors', 'JBA Motorcars, Inc.', 'Jaguar', 'Jeep', 'Kia',\n",
       "       'Laforza Automobile Inc', 'Lambda Control Systems', 'Lamborghini',\n",
       "       'Land Rover', 'Lexus', 'Lincoln', 'London Coach Co Inc',\n",
       "       'London Taxi', 'Lotus', 'MINI', 'Mahindra', 'Maserati', 'Maybach',\n",
       "       'Mazda', 'McLaren Automotive', 'Mcevoy Motors', 'Mercedes-Benz',\n",
       "       'Mercury', 'Merkur', 'Mitsubishi', 'Mobility Ventures LLC',\n",
       "       'Morgan', 'Nissan', 'Oldsmobile', 'PAS Inc - GMC', 'PAS, Inc',\n",
       "       'Pagani', 'Panoz Auto- Development', 'Panther Car Company Limited',\n",
       "       'Peugeot', 'Pininfarina', 'Plymouth', 'Pontiac', 'Porsche',\n",
       "       'Quantum Technologies', 'Qvale', 'Ram', 'Red Shift Ltd.',\n",
       "       'Renault', 'Rolls-Royce', 'Roush Performance',\n",
       "       'Ruf Automobile Gmbh', 'SRT', 'Saab', 'Saleen', 'Saturn', 'Scion',\n",
       "       'Shelby', 'Spyker', 'Sterling', 'Subaru', 'Suzuki',\n",
       "       'TVR Engineering Ltd', 'Tecstar, LP', 'Texas Coach Company',\n",
       "       'Toyota', 'VPG', 'Vector', 'Vixen Motor Company',\n",
       "       'Volga Associated Automobile', 'Volkswagen', 'Volvo',\n",
       "       'Wallace Environmental', 'Yugo', 'smart'], dtype=object)"
      ]
     },
     "execution_count": 11,
     "metadata": {},
     "output_type": "execute_result"
    }
   ],
   "source": [
    "cars[\"Make\"].unique()"
   ]
  },
  {
   "cell_type": "code",
   "execution_count": 13,
   "metadata": {},
   "outputs": [
    {
     "data": {
      "text/plain": [
       "Chevrolet                           3643\n",
       "Ford                                2946\n",
       "Dodge                               2360\n",
       "GMC                                 2347\n",
       "Toyota                              1836\n",
       "BMW                                 1680\n",
       "Mercedes-Benz                       1284\n",
       "Nissan                              1253\n",
       "Volkswagen                          1047\n",
       "Mitsubishi                           950\n",
       "Mazda                                915\n",
       "Audi                                 890\n",
       "Porsche                              862\n",
       "Honda                                836\n",
       "Jeep                                 829\n",
       "Pontiac                              784\n",
       "Subaru                               781\n",
       "Volvo                                717\n",
       "Hyundai                              662\n",
       "Chrysler                             641\n",
       "Buick                                537\n",
       "Mercury                              532\n",
       "Suzuki                               512\n",
       "Cadillac                             508\n",
       "Kia                                  493\n",
       "Plymouth                             456\n",
       "Saab                                 410\n",
       "Isuzu                                409\n",
       "Lexus                                397\n",
       "Oldsmobile                           376\n",
       "Infiniti                             345\n",
       "Jaguar                               343\n",
       "MINI                                 320\n",
       "Acura                                302\n",
       "Saturn                               278\n",
       "Lincoln                              273\n",
       "Ferrari                              208\n",
       "Rolls-Royce                          160\n",
       "Eagle                                156\n",
       "Geo                                  144\n",
       "Land Rover                           142\n",
       "Aston Martin                         133\n",
       "Bentley                              116\n",
       "Maserati                             111\n",
       "Lamborghini                          104\n",
       "Scion                                 83\n",
       "Peugeot                               74\n",
       "Daewoo                                67\n",
       "Ram                                   57\n",
       "Roush Performance                     53\n",
       "Lotus                                 53\n",
       "Fiat                                  43\n",
       "Alfa Romeo                            41\n",
       "J.K. Motors                           36\n",
       "Renault                               33\n",
       "Wallace Environmental                 32\n",
       "Maybach                               31\n",
       "AM General                            26\n",
       "smart                                 20\n",
       "Hummer                                19\n",
       "Daihatsu                              17\n",
       "CX Automotive                         16\n",
       "Federal Coach                         14\n",
       "Merkur                                14\n",
       "McLaren Automotive                    13\n",
       "Spyker                                13\n",
       "Import Trade Services                 13\n",
       "Sterling                              12\n",
       "Saleen                                 9\n",
       "Bugatti                                8\n",
       "Yugo                                   8\n",
       "Genesis                                7\n",
       "Tecstar, LP                            6\n",
       "Mcevoy Motors                          6\n",
       "VPG                                    5\n",
       "Bertone                                5\n",
       "TVR Engineering Ltd                    4\n",
       "Vector                                 4\n",
       "Panther Car Company Limited            4\n",
       "Autokraft Limited                      4\n",
       "Texas Coach Company                    4\n",
       "Grumman Olson                          4\n",
       "Consulier Industries Inc               3\n",
       "Morgan                                 3\n",
       "Evans Automobiles                      3\n",
       "Dabryan Coach Builders Inc             3\n",
       "Dacia                                  3\n",
       "Bitter Gmbh and Co. Kg                 3\n",
       "Dutton                                 3\n",
       "Red Shift Ltd.                         2\n",
       "SRT                                    2\n",
       "CCC Engineering                        2\n",
       "Ruf Automobile Gmbh                    2\n",
       "PAS, Inc                               2\n",
       "Quantum Technologies                   2\n",
       "Laforza Automobile Inc                 2\n",
       "Pininfarina                            2\n",
       "Panoz Auto- Development                2\n",
       "Pagani                                 2\n",
       "PAS Inc - GMC                          2\n",
       "Mobility Ventures LLC                  2\n",
       "Bill Dovell Motor Car Company          2\n",
       "Aurora Cars Ltd                        1\n",
       "Volga Associated Automobile            1\n",
       "Vixen Motor Company                    1\n",
       "Lambda Control Systems                 1\n",
       "Shelby                                 1\n",
       "Qvale                                  1\n",
       "Excalibur Autos                        1\n",
       "Fisker                                 1\n",
       "General Motors                         1\n",
       "Goldacre                               1\n",
       "Grumman Allied Industries              1\n",
       "Import Foreign Auto Sales Inc          1\n",
       "Mahindra                               1\n",
       "Isis Imports Ltd                       1\n",
       "London Taxi                            1\n",
       "London Coach Co Inc                    1\n",
       "JBA Motorcars, Inc.                    1\n",
       "ASC Incorporated                       1\n",
       "Environmental Rsch and Devp Corp       1\n",
       "Name: Make, dtype: int64"
      ]
     },
     "execution_count": 13,
     "metadata": {},
     "output_type": "execute_result"
    }
   ],
   "source": [
    "cars[\"Make\"].value_counts()"
   ]
  },
  {
   "cell_type": "markdown",
   "metadata": {
    "id": "e_r1ZfaxWfaq"
   },
   "source": [
    "Converting Grams/Mile to Grams/Km\n",
    "\n",
    "1 Mile = 1.60934 Km\n",
    "\n",
    "Grams/Mile * Mile/Km -> Grams/Mile * 1 Mile/1.60934Km\n",
    "\n",
    "$$ \\frac{Grams}{Mile} * \\frac{Mile}{Km} $$\n",
    "\n",
    "$$ \\frac{Grams}{Mile} * \\frac{1 Mile}{1.60934Km}  $$"
   ]
  },
  {
   "cell_type": "code",
   "execution_count": 13,
   "metadata": {},
   "outputs": [],
   "source": [
    "cars[\"CO2 Emissions Grams/Km\"]= list(map(lambda x: x/1.60934, cars[\"CO2 Emission Grams/Mile\"]))"
   ]
  },
  {
   "cell_type": "markdown",
   "metadata": {
    "id": "R-jWHEisa3nF"
   },
   "source": [
    "convert MPG columns to km_per_liter\n",
    "\n",
    "MPG = Miles/Gallon -> Km/Liter\n",
    "\n",
    "1 Mile = 1.60934 Km\n",
    "\n",
    "1 Gallon = 3.78541 Liters\n",
    "\n",
    "$$ \\frac{Miles}{Gallon} -> \\frac{Miles}{Gallon} * \\frac{Km}{Miles} * \\frac{Gallon}{Liters}$$\n",
    "\n",
    "$$ \\frac{Miles}{Gallon} -> \\frac{Miles}{Gallon} * \\frac{1.60934Km}{ 1Miles} * \\frac{1 Gallon}{3.78541 Liters}$$\n",
    "\n",
    "* ( 1.60934 / 3.78541 )\n"
   ]
  },
  {
   "cell_type": "code",
   "execution_count": 14,
   "metadata": {},
   "outputs": [],
   "source": [
    "cars[\"City MPG\"]= list(map(lambda x: x*(1.60934/3.78541) , cars[\"City MPG\"]))\n",
    "cars[\"Highway MPG\"]= list(map(lambda x:x*(1.60934/3.78541) , cars[\"Highway MPG\"]))\n",
    "cars[\"Combined MPG\"]= list(map(lambda x: x*(1.60934/3.78541) , cars[\"Combined MPG\"]))\n"
   ]
  },
  {
   "cell_type": "markdown",
   "metadata": {
    "id": "SRZZJAPQ6Fg6"
   },
   "source": [
    "### Gathering insights:\n",
    "\n",
    "- How many car makers are there? How many models? Which car maker has the most cars in the dataset?\n",
    "\n",
    "- When were these cars made? How big is the engine of these cars?\n",
    "\n",
    "- What's the frequency of different transmissions, drivetrains and fuel types?\n",
    "\n",
    "- What's the car that consumes the least/most fuel?"
   ]
  },
  {
   "cell_type": "code",
   "execution_count": 15,
   "metadata": {},
   "outputs": [
    {
     "name": "stdout",
     "output_type": "stream",
     "text": [
      "121\n",
      "3608\n"
     ]
    }
   ],
   "source": [
    "# How many car makes\n",
    "numb_unique_makes = len((cars[\"Make\"].unique()))\n",
    "\n",
    "#How many models\n",
    "num_models = len((cars[\"Model\"].unique()))\n",
    "\n",
    "print(numb_unique_makes)\n",
    "print(num_models)"
   ]
  },
  {
   "cell_type": "code",
   "execution_count": 16,
   "metadata": {
    "colab": {
     "base_uri": "https://localhost:8080/"
    },
    "executionInfo": {
     "elapsed": 346,
     "status": "ok",
     "timestamp": 1623143226628,
     "user": {
      "displayName": "Ignacio Soteras",
      "photoUrl": "",
      "userId": "02050793736257155229"
     },
     "user_tz": -120
    },
    "id": "LS-EOV3f6Fg7",
    "outputId": "7244f51d-279e-4a71-ba35-63d2969f5a74"
   },
   "outputs": [
    {
     "data": {
      "text/plain": [
       "'Chevrolet'"
      ]
     },
     "execution_count": 16,
     "metadata": {},
     "output_type": "execute_result"
    }
   ],
   "source": [
    "#Who has the most cars per make\n",
    "cars[\"Make\"].value_counts().index[0]"
   ]
  },
  {
   "cell_type": "markdown",
   "metadata": {
    "id": "rcSnpI3I6Fg8"
   },
   "source": [
    "#### What brand has the worse CO2 Emissions on average?\n",
    "Hint: use the function `sort_values()`"
   ]
  },
  {
   "cell_type": "code",
   "execution_count": 24,
   "metadata": {
    "colab": {
     "base_uri": "https://localhost:8080/",
     "height": 686
    },
    "executionInfo": {
     "elapsed": 270,
     "status": "ok",
     "timestamp": 1623145362738,
     "user": {
      "displayName": "Ignacio Soteras",
      "photoUrl": "",
      "userId": "02050793736257155229"
     },
     "user_tz": -120
    },
    "id": "SV2s8Lm66Fg8",
    "outputId": "ca1f005a-f090-4cec-952f-8e20d3193b46",
    "scrolled": true
   },
   "outputs": [
    {
     "data": {
      "text/plain": [
       "<pandas.core.groupby.generic.DataFrameGroupBy object at 0x7fc711734340>"
      ]
     },
     "execution_count": 24,
     "metadata": {},
     "output_type": "execute_result"
    }
   ],
   "source": [
    "cars.groupby('Make')"
   ]
  },
  {
   "cell_type": "code",
   "execution_count": 25,
   "metadata": {},
   "outputs": [],
   "source": [
    "# Group all cars by make \n",
    "grouping_by_make = cars.groupby('Make')\n"
   ]
  },
  {
   "cell_type": "code",
   "execution_count": 36,
   "metadata": {},
   "outputs": [
    {
     "data": {
      "text/plain": [
       "Make\n",
       "AM General                           522.004888\n",
       "ASC Incorporated                     555.437500\n",
       "Acura                                422.585325\n",
       "Alfa Romeo                           463.952115\n",
       "Aston Martin                         672.617776\n",
       "Audi                                 450.755841\n",
       "Aurora Cars Ltd                      592.466667\n",
       "Autokraft Limited                    539.101103\n",
       "BMW                                  457.671323\n",
       "Bentley                              686.046662\n",
       "Bertone                              403.954545\n",
       "Bill Dovell Motor Car Company        522.764706\n",
       "Bitter Gmbh and Co. Kg               567.780556\n",
       "Bugatti                              873.062500\n",
       "Buick                                434.463852\n",
       "CCC Engineering                      592.466667\n",
       "CX Automotive                        552.506980\n",
       "Cadillac                             496.281110\n",
       "Chevrolet                            512.679300\n",
       "Chrysler                             446.768491\n",
       "Consulier Industries Inc             423.190476\n",
       "Dabryan Coach Builders Inc           545.998693\n",
       "Dacia                                386.391304\n",
       "Daewoo                               387.757496\n",
       "Daihatsu                             310.188060\n",
       "Dodge                                554.504825\n",
       "Dutton                               766.721569\n",
       "Eagle                                411.148025\n",
       "Environmental Rsch and Devp Corp     555.437500\n",
       "Evans Automobiles                    467.736842\n",
       "Excalibur Autos                      634.785714\n",
       "Federal Coach                        580.308831\n",
       "Ferrari                              712.636348\n",
       "Fiat                                 304.666560\n",
       "Fisker                               169.000000\n",
       "Ford                                 515.466113\n",
       "GMC                                  571.491172\n",
       "General Motors                       493.722222\n",
       "Genesis                              464.142857\n",
       "Geo                                  337.077591\n",
       "Goldacre                             493.722222\n",
       "Grumman Allied Industries            522.764706\n",
       "Grumman Olson                        356.337423\n",
       "Honda                                357.532578\n",
       "Hummer                               588.012030\n",
       "Hyundai                              385.021692\n",
       "Import Foreign Auto Sales Inc        467.736842\n",
       "Import Trade Services                573.269904\n",
       "Infiniti                             461.852334\n",
       "Isis Imports Ltd                     444.350000\n",
       "Isuzu                                491.217383\n",
       "J.K. Motors                          629.243597\n",
       "JBA Motorcars, Inc.                  592.466667\n",
       "Jaguar                               493.394863\n",
       "Jeep                                 498.780679\n",
       "Kia                                  390.638805\n",
       "Laforza Automobile Inc               807.909091\n",
       "Lambda Control Systems               522.764706\n",
       "Lamborghini                          754.782498\n",
       "Land Rover                           600.735070\n",
       "Lexus                                442.954935\n",
       "Lincoln                              486.942827\n",
       "London Coach Co Inc                  555.437500\n",
       "London Taxi                          462.727273\n",
       "Lotus                                444.492590\n",
       "MINI                                 313.716862\n",
       "Mahindra                             509.000000\n",
       "Maserati                             620.700271\n",
       "Maybach                              729.557279\n",
       "Mazda                                421.322543\n",
       "McLaren Automotive                   489.209402\n",
       "Mcevoy Motors                        452.145614\n",
       "Mercedes-Benz                        501.183149\n",
       "Mercury                              436.918872\n",
       "Merkur                               491.473067\n",
       "Mitsubishi                           431.472106\n",
       "Mobility Ventures LLC                547.500000\n",
       "Morgan                               522.764706\n",
       "Nissan                               456.157392\n",
       "Oldsmobile                           440.716423\n",
       "PAS Inc - GMC                        592.466667\n",
       "PAS, Inc                             634.785714\n",
       "Pagani                               671.000000\n",
       "Panoz Auto- Development              498.210606\n",
       "Panther Car Company Limited          439.060119\n",
       "Peugeot                              469.227285\n",
       "Pininfarina                          435.845694\n",
       "Plymouth                             416.848378\n",
       "Pontiac                              414.427198\n",
       "Porsche                              463.810557\n",
       "Quantum Technologies                 423.190476\n",
       "Qvale                                423.190476\n",
       "Ram                                  480.164035\n",
       "Red Shift Ltd.                       386.391304\n",
       "Renault                              359.826496\n",
       "Rolls-Royce                          765.076650\n",
       "Roush Performance                    621.915131\n",
       "Ruf Automobile Gmbh                  683.615385\n",
       "SRT                                  607.000000\n",
       "Saab                                 443.488287\n",
       "Saleen                               624.612866\n",
       "Saturn                               376.315274\n",
       "Scion                                331.395918\n",
       "Shelby                               522.764706\n",
       "Spyker                               581.743288\n",
       "Sterling                             489.646084\n",
       "Subaru                               404.316062\n",
       "Suzuki                               392.747538\n",
       "TVR Engineering Ltd                  493.722222\n",
       "Tecstar, LP                          683.615385\n",
       "Texas Coach Company                  740.583333\n",
       "Toyota                               435.795803\n",
       "VPG                                  571.325897\n",
       "Vector                              1049.159722\n",
       "Vixen Motor Company                  636.250000\n",
       "Volga Associated Automobile          467.736842\n",
       "Volkswagen                           392.741721\n",
       "Volvo                                435.803755\n",
       "Wallace Environmental                657.990029\n",
       "Yugo                                 356.068256\n",
       "smart                                247.030556\n",
       "Name: CO2 Emission Grams/Mile, dtype: float64"
      ]
     },
     "execution_count": 36,
     "metadata": {},
     "output_type": "execute_result"
    }
   ],
   "source": [
    "# Calculate the average CO2 emissions per brand \n",
    "# Attention the result will be presented according to the make's order (in this case alphabetical) not the mean's\n",
    "\n",
    "grouping_by_make['CO2 Emission Grams/Mile'].mean()\n"
   ]
  },
  {
   "cell_type": "code",
   "execution_count": 37,
   "metadata": {},
   "outputs": [
    {
     "data": {
      "text/plain": [
       "Make\n",
       "Vector                              1049.159722\n",
       "Bugatti                              873.062500\n",
       "Laforza Automobile Inc               807.909091\n",
       "Dutton                               766.721569\n",
       "Rolls-Royce                          765.076650\n",
       "Lamborghini                          754.782498\n",
       "Texas Coach Company                  740.583333\n",
       "Maybach                              729.557279\n",
       "Ferrari                              712.636348\n",
       "Bentley                              686.046662\n",
       "Tecstar, LP                          683.615385\n",
       "Ruf Automobile Gmbh                  683.615385\n",
       "Aston Martin                         672.617776\n",
       "Pagani                               671.000000\n",
       "Wallace Environmental                657.990029\n",
       "Vixen Motor Company                  636.250000\n",
       "Excalibur Autos                      634.785714\n",
       "PAS, Inc                             634.785714\n",
       "J.K. Motors                          629.243597\n",
       "Saleen                               624.612866\n",
       "Roush Performance                    621.915131\n",
       "Maserati                             620.700271\n",
       "SRT                                  607.000000\n",
       "Land Rover                           600.735070\n",
       "CCC Engineering                      592.466667\n",
       "JBA Motorcars, Inc.                  592.466667\n",
       "Aurora Cars Ltd                      592.466667\n",
       "PAS Inc - GMC                        592.466667\n",
       "Hummer                               588.012030\n",
       "Spyker                               581.743288\n",
       "Federal Coach                        580.308831\n",
       "Import Trade Services                573.269904\n",
       "GMC                                  571.491172\n",
       "VPG                                  571.325897\n",
       "Bitter Gmbh and Co. Kg               567.780556\n",
       "ASC Incorporated                     555.437500\n",
       "Environmental Rsch and Devp Corp     555.437500\n",
       "London Coach Co Inc                  555.437500\n",
       "Dodge                                554.504825\n",
       "CX Automotive                        552.506980\n",
       "Mobility Ventures LLC                547.500000\n",
       "Dabryan Coach Builders Inc           545.998693\n",
       "Autokraft Limited                    539.101103\n",
       "Lambda Control Systems               522.764706\n",
       "Morgan                               522.764706\n",
       "Grumman Allied Industries            522.764706\n",
       "Shelby                               522.764706\n",
       "Bill Dovell Motor Car Company        522.764706\n",
       "AM General                           522.004888\n",
       "Ford                                 515.466113\n",
       "Chevrolet                            512.679300\n",
       "Mahindra                             509.000000\n",
       "Mercedes-Benz                        501.183149\n",
       "Jeep                                 498.780679\n",
       "Panoz Auto- Development              498.210606\n",
       "Cadillac                             496.281110\n",
       "Goldacre                             493.722222\n",
       "TVR Engineering Ltd                  493.722222\n",
       "General Motors                       493.722222\n",
       "Jaguar                               493.394863\n",
       "Merkur                               491.473067\n",
       "Isuzu                                491.217383\n",
       "Sterling                             489.646084\n",
       "McLaren Automotive                   489.209402\n",
       "Lincoln                              486.942827\n",
       "Ram                                  480.164035\n",
       "Peugeot                              469.227285\n",
       "Volga Associated Automobile          467.736842\n",
       "Import Foreign Auto Sales Inc        467.736842\n",
       "Evans Automobiles                    467.736842\n",
       "Genesis                              464.142857\n",
       "Alfa Romeo                           463.952115\n",
       "Porsche                              463.810557\n",
       "London Taxi                          462.727273\n",
       "Infiniti                             461.852334\n",
       "BMW                                  457.671323\n",
       "Nissan                               456.157392\n",
       "Mcevoy Motors                        452.145614\n",
       "Audi                                 450.755841\n",
       "Chrysler                             446.768491\n",
       "Lotus                                444.492590\n",
       "Isis Imports Ltd                     444.350000\n",
       "Saab                                 443.488287\n",
       "Lexus                                442.954935\n",
       "Oldsmobile                           440.716423\n",
       "Panther Car Company Limited          439.060119\n",
       "Mercury                              436.918872\n",
       "Pininfarina                          435.845694\n",
       "Volvo                                435.803755\n",
       "Toyota                               435.795803\n",
       "Buick                                434.463852\n",
       "Mitsubishi                           431.472106\n",
       "Qvale                                423.190476\n",
       "Consulier Industries Inc             423.190476\n",
       "Quantum Technologies                 423.190476\n",
       "Acura                                422.585325\n",
       "Mazda                                421.322543\n",
       "Plymouth                             416.848378\n",
       "Pontiac                              414.427198\n",
       "Eagle                                411.148025\n",
       "Subaru                               404.316062\n",
       "Bertone                              403.954545\n",
       "Suzuki                               392.747538\n",
       "Volkswagen                           392.741721\n",
       "Kia                                  390.638805\n",
       "Daewoo                               387.757496\n",
       "Dacia                                386.391304\n",
       "Red Shift Ltd.                       386.391304\n",
       "Hyundai                              385.021692\n",
       "Saturn                               376.315274\n",
       "Renault                              359.826496\n",
       "Honda                                357.532578\n",
       "Grumman Olson                        356.337423\n",
       "Yugo                                 356.068256\n",
       "Geo                                  337.077591\n",
       "Scion                                331.395918\n",
       "MINI                                 313.716862\n",
       "Daihatsu                             310.188060\n",
       "Fiat                                 304.666560\n",
       "smart                                247.030556\n",
       "Fisker                               169.000000\n",
       "Name: CO2 Emission Grams/Mile, dtype: float64"
      ]
     },
     "execution_count": 37,
     "metadata": {},
     "output_type": "execute_result"
    }
   ],
   "source": [
    "### Sorting the values to get the most elevated concentration of CO2 first\n",
    "### The first value corresponds with the worse CO2 Emissions on average\n",
    "grouping_by_make['CO2 Emission Grams/Mile'].mean().sort_values(ascending=False)"
   ]
  },
  {
   "cell_type": "markdown",
   "metadata": {
    "id": "2avLmljX6Fg9"
   },
   "source": [
    "#### Do cars with automatic transmission consume more fuel than cars with manual transmission on average?"
   ]
  },
  {
   "cell_type": "code",
   "execution_count": 39,
   "metadata": {},
   "outputs": [],
   "source": [
    "##Change the transmission's type for practicality \n",
    "##just for this ex. because the replacement is causing a lost of the transmission specifics..better to create a new column! \n",
    "\n",
    "cars[\"Transmission\"] = list(map(lambda x:\"Automatic\" if (\"Auto\"in x) else x, cars[\"Transmission\"]))\n",
    "cars[\"Transmission\"] = list(map(lambda x:\"Manual\" if (\"Manual\"in x) else x, cars[\"Transmission\"]))\n",
    "\n"
   ]
  },
  {
   "cell_type": "code",
   "execution_count": 40,
   "metadata": {},
   "outputs": [
    {
     "data": {
      "text/plain": [
       "Transmission\n",
       "Automatic    18.043152\n",
       "Manual       16.704904\n",
       "Name: Fuel Barrels/Year, dtype: float64"
      ]
     },
     "execution_count": 40,
     "metadata": {},
     "output_type": "execute_result"
    }
   ],
   "source": [
    "# Find the average consumption of each group inside transmissions and compare\n",
    "\n",
    "cars.groupby('Transmission')['Fuel Barrels/Year'].mean().sort_values(ascending=False)"
   ]
  },
  {
   "cell_type": "code",
   "execution_count": null,
   "metadata": {},
   "outputs": [],
   "source": []
  }
 ],
 "metadata": {
  "colab": {
   "name": "Pandas_Grouping_Joining_Cars_Structure.ipynb",
   "provenance": []
  },
  "kernelspec": {
   "display_name": "Python 3 (ipykernel)",
   "language": "python",
   "name": "python3"
  },
  "language_info": {
   "codemirror_mode": {
    "name": "ipython",
    "version": 3
   },
   "file_extension": ".py",
   "mimetype": "text/x-python",
   "name": "python",
   "nbconvert_exporter": "python",
   "pygments_lexer": "ipython3",
   "version": "3.9.7"
  },
  "toc": {
   "base_numbering": 1,
   "nav_menu": {},
   "number_sections": true,
   "sideBar": true,
   "skip_h1_title": false,
   "title_cell": "Table of Contents",
   "title_sidebar": "Contents",
   "toc_cell": false,
   "toc_position": {},
   "toc_section_display": true,
   "toc_window_display": false
  },
  "varInspector": {
   "cols": {
    "lenName": 16,
    "lenType": 16,
    "lenVar": 40
   },
   "kernels_config": {
    "python": {
     "delete_cmd_postfix": "",
     "delete_cmd_prefix": "del ",
     "library": "var_list.py",
     "varRefreshCmd": "print(var_dic_list())"
    },
    "r": {
     "delete_cmd_postfix": ") ",
     "delete_cmd_prefix": "rm(",
     "library": "var_list.r",
     "varRefreshCmd": "cat(var_dic_list()) "
    }
   },
   "types_to_exclude": [
    "module",
    "function",
    "builtin_function_or_method",
    "instance",
    "_Feature"
   ],
   "window_display": false
  }
 },
 "nbformat": 4,
 "nbformat_minor": 1
}
