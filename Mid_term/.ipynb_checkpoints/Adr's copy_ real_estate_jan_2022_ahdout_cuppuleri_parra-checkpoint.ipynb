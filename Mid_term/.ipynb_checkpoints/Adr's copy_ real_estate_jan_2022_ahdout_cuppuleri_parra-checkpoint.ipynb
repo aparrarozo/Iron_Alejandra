{
 "cells": [
  {
   "cell_type": "markdown",
   "id": "8e561cdc",
   "metadata": {},
   "source": [
    "Goal of the study: Identify the variables with the highest impact on the final house price"
   ]
  },
  {
   "cell_type": "markdown",
   "id": "7c3ac6a1",
   "metadata": {},
   "source": [
    "## Exploratory Data Analysis"
   ]
  },
  {
   "cell_type": "markdown",
   "id": "d55a6fe8",
   "metadata": {},
   "source": [
    "### Importing the libraries"
   ]
  },
  {
   "cell_type": "code",
   "execution_count": 53,
   "id": "e24fa0a1",
   "metadata": {},
   "outputs": [],
   "source": [
    "import numpy as np\n",
    "import pandas as pd\n",
    "import matplotlib.pyplot as plt\n",
    "%matplotlib inline\n",
    "from matplotlib.colors import ListedColormap\n",
    "\n",
    "import seaborn as sns\n",
    "from sklearn.preprocessing import StandardScaler\n",
    "from sklearn.preprocessing import minmax_scale\n",
    "from sklearn.preprocessing import OneHotEncoder\n",
    "from sklearn.linear_model import LinearRegression\n",
    "from sklearn.model_selection import train_test_split\n",
    "from sklearn.preprocessing import PowerTransformer\n",
    "from sklearn.linear_model import LinearRegression\n",
    "from sklearn.preprocessing import OrdinalEncoder\n",
    "from sklearn.preprocessing import (StandardScaler, MinMaxScaler)\n",
    "from sklearn.preprocessing import QuantileTransformer\n",
    "\n",
    "import statsmodels.api as sm\n",
    "from scipy.stats import boxcox\n",
    "from sklearn.model_selection import train_test_split\n",
    "from sklearn.metrics import r2_score\n",
    "from sklearn.metrics import mean_squared_error as mse\n",
    "from sklearn.metrics import mean_absolute_error as mae\n",
    "pd.options.display.max_rows = 50\n",
    "pd.set_option('max_columns', None)"
   ]
  },
  {
   "cell_type": "markdown",
   "id": "416024a5",
   "metadata": {},
   "source": [
    "### Import dataset"
   ]
  },
  {
   "cell_type": "code",
   "execution_count": 54,
   "id": "07cbe1c2",
   "metadata": {},
   "outputs": [
    {
     "data": {
      "text/html": [
       "<div>\n",
       "<style scoped>\n",
       "    .dataframe tbody tr th:only-of-type {\n",
       "        vertical-align: middle;\n",
       "    }\n",
       "\n",
       "    .dataframe tbody tr th {\n",
       "        vertical-align: top;\n",
       "    }\n",
       "\n",
       "    .dataframe thead th {\n",
       "        text-align: right;\n",
       "    }\n",
       "</style>\n",
       "<table border=\"1\" class=\"dataframe\">\n",
       "  <thead>\n",
       "    <tr style=\"text-align: right;\">\n",
       "      <th></th>\n",
       "      <th>id</th>\n",
       "      <th>date</th>\n",
       "      <th>bedrooms</th>\n",
       "      <th>bathrooms</th>\n",
       "      <th>sqft_living</th>\n",
       "      <th>sqft_lot</th>\n",
       "      <th>floors</th>\n",
       "      <th>waterfront</th>\n",
       "      <th>view</th>\n",
       "      <th>condition</th>\n",
       "      <th>grade</th>\n",
       "      <th>sqft_above</th>\n",
       "      <th>sqft_basement</th>\n",
       "      <th>yr_built</th>\n",
       "      <th>yr_renovated</th>\n",
       "      <th>zipcode</th>\n",
       "      <th>lat</th>\n",
       "      <th>long</th>\n",
       "      <th>sqft_living15</th>\n",
       "      <th>sqft_lot15</th>\n",
       "      <th>price</th>\n",
       "    </tr>\n",
       "  </thead>\n",
       "  <tbody>\n",
       "    <tr>\n",
       "      <th>0</th>\n",
       "      <td>7129300520</td>\n",
       "      <td>2014-10-13</td>\n",
       "      <td>3</td>\n",
       "      <td>1.00</td>\n",
       "      <td>1180</td>\n",
       "      <td>5650</td>\n",
       "      <td>1.0</td>\n",
       "      <td>0</td>\n",
       "      <td>0</td>\n",
       "      <td>3</td>\n",
       "      <td>7</td>\n",
       "      <td>1180</td>\n",
       "      <td>0</td>\n",
       "      <td>1955</td>\n",
       "      <td>0</td>\n",
       "      <td>98178</td>\n",
       "      <td>47.5112</td>\n",
       "      <td>-122.257</td>\n",
       "      <td>1340</td>\n",
       "      <td>5650</td>\n",
       "      <td>221900</td>\n",
       "    </tr>\n",
       "    <tr>\n",
       "      <th>1</th>\n",
       "      <td>6414100192</td>\n",
       "      <td>2014-12-09</td>\n",
       "      <td>3</td>\n",
       "      <td>2.25</td>\n",
       "      <td>2570</td>\n",
       "      <td>7242</td>\n",
       "      <td>2.0</td>\n",
       "      <td>0</td>\n",
       "      <td>0</td>\n",
       "      <td>3</td>\n",
       "      <td>7</td>\n",
       "      <td>2170</td>\n",
       "      <td>400</td>\n",
       "      <td>1951</td>\n",
       "      <td>1991</td>\n",
       "      <td>98125</td>\n",
       "      <td>47.7210</td>\n",
       "      <td>-122.319</td>\n",
       "      <td>1690</td>\n",
       "      <td>7639</td>\n",
       "      <td>538000</td>\n",
       "    </tr>\n",
       "    <tr>\n",
       "      <th>2</th>\n",
       "      <td>5631500400</td>\n",
       "      <td>2015-02-25</td>\n",
       "      <td>2</td>\n",
       "      <td>1.00</td>\n",
       "      <td>770</td>\n",
       "      <td>10000</td>\n",
       "      <td>1.0</td>\n",
       "      <td>0</td>\n",
       "      <td>0</td>\n",
       "      <td>3</td>\n",
       "      <td>6</td>\n",
       "      <td>770</td>\n",
       "      <td>0</td>\n",
       "      <td>1933</td>\n",
       "      <td>0</td>\n",
       "      <td>98028</td>\n",
       "      <td>47.7379</td>\n",
       "      <td>-122.233</td>\n",
       "      <td>2720</td>\n",
       "      <td>8062</td>\n",
       "      <td>180000</td>\n",
       "    </tr>\n",
       "    <tr>\n",
       "      <th>3</th>\n",
       "      <td>2487200875</td>\n",
       "      <td>2014-12-09</td>\n",
       "      <td>4</td>\n",
       "      <td>3.00</td>\n",
       "      <td>1960</td>\n",
       "      <td>5000</td>\n",
       "      <td>1.0</td>\n",
       "      <td>0</td>\n",
       "      <td>0</td>\n",
       "      <td>5</td>\n",
       "      <td>7</td>\n",
       "      <td>1050</td>\n",
       "      <td>910</td>\n",
       "      <td>1965</td>\n",
       "      <td>0</td>\n",
       "      <td>98136</td>\n",
       "      <td>47.5208</td>\n",
       "      <td>-122.393</td>\n",
       "      <td>1360</td>\n",
       "      <td>5000</td>\n",
       "      <td>604000</td>\n",
       "    </tr>\n",
       "    <tr>\n",
       "      <th>4</th>\n",
       "      <td>1954400510</td>\n",
       "      <td>2015-02-18</td>\n",
       "      <td>3</td>\n",
       "      <td>2.00</td>\n",
       "      <td>1680</td>\n",
       "      <td>8080</td>\n",
       "      <td>1.0</td>\n",
       "      <td>0</td>\n",
       "      <td>0</td>\n",
       "      <td>3</td>\n",
       "      <td>8</td>\n",
       "      <td>1680</td>\n",
       "      <td>0</td>\n",
       "      <td>1987</td>\n",
       "      <td>0</td>\n",
       "      <td>98074</td>\n",
       "      <td>47.6168</td>\n",
       "      <td>-122.045</td>\n",
       "      <td>1800</td>\n",
       "      <td>7503</td>\n",
       "      <td>510000</td>\n",
       "    </tr>\n",
       "    <tr>\n",
       "      <th>...</th>\n",
       "      <td>...</td>\n",
       "      <td>...</td>\n",
       "      <td>...</td>\n",
       "      <td>...</td>\n",
       "      <td>...</td>\n",
       "      <td>...</td>\n",
       "      <td>...</td>\n",
       "      <td>...</td>\n",
       "      <td>...</td>\n",
       "      <td>...</td>\n",
       "      <td>...</td>\n",
       "      <td>...</td>\n",
       "      <td>...</td>\n",
       "      <td>...</td>\n",
       "      <td>...</td>\n",
       "      <td>...</td>\n",
       "      <td>...</td>\n",
       "      <td>...</td>\n",
       "      <td>...</td>\n",
       "      <td>...</td>\n",
       "      <td>...</td>\n",
       "    </tr>\n",
       "    <tr>\n",
       "      <th>21592</th>\n",
       "      <td>263000018</td>\n",
       "      <td>2014-05-21</td>\n",
       "      <td>3</td>\n",
       "      <td>2.50</td>\n",
       "      <td>1530</td>\n",
       "      <td>1131</td>\n",
       "      <td>3.0</td>\n",
       "      <td>0</td>\n",
       "      <td>0</td>\n",
       "      <td>3</td>\n",
       "      <td>8</td>\n",
       "      <td>1530</td>\n",
       "      <td>0</td>\n",
       "      <td>2009</td>\n",
       "      <td>0</td>\n",
       "      <td>98103</td>\n",
       "      <td>47.6993</td>\n",
       "      <td>-122.346</td>\n",
       "      <td>1530</td>\n",
       "      <td>1509</td>\n",
       "      <td>360000</td>\n",
       "    </tr>\n",
       "    <tr>\n",
       "      <th>21593</th>\n",
       "      <td>6600060120</td>\n",
       "      <td>2015-02-23</td>\n",
       "      <td>4</td>\n",
       "      <td>2.50</td>\n",
       "      <td>2310</td>\n",
       "      <td>5813</td>\n",
       "      <td>2.0</td>\n",
       "      <td>0</td>\n",
       "      <td>0</td>\n",
       "      <td>3</td>\n",
       "      <td>8</td>\n",
       "      <td>2310</td>\n",
       "      <td>0</td>\n",
       "      <td>2014</td>\n",
       "      <td>0</td>\n",
       "      <td>98146</td>\n",
       "      <td>47.5107</td>\n",
       "      <td>-122.362</td>\n",
       "      <td>1830</td>\n",
       "      <td>7200</td>\n",
       "      <td>400000</td>\n",
       "    </tr>\n",
       "    <tr>\n",
       "      <th>21594</th>\n",
       "      <td>1523300141</td>\n",
       "      <td>2014-06-23</td>\n",
       "      <td>2</td>\n",
       "      <td>0.75</td>\n",
       "      <td>1020</td>\n",
       "      <td>1350</td>\n",
       "      <td>2.0</td>\n",
       "      <td>0</td>\n",
       "      <td>0</td>\n",
       "      <td>3</td>\n",
       "      <td>7</td>\n",
       "      <td>1020</td>\n",
       "      <td>0</td>\n",
       "      <td>2009</td>\n",
       "      <td>0</td>\n",
       "      <td>98144</td>\n",
       "      <td>47.5944</td>\n",
       "      <td>-122.299</td>\n",
       "      <td>1020</td>\n",
       "      <td>2007</td>\n",
       "      <td>402101</td>\n",
       "    </tr>\n",
       "    <tr>\n",
       "      <th>21595</th>\n",
       "      <td>291310100</td>\n",
       "      <td>2015-01-16</td>\n",
       "      <td>3</td>\n",
       "      <td>2.50</td>\n",
       "      <td>1600</td>\n",
       "      <td>2388</td>\n",
       "      <td>2.0</td>\n",
       "      <td>0</td>\n",
       "      <td>0</td>\n",
       "      <td>3</td>\n",
       "      <td>8</td>\n",
       "      <td>1600</td>\n",
       "      <td>0</td>\n",
       "      <td>2004</td>\n",
       "      <td>0</td>\n",
       "      <td>98027</td>\n",
       "      <td>47.5345</td>\n",
       "      <td>-122.069</td>\n",
       "      <td>1410</td>\n",
       "      <td>1287</td>\n",
       "      <td>400000</td>\n",
       "    </tr>\n",
       "    <tr>\n",
       "      <th>21596</th>\n",
       "      <td>1523300157</td>\n",
       "      <td>2014-10-15</td>\n",
       "      <td>2</td>\n",
       "      <td>0.75</td>\n",
       "      <td>1020</td>\n",
       "      <td>1076</td>\n",
       "      <td>2.0</td>\n",
       "      <td>0</td>\n",
       "      <td>0</td>\n",
       "      <td>3</td>\n",
       "      <td>7</td>\n",
       "      <td>1020</td>\n",
       "      <td>0</td>\n",
       "      <td>2008</td>\n",
       "      <td>0</td>\n",
       "      <td>98144</td>\n",
       "      <td>47.5941</td>\n",
       "      <td>-122.299</td>\n",
       "      <td>1020</td>\n",
       "      <td>1357</td>\n",
       "      <td>325000</td>\n",
       "    </tr>\n",
       "  </tbody>\n",
       "</table>\n",
       "<p>21597 rows × 21 columns</p>\n",
       "</div>"
      ],
      "text/plain": [
       "               id       date  bedrooms  bathrooms  sqft_living  sqft_lot  \\\n",
       "0      7129300520 2014-10-13         3       1.00         1180      5650   \n",
       "1      6414100192 2014-12-09         3       2.25         2570      7242   \n",
       "2      5631500400 2015-02-25         2       1.00          770     10000   \n",
       "3      2487200875 2014-12-09         4       3.00         1960      5000   \n",
       "4      1954400510 2015-02-18         3       2.00         1680      8080   \n",
       "...           ...        ...       ...        ...          ...       ...   \n",
       "21592   263000018 2014-05-21         3       2.50         1530      1131   \n",
       "21593  6600060120 2015-02-23         4       2.50         2310      5813   \n",
       "21594  1523300141 2014-06-23         2       0.75         1020      1350   \n",
       "21595   291310100 2015-01-16         3       2.50         1600      2388   \n",
       "21596  1523300157 2014-10-15         2       0.75         1020      1076   \n",
       "\n",
       "       floors  waterfront  view  condition  grade  sqft_above  sqft_basement  \\\n",
       "0         1.0           0     0          3      7        1180              0   \n",
       "1         2.0           0     0          3      7        2170            400   \n",
       "2         1.0           0     0          3      6         770              0   \n",
       "3         1.0           0     0          5      7        1050            910   \n",
       "4         1.0           0     0          3      8        1680              0   \n",
       "...       ...         ...   ...        ...    ...         ...            ...   \n",
       "21592     3.0           0     0          3      8        1530              0   \n",
       "21593     2.0           0     0          3      8        2310              0   \n",
       "21594     2.0           0     0          3      7        1020              0   \n",
       "21595     2.0           0     0          3      8        1600              0   \n",
       "21596     2.0           0     0          3      7        1020              0   \n",
       "\n",
       "       yr_built  yr_renovated  zipcode      lat     long  sqft_living15  \\\n",
       "0          1955             0    98178  47.5112 -122.257           1340   \n",
       "1          1951          1991    98125  47.7210 -122.319           1690   \n",
       "2          1933             0    98028  47.7379 -122.233           2720   \n",
       "3          1965             0    98136  47.5208 -122.393           1360   \n",
       "4          1987             0    98074  47.6168 -122.045           1800   \n",
       "...         ...           ...      ...      ...      ...            ...   \n",
       "21592      2009             0    98103  47.6993 -122.346           1530   \n",
       "21593      2014             0    98146  47.5107 -122.362           1830   \n",
       "21594      2009             0    98144  47.5944 -122.299           1020   \n",
       "21595      2004             0    98027  47.5345 -122.069           1410   \n",
       "21596      2008             0    98144  47.5941 -122.299           1020   \n",
       "\n",
       "       sqft_lot15   price  \n",
       "0            5650  221900  \n",
       "1            7639  538000  \n",
       "2            8062  180000  \n",
       "3            5000  604000  \n",
       "4            7503  510000  \n",
       "...           ...     ...  \n",
       "21592        1509  360000  \n",
       "21593        7200  400000  \n",
       "21594        2007  402101  \n",
       "21595        1287  400000  \n",
       "21596        1357  325000  \n",
       "\n",
       "[21597 rows x 21 columns]"
      ]
     },
     "execution_count": 54,
     "metadata": {},
     "output_type": "execute_result"
    }
   ],
   "source": [
    "df = pd.read_excel('Data/Data_MidTerm_Project_Real_State_Regression.xls')\n",
    "df"
   ]
  },
  {
   "cell_type": "markdown",
   "id": "35547a47",
   "metadata": {},
   "source": [
    "### Columns type"
   ]
  },
  {
   "cell_type": "code",
   "execution_count": 55,
   "id": "e5df2aaf",
   "metadata": {},
   "outputs": [
    {
     "data": {
      "text/plain": [
       "id                        int64\n",
       "date             datetime64[ns]\n",
       "bedrooms                  int64\n",
       "bathrooms               float64\n",
       "sqft_living               int64\n",
       "sqft_lot                  int64\n",
       "floors                  float64\n",
       "waterfront                int64\n",
       "view                      int64\n",
       "condition                 int64\n",
       "grade                     int64\n",
       "sqft_above                int64\n",
       "sqft_basement             int64\n",
       "yr_built                  int64\n",
       "yr_renovated              int64\n",
       "zipcode                   int64\n",
       "lat                     float64\n",
       "long                    float64\n",
       "sqft_living15             int64\n",
       "sqft_lot15                int64\n",
       "price                     int64\n",
       "dtype: object"
      ]
     },
     "execution_count": 55,
     "metadata": {},
     "output_type": "execute_result"
    }
   ],
   "source": [
    "df.dtypes"
   ]
  },
  {
   "cell_type": "markdown",
   "id": "a7f62fac",
   "metadata": {},
   "source": [
    "### Checking NULL values"
   ]
  },
  {
   "cell_type": "code",
   "execution_count": 56,
   "id": "d133ccf2",
   "metadata": {},
   "outputs": [
    {
     "data": {
      "text/plain": [
       "id               0\n",
       "date             0\n",
       "bedrooms         0\n",
       "bathrooms        0\n",
       "sqft_living      0\n",
       "sqft_lot         0\n",
       "floors           0\n",
       "waterfront       0\n",
       "view             0\n",
       "condition        0\n",
       "grade            0\n",
       "sqft_above       0\n",
       "sqft_basement    0\n",
       "yr_built         0\n",
       "yr_renovated     0\n",
       "zipcode          0\n",
       "lat              0\n",
       "long             0\n",
       "sqft_living15    0\n",
       "sqft_lot15       0\n",
       "price            0\n",
       "dtype: int64"
      ]
     },
     "metadata": {},
     "output_type": "display_data"
    }
   ],
   "source": [
    "display(df.isnull().sum())"
   ]
  },
  {
   "cell_type": "markdown",
   "id": "555794ab",
   "metadata": {},
   "source": [
    "**drop not relevant columns**"
   ]
  },
  {
   "cell_type": "code",
   "execution_count": 57,
   "id": "61998fb1",
   "metadata": {},
   "outputs": [
    {
     "data": {
      "text/html": [
       "<div>\n",
       "<style scoped>\n",
       "    .dataframe tbody tr th:only-of-type {\n",
       "        vertical-align: middle;\n",
       "    }\n",
       "\n",
       "    .dataframe tbody tr th {\n",
       "        vertical-align: top;\n",
       "    }\n",
       "\n",
       "    .dataframe thead th {\n",
       "        text-align: right;\n",
       "    }\n",
       "</style>\n",
       "<table border=\"1\" class=\"dataframe\">\n",
       "  <thead>\n",
       "    <tr style=\"text-align: right;\">\n",
       "      <th></th>\n",
       "      <th>date</th>\n",
       "      <th>bedrooms</th>\n",
       "      <th>bathrooms</th>\n",
       "      <th>sqft_living</th>\n",
       "      <th>sqft_lot</th>\n",
       "      <th>floors</th>\n",
       "      <th>waterfront</th>\n",
       "      <th>view</th>\n",
       "      <th>condition</th>\n",
       "      <th>grade</th>\n",
       "      <th>sqft_above</th>\n",
       "      <th>sqft_basement</th>\n",
       "      <th>yr_built</th>\n",
       "      <th>yr_renovated</th>\n",
       "      <th>zipcode</th>\n",
       "      <th>sqft_living15</th>\n",
       "      <th>sqft_lot15</th>\n",
       "      <th>price</th>\n",
       "    </tr>\n",
       "  </thead>\n",
       "  <tbody>\n",
       "    <tr>\n",
       "      <th>0</th>\n",
       "      <td>2014-10-13</td>\n",
       "      <td>3</td>\n",
       "      <td>1.00</td>\n",
       "      <td>1180</td>\n",
       "      <td>5650</td>\n",
       "      <td>1.0</td>\n",
       "      <td>0</td>\n",
       "      <td>0</td>\n",
       "      <td>3</td>\n",
       "      <td>7</td>\n",
       "      <td>1180</td>\n",
       "      <td>0</td>\n",
       "      <td>1955</td>\n",
       "      <td>0</td>\n",
       "      <td>98178</td>\n",
       "      <td>1340</td>\n",
       "      <td>5650</td>\n",
       "      <td>221900</td>\n",
       "    </tr>\n",
       "    <tr>\n",
       "      <th>1</th>\n",
       "      <td>2014-12-09</td>\n",
       "      <td>3</td>\n",
       "      <td>2.25</td>\n",
       "      <td>2570</td>\n",
       "      <td>7242</td>\n",
       "      <td>2.0</td>\n",
       "      <td>0</td>\n",
       "      <td>0</td>\n",
       "      <td>3</td>\n",
       "      <td>7</td>\n",
       "      <td>2170</td>\n",
       "      <td>400</td>\n",
       "      <td>1951</td>\n",
       "      <td>1991</td>\n",
       "      <td>98125</td>\n",
       "      <td>1690</td>\n",
       "      <td>7639</td>\n",
       "      <td>538000</td>\n",
       "    </tr>\n",
       "    <tr>\n",
       "      <th>2</th>\n",
       "      <td>2015-02-25</td>\n",
       "      <td>2</td>\n",
       "      <td>1.00</td>\n",
       "      <td>770</td>\n",
       "      <td>10000</td>\n",
       "      <td>1.0</td>\n",
       "      <td>0</td>\n",
       "      <td>0</td>\n",
       "      <td>3</td>\n",
       "      <td>6</td>\n",
       "      <td>770</td>\n",
       "      <td>0</td>\n",
       "      <td>1933</td>\n",
       "      <td>0</td>\n",
       "      <td>98028</td>\n",
       "      <td>2720</td>\n",
       "      <td>8062</td>\n",
       "      <td>180000</td>\n",
       "    </tr>\n",
       "    <tr>\n",
       "      <th>3</th>\n",
       "      <td>2014-12-09</td>\n",
       "      <td>4</td>\n",
       "      <td>3.00</td>\n",
       "      <td>1960</td>\n",
       "      <td>5000</td>\n",
       "      <td>1.0</td>\n",
       "      <td>0</td>\n",
       "      <td>0</td>\n",
       "      <td>5</td>\n",
       "      <td>7</td>\n",
       "      <td>1050</td>\n",
       "      <td>910</td>\n",
       "      <td>1965</td>\n",
       "      <td>0</td>\n",
       "      <td>98136</td>\n",
       "      <td>1360</td>\n",
       "      <td>5000</td>\n",
       "      <td>604000</td>\n",
       "    </tr>\n",
       "    <tr>\n",
       "      <th>4</th>\n",
       "      <td>2015-02-18</td>\n",
       "      <td>3</td>\n",
       "      <td>2.00</td>\n",
       "      <td>1680</td>\n",
       "      <td>8080</td>\n",
       "      <td>1.0</td>\n",
       "      <td>0</td>\n",
       "      <td>0</td>\n",
       "      <td>3</td>\n",
       "      <td>8</td>\n",
       "      <td>1680</td>\n",
       "      <td>0</td>\n",
       "      <td>1987</td>\n",
       "      <td>0</td>\n",
       "      <td>98074</td>\n",
       "      <td>1800</td>\n",
       "      <td>7503</td>\n",
       "      <td>510000</td>\n",
       "    </tr>\n",
       "    <tr>\n",
       "      <th>...</th>\n",
       "      <td>...</td>\n",
       "      <td>...</td>\n",
       "      <td>...</td>\n",
       "      <td>...</td>\n",
       "      <td>...</td>\n",
       "      <td>...</td>\n",
       "      <td>...</td>\n",
       "      <td>...</td>\n",
       "      <td>...</td>\n",
       "      <td>...</td>\n",
       "      <td>...</td>\n",
       "      <td>...</td>\n",
       "      <td>...</td>\n",
       "      <td>...</td>\n",
       "      <td>...</td>\n",
       "      <td>...</td>\n",
       "      <td>...</td>\n",
       "      <td>...</td>\n",
       "    </tr>\n",
       "    <tr>\n",
       "      <th>21592</th>\n",
       "      <td>2014-05-21</td>\n",
       "      <td>3</td>\n",
       "      <td>2.50</td>\n",
       "      <td>1530</td>\n",
       "      <td>1131</td>\n",
       "      <td>3.0</td>\n",
       "      <td>0</td>\n",
       "      <td>0</td>\n",
       "      <td>3</td>\n",
       "      <td>8</td>\n",
       "      <td>1530</td>\n",
       "      <td>0</td>\n",
       "      <td>2009</td>\n",
       "      <td>0</td>\n",
       "      <td>98103</td>\n",
       "      <td>1530</td>\n",
       "      <td>1509</td>\n",
       "      <td>360000</td>\n",
       "    </tr>\n",
       "    <tr>\n",
       "      <th>21593</th>\n",
       "      <td>2015-02-23</td>\n",
       "      <td>4</td>\n",
       "      <td>2.50</td>\n",
       "      <td>2310</td>\n",
       "      <td>5813</td>\n",
       "      <td>2.0</td>\n",
       "      <td>0</td>\n",
       "      <td>0</td>\n",
       "      <td>3</td>\n",
       "      <td>8</td>\n",
       "      <td>2310</td>\n",
       "      <td>0</td>\n",
       "      <td>2014</td>\n",
       "      <td>0</td>\n",
       "      <td>98146</td>\n",
       "      <td>1830</td>\n",
       "      <td>7200</td>\n",
       "      <td>400000</td>\n",
       "    </tr>\n",
       "    <tr>\n",
       "      <th>21594</th>\n",
       "      <td>2014-06-23</td>\n",
       "      <td>2</td>\n",
       "      <td>0.75</td>\n",
       "      <td>1020</td>\n",
       "      <td>1350</td>\n",
       "      <td>2.0</td>\n",
       "      <td>0</td>\n",
       "      <td>0</td>\n",
       "      <td>3</td>\n",
       "      <td>7</td>\n",
       "      <td>1020</td>\n",
       "      <td>0</td>\n",
       "      <td>2009</td>\n",
       "      <td>0</td>\n",
       "      <td>98144</td>\n",
       "      <td>1020</td>\n",
       "      <td>2007</td>\n",
       "      <td>402101</td>\n",
       "    </tr>\n",
       "    <tr>\n",
       "      <th>21595</th>\n",
       "      <td>2015-01-16</td>\n",
       "      <td>3</td>\n",
       "      <td>2.50</td>\n",
       "      <td>1600</td>\n",
       "      <td>2388</td>\n",
       "      <td>2.0</td>\n",
       "      <td>0</td>\n",
       "      <td>0</td>\n",
       "      <td>3</td>\n",
       "      <td>8</td>\n",
       "      <td>1600</td>\n",
       "      <td>0</td>\n",
       "      <td>2004</td>\n",
       "      <td>0</td>\n",
       "      <td>98027</td>\n",
       "      <td>1410</td>\n",
       "      <td>1287</td>\n",
       "      <td>400000</td>\n",
       "    </tr>\n",
       "    <tr>\n",
       "      <th>21596</th>\n",
       "      <td>2014-10-15</td>\n",
       "      <td>2</td>\n",
       "      <td>0.75</td>\n",
       "      <td>1020</td>\n",
       "      <td>1076</td>\n",
       "      <td>2.0</td>\n",
       "      <td>0</td>\n",
       "      <td>0</td>\n",
       "      <td>3</td>\n",
       "      <td>7</td>\n",
       "      <td>1020</td>\n",
       "      <td>0</td>\n",
       "      <td>2008</td>\n",
       "      <td>0</td>\n",
       "      <td>98144</td>\n",
       "      <td>1020</td>\n",
       "      <td>1357</td>\n",
       "      <td>325000</td>\n",
       "    </tr>\n",
       "  </tbody>\n",
       "</table>\n",
       "<p>21597 rows × 18 columns</p>\n",
       "</div>"
      ],
      "text/plain": [
       "            date  bedrooms  bathrooms  sqft_living  sqft_lot  floors  \\\n",
       "0     2014-10-13         3       1.00         1180      5650     1.0   \n",
       "1     2014-12-09         3       2.25         2570      7242     2.0   \n",
       "2     2015-02-25         2       1.00          770     10000     1.0   \n",
       "3     2014-12-09         4       3.00         1960      5000     1.0   \n",
       "4     2015-02-18         3       2.00         1680      8080     1.0   \n",
       "...          ...       ...        ...          ...       ...     ...   \n",
       "21592 2014-05-21         3       2.50         1530      1131     3.0   \n",
       "21593 2015-02-23         4       2.50         2310      5813     2.0   \n",
       "21594 2014-06-23         2       0.75         1020      1350     2.0   \n",
       "21595 2015-01-16         3       2.50         1600      2388     2.0   \n",
       "21596 2014-10-15         2       0.75         1020      1076     2.0   \n",
       "\n",
       "       waterfront  view  condition  grade  sqft_above  sqft_basement  \\\n",
       "0               0     0          3      7        1180              0   \n",
       "1               0     0          3      7        2170            400   \n",
       "2               0     0          3      6         770              0   \n",
       "3               0     0          5      7        1050            910   \n",
       "4               0     0          3      8        1680              0   \n",
       "...           ...   ...        ...    ...         ...            ...   \n",
       "21592           0     0          3      8        1530              0   \n",
       "21593           0     0          3      8        2310              0   \n",
       "21594           0     0          3      7        1020              0   \n",
       "21595           0     0          3      8        1600              0   \n",
       "21596           0     0          3      7        1020              0   \n",
       "\n",
       "       yr_built  yr_renovated  zipcode  sqft_living15  sqft_lot15   price  \n",
       "0          1955             0    98178           1340        5650  221900  \n",
       "1          1951          1991    98125           1690        7639  538000  \n",
       "2          1933             0    98028           2720        8062  180000  \n",
       "3          1965             0    98136           1360        5000  604000  \n",
       "4          1987             0    98074           1800        7503  510000  \n",
       "...         ...           ...      ...            ...         ...     ...  \n",
       "21592      2009             0    98103           1530        1509  360000  \n",
       "21593      2014             0    98146           1830        7200  400000  \n",
       "21594      2009             0    98144           1020        2007  402101  \n",
       "21595      2004             0    98027           1410        1287  400000  \n",
       "21596      2008             0    98144           1020        1357  325000  \n",
       "\n",
       "[21597 rows x 18 columns]"
      ]
     },
     "execution_count": 57,
     "metadata": {},
     "output_type": "execute_result"
    }
   ],
   "source": [
    "df = df.drop(['id','lat', 'long'], axis=1)\n",
    "df"
   ]
  },
  {
   "cell_type": "markdown",
   "id": "c89a7f86",
   "metadata": {},
   "source": [
    "### Checking Columns"
   ]
  },
  {
   "cell_type": "code",
   "execution_count": 58,
   "id": "07e3e4a0",
   "metadata": {},
   "outputs": [
    {
     "data": {
      "text/plain": [
       "3     9824\n",
       "4     6882\n",
       "2     2760\n",
       "5     1601\n",
       "6      272\n",
       "1      196\n",
       "7       38\n",
       "8       13\n",
       "9        6\n",
       "10       3\n",
       "11       1\n",
       "33       1\n",
       "Name: bedrooms, dtype: int64"
      ]
     },
     "execution_count": 58,
     "metadata": {},
     "output_type": "execute_result"
    }
   ],
   "source": [
    "df['bedrooms'].value_counts()"
   ]
  },
  {
   "cell_type": "code",
   "execution_count": 59,
   "id": "9bd78ba4",
   "metadata": {},
   "outputs": [
    {
     "data": {
      "text/html": [
       "<div>\n",
       "<style scoped>\n",
       "    .dataframe tbody tr th:only-of-type {\n",
       "        vertical-align: middle;\n",
       "    }\n",
       "\n",
       "    .dataframe tbody tr th {\n",
       "        vertical-align: top;\n",
       "    }\n",
       "\n",
       "    .dataframe thead th {\n",
       "        text-align: right;\n",
       "    }\n",
       "</style>\n",
       "<table border=\"1\" class=\"dataframe\">\n",
       "  <thead>\n",
       "    <tr style=\"text-align: right;\">\n",
       "      <th></th>\n",
       "      <th>date</th>\n",
       "      <th>bedrooms</th>\n",
       "      <th>bathrooms</th>\n",
       "      <th>sqft_living</th>\n",
       "      <th>sqft_lot</th>\n",
       "      <th>floors</th>\n",
       "      <th>waterfront</th>\n",
       "      <th>view</th>\n",
       "      <th>condition</th>\n",
       "      <th>grade</th>\n",
       "      <th>sqft_above</th>\n",
       "      <th>sqft_basement</th>\n",
       "      <th>yr_built</th>\n",
       "      <th>yr_renovated</th>\n",
       "      <th>zipcode</th>\n",
       "      <th>sqft_living15</th>\n",
       "      <th>sqft_lot15</th>\n",
       "      <th>price</th>\n",
       "    </tr>\n",
       "  </thead>\n",
       "  <tbody>\n",
       "    <tr>\n",
       "      <th>15856</th>\n",
       "      <td>2014-06-25</td>\n",
       "      <td>33</td>\n",
       "      <td>1.75</td>\n",
       "      <td>1620</td>\n",
       "      <td>6000</td>\n",
       "      <td>1.0</td>\n",
       "      <td>0</td>\n",
       "      <td>0</td>\n",
       "      <td>5</td>\n",
       "      <td>7</td>\n",
       "      <td>1040</td>\n",
       "      <td>580</td>\n",
       "      <td>1947</td>\n",
       "      <td>0</td>\n",
       "      <td>98103</td>\n",
       "      <td>1330</td>\n",
       "      <td>4700</td>\n",
       "      <td>640000</td>\n",
       "    </tr>\n",
       "  </tbody>\n",
       "</table>\n",
       "</div>"
      ],
      "text/plain": [
       "            date  bedrooms  bathrooms  sqft_living  sqft_lot  floors  \\\n",
       "15856 2014-06-25        33       1.75         1620      6000     1.0   \n",
       "\n",
       "       waterfront  view  condition  grade  sqft_above  sqft_basement  \\\n",
       "15856           0     0          5      7        1040            580   \n",
       "\n",
       "       yr_built  yr_renovated  zipcode  sqft_living15  sqft_lot15   price  \n",
       "15856      1947             0    98103           1330        4700  640000  "
      ]
     },
     "execution_count": 59,
     "metadata": {},
     "output_type": "execute_result"
    }
   ],
   "source": [
    "df.loc[df['bedrooms'] == 33]"
   ]
  },
  {
   "cell_type": "code",
   "execution_count": 60,
   "id": "58878d24",
   "metadata": {},
   "outputs": [],
   "source": [
    "df = df.drop(15856)"
   ]
  },
  {
   "cell_type": "code",
   "execution_count": 61,
   "id": "480d6991",
   "metadata": {},
   "outputs": [
    {
     "data": {
      "text/plain": [
       "2.50    5377\n",
       "1.00    3851\n",
       "1.75    3047\n",
       "2.25    2047\n",
       "2.00    1930\n",
       "1.50    1445\n",
       "2.75    1185\n",
       "3.00     753\n",
       "3.50     731\n",
       "3.25     589\n",
       "3.75     155\n",
       "4.00     136\n",
       "4.50     100\n",
       "4.25      79\n",
       "0.75      71\n",
       "4.75      23\n",
       "5.00      21\n",
       "5.25      13\n",
       "5.50      10\n",
       "1.25       9\n",
       "6.00       6\n",
       "0.50       4\n",
       "5.75       4\n",
       "6.75       2\n",
       "8.00       2\n",
       "6.25       2\n",
       "6.50       2\n",
       "7.50       1\n",
       "7.75       1\n",
       "Name: bathrooms, dtype: int64"
      ]
     },
     "execution_count": 61,
     "metadata": {},
     "output_type": "execute_result"
    }
   ],
   "source": [
    "df['bathrooms'].value_counts()\n",
    "#do we need to round the data?"
   ]
  },
  {
   "cell_type": "code",
   "execution_count": 62,
   "id": "da863caf",
   "metadata": {},
   "outputs": [
    {
     "data": {
      "text/plain": [
       "1.0    10672\n",
       "2.0     8235\n",
       "1.5     1910\n",
       "3.0      611\n",
       "2.5      161\n",
       "3.5        7\n",
       "Name: floors, dtype: int64"
      ]
     },
     "execution_count": 62,
     "metadata": {},
     "output_type": "execute_result"
    }
   ],
   "source": [
    "df['floors'].value_counts()\n",
    "#confirm the meaning no of floors per properties or location of flat"
   ]
  },
  {
   "cell_type": "code",
   "execution_count": 63,
   "id": "6c97c0a2",
   "metadata": {},
   "outputs": [
    {
     "data": {
      "text/plain": [
       "dtype('int64')"
      ]
     },
     "execution_count": 63,
     "metadata": {},
     "output_type": "execute_result"
    }
   ],
   "source": [
    "#df['waterfront'].np.astype= 'category'\n",
    "df['waterfront'].dtypes"
   ]
  },
  {
   "cell_type": "code",
   "execution_count": 64,
   "id": "b5487d86",
   "metadata": {},
   "outputs": [
    {
     "data": {
      "text/plain": [
       "0    19474\n",
       "2      961\n",
       "3      510\n",
       "1      332\n",
       "4      319\n",
       "Name: view, dtype: int64"
      ]
     },
     "execution_count": 64,
     "metadata": {},
     "output_type": "execute_result"
    }
   ],
   "source": [
    "#need to clarify the meaning\n",
    "df['view'].value_counts()"
   ]
  },
  {
   "cell_type": "code",
   "execution_count": 65,
   "id": "9e79129f",
   "metadata": {},
   "outputs": [
    {
     "data": {
      "text/plain": [
       "3    14020\n",
       "4     5677\n",
       "5     1700\n",
       "2      170\n",
       "1       29\n",
       "Name: condition, dtype: int64"
      ]
     },
     "execution_count": 65,
     "metadata": {},
     "output_type": "execute_result"
    }
   ],
   "source": [
    "df['condition'].value_counts()"
   ]
  },
  {
   "cell_type": "code",
   "execution_count": 66,
   "id": "3490f1df",
   "metadata": {},
   "outputs": [
    {
     "data": {
      "text/plain": [
       "7     8973\n",
       "8     6065\n",
       "9     2615\n",
       "6     2038\n",
       "10    1134\n",
       "11     399\n",
       "5      242\n",
       "12      89\n",
       "4       27\n",
       "13      13\n",
       "3        1\n",
       "Name: grade, dtype: int64"
      ]
     },
     "execution_count": 66,
     "metadata": {},
     "output_type": "execute_result"
    }
   ],
   "source": [
    "df['grade'].value_counts()"
   ]
  },
  {
   "cell_type": "code",
   "execution_count": 67,
   "id": "56bd754e",
   "metadata": {},
   "outputs": [
    {
     "data": {
      "text/plain": [
       "2014    559\n",
       "2006    453\n",
       "2005    450\n",
       "2004    433\n",
       "2003    420\n",
       "       ... \n",
       "1933     30\n",
       "1901     29\n",
       "1902     27\n",
       "1935     24\n",
       "1934     21\n",
       "Name: yr_built, Length: 116, dtype: int64"
      ]
     },
     "execution_count": 67,
     "metadata": {},
     "output_type": "execute_result"
    }
   ],
   "source": [
    "df['yr_built'].value_counts()"
   ]
  },
  {
   "cell_type": "code",
   "execution_count": 68,
   "id": "334087ba",
   "metadata": {},
   "outputs": [
    {
     "data": {
      "text/plain": [
       "0       20682\n",
       "2014       91\n",
       "2013       37\n",
       "2003       36\n",
       "2005       35\n",
       "        ...  \n",
       "1951        1\n",
       "1959        1\n",
       "1948        1\n",
       "1954        1\n",
       "1944        1\n",
       "Name: yr_renovated, Length: 70, dtype: int64"
      ]
     },
     "execution_count": 68,
     "metadata": {},
     "output_type": "execute_result"
    }
   ],
   "source": [
    "df['yr_renovated'].value_counts()"
   ]
  },
  {
   "cell_type": "code",
   "execution_count": 69,
   "id": "74aa6313",
   "metadata": {},
   "outputs": [
    {
     "data": {
      "text/plain": [
       "98103    601\n",
       "98038    589\n",
       "98115    583\n",
       "98052    574\n",
       "98117    553\n",
       "        ... \n",
       "98102    104\n",
       "98010    100\n",
       "98024     80\n",
       "98148     57\n",
       "98039     50\n",
       "Name: zipcode, Length: 70, dtype: int64"
      ]
     },
     "execution_count": 69,
     "metadata": {},
     "output_type": "execute_result"
    }
   ],
   "source": [
    "df['zipcode'].value_counts()"
   ]
  },
  {
   "cell_type": "code",
   "execution_count": 70,
   "id": "aa883e73",
   "metadata": {},
   "outputs": [
    {
     "data": {
      "text/plain": [
       "1540    197\n",
       "1440    195\n",
       "1560    192\n",
       "1500    180\n",
       "1460    169\n",
       "       ... \n",
       "3736      1\n",
       "4950      1\n",
       "2728      1\n",
       "4740      1\n",
       "2927      1\n",
       "Name: sqft_living15, Length: 777, dtype: int64"
      ]
     },
     "execution_count": 70,
     "metadata": {},
     "output_type": "execute_result"
    }
   ],
   "source": [
    "df['sqft_living15'].value_counts()"
   ]
  },
  {
   "cell_type": "code",
   "execution_count": 71,
   "id": "b29c5d50",
   "metadata": {},
   "outputs": [
    {
     "data": {
      "text/plain": [
       "5000     427\n",
       "4000     356\n",
       "6000     288\n",
       "7200     210\n",
       "4800     145\n",
       "        ... \n",
       "10170      1\n",
       "10573      1\n",
       "11477      1\n",
       "1449       1\n",
       "2007       1\n",
       "Name: sqft_lot15, Length: 8682, dtype: int64"
      ]
     },
     "execution_count": 71,
     "metadata": {},
     "output_type": "execute_result"
    }
   ],
   "source": [
    "df['sqft_lot15'].value_counts()"
   ]
  },
  {
   "cell_type": "code",
   "execution_count": 72,
   "id": "9933bca5",
   "metadata": {},
   "outputs": [
    {
     "data": {
      "text/plain": [
       "count    2.159600e+04\n",
       "mean     5.402920e+05\n",
       "std      3.673760e+05\n",
       "min      7.800000e+04\n",
       "25%      3.220000e+05\n",
       "50%      4.500000e+05\n",
       "75%      6.450000e+05\n",
       "max      7.700000e+06\n",
       "Name: price, dtype: float64"
      ]
     },
     "execution_count": 72,
     "metadata": {},
     "output_type": "execute_result"
    }
   ],
   "source": [
    "df['price'].describe()"
   ]
  },
  {
   "cell_type": "markdown",
   "id": "96eae613",
   "metadata": {},
   "source": [
    "Understanding the difference between sqft_living' and 'sqft_living15.  \n",
    "sqft_living15 - The square footage of interior housing living space for the nearest 15 neighbors"
   ]
  },
  {
   "cell_type": "code",
   "execution_count": 73,
   "id": "b1fc83c2",
   "metadata": {},
   "outputs": [
    {
     "data": {
      "text/html": [
       "<div>\n",
       "<style scoped>\n",
       "    .dataframe tbody tr th:only-of-type {\n",
       "        vertical-align: middle;\n",
       "    }\n",
       "\n",
       "    .dataframe tbody tr th {\n",
       "        vertical-align: top;\n",
       "    }\n",
       "\n",
       "    .dataframe thead th {\n",
       "        text-align: right;\n",
       "    }\n",
       "</style>\n",
       "<table border=\"1\" class=\"dataframe\">\n",
       "  <thead>\n",
       "    <tr style=\"text-align: right;\">\n",
       "      <th></th>\n",
       "      <th>sqft_living</th>\n",
       "      <th>sqft_above</th>\n",
       "      <th>sqft_lot</th>\n",
       "      <th>sqft_living15</th>\n",
       "      <th>sqft_lot15</th>\n",
       "    </tr>\n",
       "  </thead>\n",
       "  <tbody>\n",
       "    <tr>\n",
       "      <th>0</th>\n",
       "      <td>1180</td>\n",
       "      <td>1180</td>\n",
       "      <td>5650</td>\n",
       "      <td>1340</td>\n",
       "      <td>5650</td>\n",
       "    </tr>\n",
       "    <tr>\n",
       "      <th>1</th>\n",
       "      <td>2570</td>\n",
       "      <td>2170</td>\n",
       "      <td>7242</td>\n",
       "      <td>1690</td>\n",
       "      <td>7639</td>\n",
       "    </tr>\n",
       "    <tr>\n",
       "      <th>2</th>\n",
       "      <td>770</td>\n",
       "      <td>770</td>\n",
       "      <td>10000</td>\n",
       "      <td>2720</td>\n",
       "      <td>8062</td>\n",
       "    </tr>\n",
       "    <tr>\n",
       "      <th>3</th>\n",
       "      <td>1960</td>\n",
       "      <td>1050</td>\n",
       "      <td>5000</td>\n",
       "      <td>1360</td>\n",
       "      <td>5000</td>\n",
       "    </tr>\n",
       "    <tr>\n",
       "      <th>4</th>\n",
       "      <td>1680</td>\n",
       "      <td>1680</td>\n",
       "      <td>8080</td>\n",
       "      <td>1800</td>\n",
       "      <td>7503</td>\n",
       "    </tr>\n",
       "    <tr>\n",
       "      <th>...</th>\n",
       "      <td>...</td>\n",
       "      <td>...</td>\n",
       "      <td>...</td>\n",
       "      <td>...</td>\n",
       "      <td>...</td>\n",
       "    </tr>\n",
       "    <tr>\n",
       "      <th>21592</th>\n",
       "      <td>1530</td>\n",
       "      <td>1530</td>\n",
       "      <td>1131</td>\n",
       "      <td>1530</td>\n",
       "      <td>1509</td>\n",
       "    </tr>\n",
       "    <tr>\n",
       "      <th>21593</th>\n",
       "      <td>2310</td>\n",
       "      <td>2310</td>\n",
       "      <td>5813</td>\n",
       "      <td>1830</td>\n",
       "      <td>7200</td>\n",
       "    </tr>\n",
       "    <tr>\n",
       "      <th>21594</th>\n",
       "      <td>1020</td>\n",
       "      <td>1020</td>\n",
       "      <td>1350</td>\n",
       "      <td>1020</td>\n",
       "      <td>2007</td>\n",
       "    </tr>\n",
       "    <tr>\n",
       "      <th>21595</th>\n",
       "      <td>1600</td>\n",
       "      <td>1600</td>\n",
       "      <td>2388</td>\n",
       "      <td>1410</td>\n",
       "      <td>1287</td>\n",
       "    </tr>\n",
       "    <tr>\n",
       "      <th>21596</th>\n",
       "      <td>1020</td>\n",
       "      <td>1020</td>\n",
       "      <td>1076</td>\n",
       "      <td>1020</td>\n",
       "      <td>1357</td>\n",
       "    </tr>\n",
       "  </tbody>\n",
       "</table>\n",
       "<p>21596 rows × 5 columns</p>\n",
       "</div>"
      ],
      "text/plain": [
       "       sqft_living  sqft_above  sqft_lot  sqft_living15  sqft_lot15\n",
       "0             1180        1180      5650           1340        5650\n",
       "1             2570        2170      7242           1690        7639\n",
       "2              770         770     10000           2720        8062\n",
       "3             1960        1050      5000           1360        5000\n",
       "4             1680        1680      8080           1800        7503\n",
       "...            ...         ...       ...            ...         ...\n",
       "21592         1530        1530      1131           1530        1509\n",
       "21593         2310        2310      5813           1830        7200\n",
       "21594         1020        1020      1350           1020        2007\n",
       "21595         1600        1600      2388           1410        1287\n",
       "21596         1020        1020      1076           1020        1357\n",
       "\n",
       "[21596 rows x 5 columns]"
      ]
     },
     "execution_count": 73,
     "metadata": {},
     "output_type": "execute_result"
    }
   ],
   "source": [
    "df_size = df.filter(['sqft_living', 'sqft_above', 'sqft_lot', 'sqft_living15', 'sqft_lot15'])\n",
    "df_size"
   ]
  },
  {
   "cell_type": "code",
   "execution_count": 74,
   "id": "721ebef7",
   "metadata": {},
   "outputs": [
    {
     "data": {
      "text/html": [
       "<div>\n",
       "<style scoped>\n",
       "    .dataframe tbody tr th:only-of-type {\n",
       "        vertical-align: middle;\n",
       "    }\n",
       "\n",
       "    .dataframe tbody tr th {\n",
       "        vertical-align: top;\n",
       "    }\n",
       "\n",
       "    .dataframe thead th {\n",
       "        text-align: right;\n",
       "    }\n",
       "</style>\n",
       "<table border=\"1\" class=\"dataframe\">\n",
       "  <thead>\n",
       "    <tr style=\"text-align: right;\">\n",
       "      <th></th>\n",
       "      <th>sqft_living</th>\n",
       "      <th>sqft_above</th>\n",
       "      <th>sqft_lot</th>\n",
       "      <th>sqft_living15</th>\n",
       "      <th>sqft_lot15</th>\n",
       "    </tr>\n",
       "  </thead>\n",
       "  <tbody>\n",
       "    <tr>\n",
       "      <th>count</th>\n",
       "      <td>21596.000000</td>\n",
       "      <td>21596.000000</td>\n",
       "      <td>2.159600e+04</td>\n",
       "      <td>21596.000000</td>\n",
       "      <td>21596.000000</td>\n",
       "    </tr>\n",
       "    <tr>\n",
       "      <th>mean</th>\n",
       "      <td>2080.343165</td>\n",
       "      <td>1788.631506</td>\n",
       "      <td>1.509983e+04</td>\n",
       "      <td>1986.650722</td>\n",
       "      <td>12758.656649</td>\n",
       "    </tr>\n",
       "    <tr>\n",
       "      <th>std</th>\n",
       "      <td>918.122038</td>\n",
       "      <td>827.763251</td>\n",
       "      <td>4.141355e+04</td>\n",
       "      <td>685.231768</td>\n",
       "      <td>27275.018316</td>\n",
       "    </tr>\n",
       "    <tr>\n",
       "      <th>min</th>\n",
       "      <td>370.000000</td>\n",
       "      <td>370.000000</td>\n",
       "      <td>5.200000e+02</td>\n",
       "      <td>399.000000</td>\n",
       "      <td>651.000000</td>\n",
       "    </tr>\n",
       "    <tr>\n",
       "      <th>25%</th>\n",
       "      <td>1430.000000</td>\n",
       "      <td>1190.000000</td>\n",
       "      <td>5.040000e+03</td>\n",
       "      <td>1490.000000</td>\n",
       "      <td>5100.000000</td>\n",
       "    </tr>\n",
       "    <tr>\n",
       "      <th>50%</th>\n",
       "      <td>1910.000000</td>\n",
       "      <td>1560.000000</td>\n",
       "      <td>7.619000e+03</td>\n",
       "      <td>1840.000000</td>\n",
       "      <td>7620.000000</td>\n",
       "    </tr>\n",
       "    <tr>\n",
       "      <th>75%</th>\n",
       "      <td>2550.000000</td>\n",
       "      <td>2210.000000</td>\n",
       "      <td>1.068550e+04</td>\n",
       "      <td>2360.000000</td>\n",
       "      <td>10083.000000</td>\n",
       "    </tr>\n",
       "    <tr>\n",
       "      <th>max</th>\n",
       "      <td>13540.000000</td>\n",
       "      <td>9410.000000</td>\n",
       "      <td>1.651359e+06</td>\n",
       "      <td>6210.000000</td>\n",
       "      <td>871200.000000</td>\n",
       "    </tr>\n",
       "  </tbody>\n",
       "</table>\n",
       "</div>"
      ],
      "text/plain": [
       "        sqft_living    sqft_above      sqft_lot  sqft_living15     sqft_lot15\n",
       "count  21596.000000  21596.000000  2.159600e+04   21596.000000   21596.000000\n",
       "mean    2080.343165   1788.631506  1.509983e+04    1986.650722   12758.656649\n",
       "std      918.122038    827.763251  4.141355e+04     685.231768   27275.018316\n",
       "min      370.000000    370.000000  5.200000e+02     399.000000     651.000000\n",
       "25%     1430.000000   1190.000000  5.040000e+03    1490.000000    5100.000000\n",
       "50%     1910.000000   1560.000000  7.619000e+03    1840.000000    7620.000000\n",
       "75%     2550.000000   2210.000000  1.068550e+04    2360.000000   10083.000000\n",
       "max    13540.000000   9410.000000  1.651359e+06    6210.000000  871200.000000"
      ]
     },
     "execution_count": 74,
     "metadata": {},
     "output_type": "execute_result"
    }
   ],
   "source": [
    "df_size.describe()"
   ]
  },
  {
   "cell_type": "markdown",
   "id": "7bfe5d89",
   "metadata": {},
   "source": [
    "## Data Cleaning"
   ]
  },
  {
   "cell_type": "markdown",
   "id": "048f55cd",
   "metadata": {},
   "source": [
    "### Changing columns type into categorical variables"
   ]
  },
  {
   "cell_type": "code",
   "execution_count": 75,
   "id": "9f0b9ddd",
   "metadata": {},
   "outputs": [],
   "source": [
    "df['waterfront'] = pd.Categorical(df['waterfront'])\n",
    "df['view'] = pd.Categorical(df['view'])\n",
    "df['condition'] = pd.Categorical(df['condition'])\n",
    "df['grade'] = pd.Categorical(df['grade'])\n",
    "df['bathrooms'] = pd.Categorical(df['bathrooms'])\n",
    "df['bedrooms'] = pd.Categorical(df['bedrooms'])\n",
    "df['floors'] = pd.Categorical(df['floors'])\n",
    "df['yr_renovated'] = pd.Categorical(df['yr_renovated'])\n",
    "df['yr_built'] = pd.Categorical(df['yr_built'])"
   ]
  },
  {
   "cell_type": "code",
   "execution_count": 76,
   "id": "36108e54",
   "metadata": {},
   "outputs": [
    {
     "data": {
      "text/plain": [
       "date             datetime64[ns]\n",
       "bedrooms               category\n",
       "bathrooms              category\n",
       "sqft_living               int64\n",
       "sqft_lot                  int64\n",
       "floors                 category\n",
       "waterfront             category\n",
       "view                   category\n",
       "condition              category\n",
       "grade                  category\n",
       "sqft_above                int64\n",
       "sqft_basement             int64\n",
       "yr_built               category\n",
       "yr_renovated           category\n",
       "zipcode                   int64\n",
       "sqft_living15             int64\n",
       "sqft_lot15                int64\n",
       "price                     int64\n",
       "dtype: object"
      ]
     },
     "execution_count": 76,
     "metadata": {},
     "output_type": "execute_result"
    }
   ],
   "source": [
    "df.dtypes"
   ]
  },
  {
   "cell_type": "code",
   "execution_count": 77,
   "id": "1aba0ff6",
   "metadata": {},
   "outputs": [
    {
     "data": {
      "text/html": [
       "<div>\n",
       "<style scoped>\n",
       "    .dataframe tbody tr th:only-of-type {\n",
       "        vertical-align: middle;\n",
       "    }\n",
       "\n",
       "    .dataframe tbody tr th {\n",
       "        vertical-align: top;\n",
       "    }\n",
       "\n",
       "    .dataframe thead th {\n",
       "        text-align: right;\n",
       "    }\n",
       "</style>\n",
       "<table border=\"1\" class=\"dataframe\">\n",
       "  <thead>\n",
       "    <tr style=\"text-align: right;\">\n",
       "      <th></th>\n",
       "      <th>bedrooms</th>\n",
       "      <th>bathrooms</th>\n",
       "      <th>floors</th>\n",
       "      <th>waterfront</th>\n",
       "      <th>view</th>\n",
       "      <th>condition</th>\n",
       "      <th>grade</th>\n",
       "      <th>yr_built</th>\n",
       "      <th>yr_renovated</th>\n",
       "    </tr>\n",
       "  </thead>\n",
       "  <tbody>\n",
       "    <tr>\n",
       "      <th>0</th>\n",
       "      <td>3</td>\n",
       "      <td>1.00</td>\n",
       "      <td>1.0</td>\n",
       "      <td>0</td>\n",
       "      <td>0</td>\n",
       "      <td>3</td>\n",
       "      <td>7</td>\n",
       "      <td>1955</td>\n",
       "      <td>0</td>\n",
       "    </tr>\n",
       "    <tr>\n",
       "      <th>1</th>\n",
       "      <td>3</td>\n",
       "      <td>2.25</td>\n",
       "      <td>2.0</td>\n",
       "      <td>0</td>\n",
       "      <td>0</td>\n",
       "      <td>3</td>\n",
       "      <td>7</td>\n",
       "      <td>1951</td>\n",
       "      <td>1991</td>\n",
       "    </tr>\n",
       "    <tr>\n",
       "      <th>2</th>\n",
       "      <td>2</td>\n",
       "      <td>1.00</td>\n",
       "      <td>1.0</td>\n",
       "      <td>0</td>\n",
       "      <td>0</td>\n",
       "      <td>3</td>\n",
       "      <td>6</td>\n",
       "      <td>1933</td>\n",
       "      <td>0</td>\n",
       "    </tr>\n",
       "    <tr>\n",
       "      <th>3</th>\n",
       "      <td>4</td>\n",
       "      <td>3.00</td>\n",
       "      <td>1.0</td>\n",
       "      <td>0</td>\n",
       "      <td>0</td>\n",
       "      <td>5</td>\n",
       "      <td>7</td>\n",
       "      <td>1965</td>\n",
       "      <td>0</td>\n",
       "    </tr>\n",
       "    <tr>\n",
       "      <th>4</th>\n",
       "      <td>3</td>\n",
       "      <td>2.00</td>\n",
       "      <td>1.0</td>\n",
       "      <td>0</td>\n",
       "      <td>0</td>\n",
       "      <td>3</td>\n",
       "      <td>8</td>\n",
       "      <td>1987</td>\n",
       "      <td>0</td>\n",
       "    </tr>\n",
       "    <tr>\n",
       "      <th>...</th>\n",
       "      <td>...</td>\n",
       "      <td>...</td>\n",
       "      <td>...</td>\n",
       "      <td>...</td>\n",
       "      <td>...</td>\n",
       "      <td>...</td>\n",
       "      <td>...</td>\n",
       "      <td>...</td>\n",
       "      <td>...</td>\n",
       "    </tr>\n",
       "    <tr>\n",
       "      <th>21592</th>\n",
       "      <td>3</td>\n",
       "      <td>2.50</td>\n",
       "      <td>3.0</td>\n",
       "      <td>0</td>\n",
       "      <td>0</td>\n",
       "      <td>3</td>\n",
       "      <td>8</td>\n",
       "      <td>2009</td>\n",
       "      <td>0</td>\n",
       "    </tr>\n",
       "    <tr>\n",
       "      <th>21593</th>\n",
       "      <td>4</td>\n",
       "      <td>2.50</td>\n",
       "      <td>2.0</td>\n",
       "      <td>0</td>\n",
       "      <td>0</td>\n",
       "      <td>3</td>\n",
       "      <td>8</td>\n",
       "      <td>2014</td>\n",
       "      <td>0</td>\n",
       "    </tr>\n",
       "    <tr>\n",
       "      <th>21594</th>\n",
       "      <td>2</td>\n",
       "      <td>0.75</td>\n",
       "      <td>2.0</td>\n",
       "      <td>0</td>\n",
       "      <td>0</td>\n",
       "      <td>3</td>\n",
       "      <td>7</td>\n",
       "      <td>2009</td>\n",
       "      <td>0</td>\n",
       "    </tr>\n",
       "    <tr>\n",
       "      <th>21595</th>\n",
       "      <td>3</td>\n",
       "      <td>2.50</td>\n",
       "      <td>2.0</td>\n",
       "      <td>0</td>\n",
       "      <td>0</td>\n",
       "      <td>3</td>\n",
       "      <td>8</td>\n",
       "      <td>2004</td>\n",
       "      <td>0</td>\n",
       "    </tr>\n",
       "    <tr>\n",
       "      <th>21596</th>\n",
       "      <td>2</td>\n",
       "      <td>0.75</td>\n",
       "      <td>2.0</td>\n",
       "      <td>0</td>\n",
       "      <td>0</td>\n",
       "      <td>3</td>\n",
       "      <td>7</td>\n",
       "      <td>2008</td>\n",
       "      <td>0</td>\n",
       "    </tr>\n",
       "  </tbody>\n",
       "</table>\n",
       "<p>21596 rows × 9 columns</p>\n",
       "</div>"
      ],
      "text/plain": [
       "      bedrooms bathrooms floors waterfront view condition grade yr_built  \\\n",
       "0            3      1.00    1.0          0    0         3     7     1955   \n",
       "1            3      2.25    2.0          0    0         3     7     1951   \n",
       "2            2      1.00    1.0          0    0         3     6     1933   \n",
       "3            4      3.00    1.0          0    0         5     7     1965   \n",
       "4            3      2.00    1.0          0    0         3     8     1987   \n",
       "...        ...       ...    ...        ...  ...       ...   ...      ...   \n",
       "21592        3      2.50    3.0          0    0         3     8     2009   \n",
       "21593        4      2.50    2.0          0    0         3     8     2014   \n",
       "21594        2      0.75    2.0          0    0         3     7     2009   \n",
       "21595        3      2.50    2.0          0    0         3     8     2004   \n",
       "21596        2      0.75    2.0          0    0         3     7     2008   \n",
       "\n",
       "      yr_renovated  \n",
       "0                0  \n",
       "1             1991  \n",
       "2                0  \n",
       "3                0  \n",
       "4                0  \n",
       "...            ...  \n",
       "21592            0  \n",
       "21593            0  \n",
       "21594            0  \n",
       "21595            0  \n",
       "21596            0  \n",
       "\n",
       "[21596 rows x 9 columns]"
      ]
     },
     "execution_count": 77,
     "metadata": {},
     "output_type": "execute_result"
    }
   ],
   "source": [
    "categorical = df.select_dtypes(include = ['category'])\n",
    "categorical"
   ]
  },
  {
   "cell_type": "markdown",
   "id": "56171e13",
   "metadata": {},
   "source": [
    "### Ordinal columns"
   ]
  },
  {
   "cell_type": "code",
   "execution_count": 78,
   "id": "28c66829",
   "metadata": {},
   "outputs": [
    {
     "data": {
      "text/plain": [
       "7.5        1\n",
       "7.75       1\n",
       "8.0        2\n",
       "6.75       2\n",
       "6.5        2\n",
       "6.25       2\n",
       "5.75       4\n",
       "0.5        4\n",
       "6.0        6\n",
       "1.25       9\n",
       "5.5       10\n",
       "5.25      13\n",
       "5.0       21\n",
       "4.75      23\n",
       "0.75      71\n",
       "4.25      79\n",
       "4.5      100\n",
       "4.0      136\n",
       "3.75     155\n",
       "3.25     589\n",
       "3.5      731\n",
       "3.0      753\n",
       "2.75    1185\n",
       "1.5     1445\n",
       "2.0     1930\n",
       "2.25    2047\n",
       "1.75    3047\n",
       "1.0     3851\n",
       "2.5     5377\n",
       "Name: bathrooms, dtype: int64"
      ]
     },
     "execution_count": 78,
     "metadata": {},
     "output_type": "execute_result"
    }
   ],
   "source": [
    "df['bathrooms'].value_counts(ascending=True)"
   ]
  },
  {
   "cell_type": "code",
   "execution_count": 79,
   "id": "b14d4f0d",
   "metadata": {},
   "outputs": [],
   "source": [
    "categorical_ord = categorical[[\"waterfront\", \"view\",\"condition\",\"grade\",'bathrooms','bedrooms']]\n",
    "categories = [[\"0\",\"1\"], [\"0\", \"1\", \"2\",\"3\",\"4\"],[\"1\",\"2\",\"3\",\"4\",\"5\"],\n",
    "              [\"1\",\"2\",\"3\",\"4\",\"5\",\"6\",\"7\",\"8\",\"9\",\"10\",\"11\",\"12\",\"13\"], \n",
    "              ['0.5','0.75','1.0','1.25','1.5','1.75','2.0','2.25','2.5','2.75','3.0','3.25','3.5','3.75','4.0','4.25','4.5','4.75','5','5.25','5.5','5.75','6.0','6.25','6.5','6.75','7.0','7.5','7.75','8.0'],\n",
    "             ['1','2','3','4','5','6','7','8','9','10','11']]"
   ]
  },
  {
   "cell_type": "code",
   "execution_count": 80,
   "id": "42c63f3a",
   "metadata": {},
   "outputs": [],
   "source": [
    "ordinal_encoder = OrdinalEncoder(categories=categories)\n",
    "categorical_ord_encoded = pd.DataFrame(ordinal_encoder.fit_transform(categorical_ord),columns=categorical_ord.columns)"
   ]
  },
  {
   "cell_type": "code",
   "execution_count": 81,
   "id": "d27a917a",
   "metadata": {},
   "outputs": [
    {
     "data": {
      "text/html": [
       "<div>\n",
       "<style scoped>\n",
       "    .dataframe tbody tr th:only-of-type {\n",
       "        vertical-align: middle;\n",
       "    }\n",
       "\n",
       "    .dataframe tbody tr th {\n",
       "        vertical-align: top;\n",
       "    }\n",
       "\n",
       "    .dataframe thead th {\n",
       "        text-align: right;\n",
       "    }\n",
       "</style>\n",
       "<table border=\"1\" class=\"dataframe\">\n",
       "  <thead>\n",
       "    <tr style=\"text-align: right;\">\n",
       "      <th></th>\n",
       "      <th>waterfront</th>\n",
       "      <th>view</th>\n",
       "      <th>condition</th>\n",
       "      <th>grade</th>\n",
       "      <th>bathrooms</th>\n",
       "      <th>bedrooms</th>\n",
       "    </tr>\n",
       "  </thead>\n",
       "  <tbody>\n",
       "    <tr>\n",
       "      <th>0</th>\n",
       "      <td>0.0</td>\n",
       "      <td>0.0</td>\n",
       "      <td>2.0</td>\n",
       "      <td>6.0</td>\n",
       "      <td>2.0</td>\n",
       "      <td>2.0</td>\n",
       "    </tr>\n",
       "    <tr>\n",
       "      <th>1</th>\n",
       "      <td>0.0</td>\n",
       "      <td>0.0</td>\n",
       "      <td>2.0</td>\n",
       "      <td>6.0</td>\n",
       "      <td>7.0</td>\n",
       "      <td>2.0</td>\n",
       "    </tr>\n",
       "    <tr>\n",
       "      <th>2</th>\n",
       "      <td>0.0</td>\n",
       "      <td>0.0</td>\n",
       "      <td>2.0</td>\n",
       "      <td>5.0</td>\n",
       "      <td>2.0</td>\n",
       "      <td>1.0</td>\n",
       "    </tr>\n",
       "    <tr>\n",
       "      <th>3</th>\n",
       "      <td>0.0</td>\n",
       "      <td>0.0</td>\n",
       "      <td>4.0</td>\n",
       "      <td>6.0</td>\n",
       "      <td>10.0</td>\n",
       "      <td>3.0</td>\n",
       "    </tr>\n",
       "    <tr>\n",
       "      <th>4</th>\n",
       "      <td>0.0</td>\n",
       "      <td>0.0</td>\n",
       "      <td>2.0</td>\n",
       "      <td>7.0</td>\n",
       "      <td>6.0</td>\n",
       "      <td>2.0</td>\n",
       "    </tr>\n",
       "    <tr>\n",
       "      <th>...</th>\n",
       "      <td>...</td>\n",
       "      <td>...</td>\n",
       "      <td>...</td>\n",
       "      <td>...</td>\n",
       "      <td>...</td>\n",
       "      <td>...</td>\n",
       "    </tr>\n",
       "    <tr>\n",
       "      <th>21591</th>\n",
       "      <td>0.0</td>\n",
       "      <td>0.0</td>\n",
       "      <td>2.0</td>\n",
       "      <td>7.0</td>\n",
       "      <td>8.0</td>\n",
       "      <td>2.0</td>\n",
       "    </tr>\n",
       "    <tr>\n",
       "      <th>21592</th>\n",
       "      <td>0.0</td>\n",
       "      <td>0.0</td>\n",
       "      <td>2.0</td>\n",
       "      <td>7.0</td>\n",
       "      <td>8.0</td>\n",
       "      <td>3.0</td>\n",
       "    </tr>\n",
       "    <tr>\n",
       "      <th>21593</th>\n",
       "      <td>0.0</td>\n",
       "      <td>0.0</td>\n",
       "      <td>2.0</td>\n",
       "      <td>6.0</td>\n",
       "      <td>1.0</td>\n",
       "      <td>1.0</td>\n",
       "    </tr>\n",
       "    <tr>\n",
       "      <th>21594</th>\n",
       "      <td>0.0</td>\n",
       "      <td>0.0</td>\n",
       "      <td>2.0</td>\n",
       "      <td>7.0</td>\n",
       "      <td>8.0</td>\n",
       "      <td>2.0</td>\n",
       "    </tr>\n",
       "    <tr>\n",
       "      <th>21595</th>\n",
       "      <td>0.0</td>\n",
       "      <td>0.0</td>\n",
       "      <td>2.0</td>\n",
       "      <td>6.0</td>\n",
       "      <td>1.0</td>\n",
       "      <td>1.0</td>\n",
       "    </tr>\n",
       "  </tbody>\n",
       "</table>\n",
       "<p>21596 rows × 6 columns</p>\n",
       "</div>"
      ],
      "text/plain": [
       "       waterfront  view  condition  grade  bathrooms  bedrooms\n",
       "0             0.0   0.0        2.0    6.0        2.0       2.0\n",
       "1             0.0   0.0        2.0    6.0        7.0       2.0\n",
       "2             0.0   0.0        2.0    5.0        2.0       1.0\n",
       "3             0.0   0.0        4.0    6.0       10.0       3.0\n",
       "4             0.0   0.0        2.0    7.0        6.0       2.0\n",
       "...           ...   ...        ...    ...        ...       ...\n",
       "21591         0.0   0.0        2.0    7.0        8.0       2.0\n",
       "21592         0.0   0.0        2.0    7.0        8.0       3.0\n",
       "21593         0.0   0.0        2.0    6.0        1.0       1.0\n",
       "21594         0.0   0.0        2.0    7.0        8.0       2.0\n",
       "21595         0.0   0.0        2.0    6.0        1.0       1.0\n",
       "\n",
       "[21596 rows x 6 columns]"
      ]
     },
     "execution_count": 81,
     "metadata": {},
     "output_type": "execute_result"
    }
   ],
   "source": [
    "categorical_ord_encoded"
   ]
  },
  {
   "cell_type": "code",
   "execution_count": null,
   "id": "5ac2eee1",
   "metadata": {},
   "outputs": [],
   "source": [
    "cat_ord = categorical_ord_encoded"
   ]
  },
  {
   "cell_type": "markdown",
   "id": "583fab5f",
   "metadata": {},
   "source": [
    "**Filtering the numerical variables:**"
   ]
  },
  {
   "cell_type": "code",
   "execution_count": 82,
   "id": "6618ad9e",
   "metadata": {},
   "outputs": [
    {
     "data": {
      "text/html": [
       "<div>\n",
       "<style scoped>\n",
       "    .dataframe tbody tr th:only-of-type {\n",
       "        vertical-align: middle;\n",
       "    }\n",
       "\n",
       "    .dataframe tbody tr th {\n",
       "        vertical-align: top;\n",
       "    }\n",
       "\n",
       "    .dataframe thead th {\n",
       "        text-align: right;\n",
       "    }\n",
       "</style>\n",
       "<table border=\"1\" class=\"dataframe\">\n",
       "  <thead>\n",
       "    <tr style=\"text-align: right;\">\n",
       "      <th></th>\n",
       "      <th>sqft_living</th>\n",
       "      <th>sqft_lot</th>\n",
       "      <th>sqft_above</th>\n",
       "      <th>sqft_basement</th>\n",
       "      <th>zipcode</th>\n",
       "      <th>sqft_living15</th>\n",
       "      <th>sqft_lot15</th>\n",
       "      <th>price</th>\n",
       "    </tr>\n",
       "  </thead>\n",
       "  <tbody>\n",
       "    <tr>\n",
       "      <th>0</th>\n",
       "      <td>1180</td>\n",
       "      <td>5650</td>\n",
       "      <td>1180</td>\n",
       "      <td>0</td>\n",
       "      <td>98178</td>\n",
       "      <td>1340</td>\n",
       "      <td>5650</td>\n",
       "      <td>221900</td>\n",
       "    </tr>\n",
       "    <tr>\n",
       "      <th>1</th>\n",
       "      <td>2570</td>\n",
       "      <td>7242</td>\n",
       "      <td>2170</td>\n",
       "      <td>400</td>\n",
       "      <td>98125</td>\n",
       "      <td>1690</td>\n",
       "      <td>7639</td>\n",
       "      <td>538000</td>\n",
       "    </tr>\n",
       "    <tr>\n",
       "      <th>2</th>\n",
       "      <td>770</td>\n",
       "      <td>10000</td>\n",
       "      <td>770</td>\n",
       "      <td>0</td>\n",
       "      <td>98028</td>\n",
       "      <td>2720</td>\n",
       "      <td>8062</td>\n",
       "      <td>180000</td>\n",
       "    </tr>\n",
       "    <tr>\n",
       "      <th>3</th>\n",
       "      <td>1960</td>\n",
       "      <td>5000</td>\n",
       "      <td>1050</td>\n",
       "      <td>910</td>\n",
       "      <td>98136</td>\n",
       "      <td>1360</td>\n",
       "      <td>5000</td>\n",
       "      <td>604000</td>\n",
       "    </tr>\n",
       "    <tr>\n",
       "      <th>4</th>\n",
       "      <td>1680</td>\n",
       "      <td>8080</td>\n",
       "      <td>1680</td>\n",
       "      <td>0</td>\n",
       "      <td>98074</td>\n",
       "      <td>1800</td>\n",
       "      <td>7503</td>\n",
       "      <td>510000</td>\n",
       "    </tr>\n",
       "    <tr>\n",
       "      <th>...</th>\n",
       "      <td>...</td>\n",
       "      <td>...</td>\n",
       "      <td>...</td>\n",
       "      <td>...</td>\n",
       "      <td>...</td>\n",
       "      <td>...</td>\n",
       "      <td>...</td>\n",
       "      <td>...</td>\n",
       "    </tr>\n",
       "    <tr>\n",
       "      <th>21592</th>\n",
       "      <td>1530</td>\n",
       "      <td>1131</td>\n",
       "      <td>1530</td>\n",
       "      <td>0</td>\n",
       "      <td>98103</td>\n",
       "      <td>1530</td>\n",
       "      <td>1509</td>\n",
       "      <td>360000</td>\n",
       "    </tr>\n",
       "    <tr>\n",
       "      <th>21593</th>\n",
       "      <td>2310</td>\n",
       "      <td>5813</td>\n",
       "      <td>2310</td>\n",
       "      <td>0</td>\n",
       "      <td>98146</td>\n",
       "      <td>1830</td>\n",
       "      <td>7200</td>\n",
       "      <td>400000</td>\n",
       "    </tr>\n",
       "    <tr>\n",
       "      <th>21594</th>\n",
       "      <td>1020</td>\n",
       "      <td>1350</td>\n",
       "      <td>1020</td>\n",
       "      <td>0</td>\n",
       "      <td>98144</td>\n",
       "      <td>1020</td>\n",
       "      <td>2007</td>\n",
       "      <td>402101</td>\n",
       "    </tr>\n",
       "    <tr>\n",
       "      <th>21595</th>\n",
       "      <td>1600</td>\n",
       "      <td>2388</td>\n",
       "      <td>1600</td>\n",
       "      <td>0</td>\n",
       "      <td>98027</td>\n",
       "      <td>1410</td>\n",
       "      <td>1287</td>\n",
       "      <td>400000</td>\n",
       "    </tr>\n",
       "    <tr>\n",
       "      <th>21596</th>\n",
       "      <td>1020</td>\n",
       "      <td>1076</td>\n",
       "      <td>1020</td>\n",
       "      <td>0</td>\n",
       "      <td>98144</td>\n",
       "      <td>1020</td>\n",
       "      <td>1357</td>\n",
       "      <td>325000</td>\n",
       "    </tr>\n",
       "  </tbody>\n",
       "</table>\n",
       "<p>21596 rows × 8 columns</p>\n",
       "</div>"
      ],
      "text/plain": [
       "       sqft_living  sqft_lot  sqft_above  sqft_basement  zipcode  \\\n",
       "0             1180      5650        1180              0    98178   \n",
       "1             2570      7242        2170            400    98125   \n",
       "2              770     10000         770              0    98028   \n",
       "3             1960      5000        1050            910    98136   \n",
       "4             1680      8080        1680              0    98074   \n",
       "...            ...       ...         ...            ...      ...   \n",
       "21592         1530      1131        1530              0    98103   \n",
       "21593         2310      5813        2310              0    98146   \n",
       "21594         1020      1350        1020              0    98144   \n",
       "21595         1600      2388        1600              0    98027   \n",
       "21596         1020      1076        1020              0    98144   \n",
       "\n",
       "       sqft_living15  sqft_lot15   price  \n",
       "0               1340        5650  221900  \n",
       "1               1690        7639  538000  \n",
       "2               2720        8062  180000  \n",
       "3               1360        5000  604000  \n",
       "4               1800        7503  510000  \n",
       "...              ...         ...     ...  \n",
       "21592           1530        1509  360000  \n",
       "21593           1830        7200  400000  \n",
       "21594           1020        2007  402101  \n",
       "21595           1410        1287  400000  \n",
       "21596           1020        1357  325000  \n",
       "\n",
       "[21596 rows x 8 columns]"
      ]
     },
     "execution_count": 82,
     "metadata": {},
     "output_type": "execute_result"
    }
   ],
   "source": [
    "numerical = df.select_dtypes(include = ['int64', 'float'])\n",
    "numerical"
   ]
  },
  {
   "cell_type": "markdown",
   "id": "005404a0",
   "metadata": {},
   "source": [
    "### Distributions of numeric features"
   ]
  },
  {
   "cell_type": "code",
   "execution_count": 83,
   "id": "c3b6f756",
   "metadata": {},
   "outputs": [
    {
     "data": {
      "image/png": "[encoded data removed]",
      "text/plain": [
       "<Figure size 1440x1440 with 9 Axes>"
      ]
     },
     "metadata": {
      "needs_background": "light"
     },
     "output_type": "display_data"
    }
   ],
   "source": [
    "# Plot histogram grid\n",
    "numerical.hist(figsize=(20,20), xrot=-45)\n",
    "plt.show()"
   ]
  },
  {
   "cell_type": "markdown",
   "id": "a4689492",
   "metadata": {},
   "source": [
    "**Observations**:\n",
    "- no Null value was detected"
   ]
  },
  {
   "cell_type": "markdown",
   "id": "33961786",
   "metadata": {},
   "source": [
    "### Distribution of categorical variables"
   ]
  },
  {
   "cell_type": "code",
   "execution_count": 84,
   "id": "33d1f934",
   "metadata": {},
   "outputs": [
    {
     "name": "stderr",
     "output_type": "stream",
     "text": [
      "/opt/anaconda3/lib/python3.9/site-packages/seaborn/_decorators.py:36: FutureWarning: Pass the following variable as a keyword arg: x. From version 0.12, the only valid positional argument will be `data`, and passing other arguments without an explicit keyword will result in an error or misinterpretation.\n",
      "  warnings.warn(\n",
      "/opt/anaconda3/lib/python3.9/site-packages/pandas/io/formats/format.py:1429: FutureWarning: Index.ravel returning ndarray is deprecated; in a future version this will return a view on self.\n",
      "  for val, m in zip(values.ravel(), mask.ravel())\n"
     ]
    },
    {
     "data": {
      "image/png": "[encoded data removed]",
      "text/plain": [
       "<Figure size 1440x1440 with 9 Axes>"
      ]
     },
     "metadata": {
      "needs_background": "light"
     },
     "output_type": "display_data"
    }
   ],
   "source": [
    "plt.figure(figsize=(20,20))\n",
    "for i, column in enumerate(categorical,1):\n",
    "    plt.subplot(3,3,i)\n",
    "    sns.countplot(categorical[column])"
   ]
  },
  {
   "cell_type": "markdown",
   "id": "7e6c647a",
   "metadata": {},
   "source": [
    "**Observations**\n",
    "- majority of properties has no view to waterfront\n",
    "- majority of properties has a very low score in 'view' \n",
    "- most of properties has an average condition\n",
    "- distribution of grade scoring of properties is near to normal"
   ]
  },
  {
   "cell_type": "markdown",
   "id": "4e17efb6",
   "metadata": {},
   "source": [
    "### Correlation of numerical variables (with price)"
   ]
  },
  {
   "cell_type": "code",
   "execution_count": 85,
   "id": "272c2b4b",
   "metadata": {},
   "outputs": [
    {
     "data": {
      "text/plain": [
       "<AxesSubplot:>"
      ]
     },
     "execution_count": 85,
     "metadata": {},
     "output_type": "execute_result"
    },
    {
     "data": {
      "image/png": "[encoded data removed]",
      "text/plain": [
       "<Figure size 1080x1080 with 2 Axes>"
      ]
     },
     "metadata": {
      "needs_background": "light"
     },
     "output_type": "display_data"
    }
   ],
   "source": [
    "corr = numerical.corr()\n",
    "fig, ax = plt.subplots(figsize=(15,15))\n",
    "mask=np.zeros_like(numerical.corr())\n",
    "mask[np.triu_indices_from(mask)]=True\n",
    "sns.heatmap(corr,\n",
    "            cmap='seismic',\n",
    "            mask=mask,\n",
    "            center=0,\n",
    "            annot=True,\n",
    "            ax=ax)"
   ]
  },
  {
   "cell_type": "markdown",
   "id": "64217fe6",
   "metadata": {},
   "source": [
    "**Observations**:\n",
    "- sqft_above > 0.80\n",
    "- (?) sqft_living15 and sqft_living = 0.76\n",
    "- (?) sqft_lot and sqft_lot15 = 0.72"
   ]
  },
  {
   "cell_type": "markdown",
   "id": "b99ead4d",
   "metadata": {},
   "source": [
    "### Correlation of numerical variables (no price)"
   ]
  },
  {
   "cell_type": "code",
   "execution_count": 86,
   "id": "8b079af6",
   "metadata": {},
   "outputs": [
    {
     "data": {
      "text/html": [
       "<div>\n",
       "<style scoped>\n",
       "    .dataframe tbody tr th:only-of-type {\n",
       "        vertical-align: middle;\n",
       "    }\n",
       "\n",
       "    .dataframe tbody tr th {\n",
       "        vertical-align: top;\n",
       "    }\n",
       "\n",
       "    .dataframe thead th {\n",
       "        text-align: right;\n",
       "    }\n",
       "</style>\n",
       "<table border=\"1\" class=\"dataframe\">\n",
       "  <thead>\n",
       "    <tr style=\"text-align: right;\">\n",
       "      <th></th>\n",
       "      <th>sqft_living</th>\n",
       "      <th>sqft_lot</th>\n",
       "      <th>sqft_above</th>\n",
       "      <th>sqft_basement</th>\n",
       "      <th>zipcode</th>\n",
       "      <th>sqft_living15</th>\n",
       "      <th>sqft_lot15</th>\n",
       "    </tr>\n",
       "  </thead>\n",
       "  <tbody>\n",
       "    <tr>\n",
       "      <th>0</th>\n",
       "      <td>1180</td>\n",
       "      <td>5650</td>\n",
       "      <td>1180</td>\n",
       "      <td>0</td>\n",
       "      <td>98178</td>\n",
       "      <td>1340</td>\n",
       "      <td>5650</td>\n",
       "    </tr>\n",
       "    <tr>\n",
       "      <th>1</th>\n",
       "      <td>2570</td>\n",
       "      <td>7242</td>\n",
       "      <td>2170</td>\n",
       "      <td>400</td>\n",
       "      <td>98125</td>\n",
       "      <td>1690</td>\n",
       "      <td>7639</td>\n",
       "    </tr>\n",
       "    <tr>\n",
       "      <th>2</th>\n",
       "      <td>770</td>\n",
       "      <td>10000</td>\n",
       "      <td>770</td>\n",
       "      <td>0</td>\n",
       "      <td>98028</td>\n",
       "      <td>2720</td>\n",
       "      <td>8062</td>\n",
       "    </tr>\n",
       "    <tr>\n",
       "      <th>3</th>\n",
       "      <td>1960</td>\n",
       "      <td>5000</td>\n",
       "      <td>1050</td>\n",
       "      <td>910</td>\n",
       "      <td>98136</td>\n",
       "      <td>1360</td>\n",
       "      <td>5000</td>\n",
       "    </tr>\n",
       "    <tr>\n",
       "      <th>4</th>\n",
       "      <td>1680</td>\n",
       "      <td>8080</td>\n",
       "      <td>1680</td>\n",
       "      <td>0</td>\n",
       "      <td>98074</td>\n",
       "      <td>1800</td>\n",
       "      <td>7503</td>\n",
       "    </tr>\n",
       "    <tr>\n",
       "      <th>...</th>\n",
       "      <td>...</td>\n",
       "      <td>...</td>\n",
       "      <td>...</td>\n",
       "      <td>...</td>\n",
       "      <td>...</td>\n",
       "      <td>...</td>\n",
       "      <td>...</td>\n",
       "    </tr>\n",
       "    <tr>\n",
       "      <th>21592</th>\n",
       "      <td>1530</td>\n",
       "      <td>1131</td>\n",
       "      <td>1530</td>\n",
       "      <td>0</td>\n",
       "      <td>98103</td>\n",
       "      <td>1530</td>\n",
       "      <td>1509</td>\n",
       "    </tr>\n",
       "    <tr>\n",
       "      <th>21593</th>\n",
       "      <td>2310</td>\n",
       "      <td>5813</td>\n",
       "      <td>2310</td>\n",
       "      <td>0</td>\n",
       "      <td>98146</td>\n",
       "      <td>1830</td>\n",
       "      <td>7200</td>\n",
       "    </tr>\n",
       "    <tr>\n",
       "      <th>21594</th>\n",
       "      <td>1020</td>\n",
       "      <td>1350</td>\n",
       "      <td>1020</td>\n",
       "      <td>0</td>\n",
       "      <td>98144</td>\n",
       "      <td>1020</td>\n",
       "      <td>2007</td>\n",
       "    </tr>\n",
       "    <tr>\n",
       "      <th>21595</th>\n",
       "      <td>1600</td>\n",
       "      <td>2388</td>\n",
       "      <td>1600</td>\n",
       "      <td>0</td>\n",
       "      <td>98027</td>\n",
       "      <td>1410</td>\n",
       "      <td>1287</td>\n",
       "    </tr>\n",
       "    <tr>\n",
       "      <th>21596</th>\n",
       "      <td>1020</td>\n",
       "      <td>1076</td>\n",
       "      <td>1020</td>\n",
       "      <td>0</td>\n",
       "      <td>98144</td>\n",
       "      <td>1020</td>\n",
       "      <td>1357</td>\n",
       "    </tr>\n",
       "  </tbody>\n",
       "</table>\n",
       "<p>21596 rows × 7 columns</p>\n",
       "</div>"
      ],
      "text/plain": [
       "       sqft_living  sqft_lot  sqft_above  sqft_basement  zipcode  \\\n",
       "0             1180      5650        1180              0    98178   \n",
       "1             2570      7242        2170            400    98125   \n",
       "2              770     10000         770              0    98028   \n",
       "3             1960      5000        1050            910    98136   \n",
       "4             1680      8080        1680              0    98074   \n",
       "...            ...       ...         ...            ...      ...   \n",
       "21592         1530      1131        1530              0    98103   \n",
       "21593         2310      5813        2310              0    98146   \n",
       "21594         1020      1350        1020              0    98144   \n",
       "21595         1600      2388        1600              0    98027   \n",
       "21596         1020      1076        1020              0    98144   \n",
       "\n",
       "       sqft_living15  sqft_lot15  \n",
       "0               1340        5650  \n",
       "1               1690        7639  \n",
       "2               2720        8062  \n",
       "3               1360        5000  \n",
       "4               1800        7503  \n",
       "...              ...         ...  \n",
       "21592           1530        1509  \n",
       "21593           1830        7200  \n",
       "21594           1020        2007  \n",
       "21595           1410        1287  \n",
       "21596           1020        1357  \n",
       "\n",
       "[21596 rows x 7 columns]"
      ]
     },
     "execution_count": 86,
     "metadata": {},
     "output_type": "execute_result"
    }
   ],
   "source": [
    "numerical_2 = numerical.iloc[:, :-1]\n",
    "numerical_2"
   ]
  },
  {
   "cell_type": "code",
   "execution_count": 87,
   "id": "250999fc",
   "metadata": {},
   "outputs": [
    {
     "data": {
      "text/plain": [
       "<AxesSubplot:>"
      ]
     },
     "execution_count": 87,
     "metadata": {},
     "output_type": "execute_result"
    },
    {
     "data": {
      "image/png": "[encoded data removed]",
      "text/plain": [
       "<Figure size 1080x1080 with 2 Axes>"
      ]
     },
     "metadata": {
      "needs_background": "light"
     },
     "output_type": "display_data"
    }
   ],
   "source": [
    "corr_2 = numerical_2.corr()\n",
    "fig, ax = plt.subplots(figsize=(15,15))\n",
    "mask = np.zeros_like(numerical_2.corr())\n",
    "mask[np.triu_indices_from(mask)]=True\n",
    "sns.heatmap(corr_2,\n",
    "            cmap='seismic',\n",
    "            mask=mask,\n",
    "            center=0,\n",
    "            annot=True,\n",
    "            ax=ax)"
   ]
  },
  {
   "cell_type": "markdown",
   "id": "9442f89c",
   "metadata": {},
   "source": [
    "### Highly Correlated Columns"
   ]
  },
  {
   "cell_type": "code",
   "execution_count": 88,
   "id": "4ad027d2",
   "metadata": {},
   "outputs": [
    {
     "data": {
      "text/plain": [
       "['sqft_above']"
      ]
     },
     "execution_count": 88,
     "metadata": {},
     "output_type": "execute_result"
    }
   ],
   "source": [
    "corr_matrix = numerical_2.corr().abs()\n",
    "upper_triangle = corr_matrix.where(np.triu(np.ones(corr_matrix.shape),k=1).astype(bool))\n",
    "[column for column in upper_triangle.columns if any(upper_triangle[column] > 0.80)]"
   ]
  },
  {
   "cell_type": "markdown",
   "id": "eb6ac73f",
   "metadata": {},
   "source": [
    "### Drop the highly correlated variables  "
   ]
  },
  {
   "cell_type": "markdown",
   "id": "30d88146",
   "metadata": {},
   "source": [
    " sqft_above and sqft_living > 0.80"
   ]
  },
  {
   "cell_type": "code",
   "execution_count": 89,
   "id": "69a0f62e",
   "metadata": {},
   "outputs": [
    {
     "name": "stderr",
     "output_type": "stream",
     "text": [
      "/opt/anaconda3/lib/python3.9/site-packages/pandas/core/frame.py:4906: SettingWithCopyWarning: \n",
      "A value is trying to be set on a copy of a slice from a DataFrame\n",
      "\n",
      "See the caveats in the documentation: https://pandas.pydata.org/pandas-docs/stable/user_guide/indexing.html#returning-a-view-versus-a-copy\n",
      "  return super().drop(\n"
     ]
    }
   ],
   "source": [
    "numerical_2.drop(['sqft_above'],axis=1,inplace=True)"
   ]
  },
  {
   "cell_type": "code",
   "execution_count": 90,
   "id": "f9ae623c",
   "metadata": {},
   "outputs": [
    {
     "data": {
      "text/html": [
       "<div>\n",
       "<style scoped>\n",
       "    .dataframe tbody tr th:only-of-type {\n",
       "        vertical-align: middle;\n",
       "    }\n",
       "\n",
       "    .dataframe tbody tr th {\n",
       "        vertical-align: top;\n",
       "    }\n",
       "\n",
       "    .dataframe thead th {\n",
       "        text-align: right;\n",
       "    }\n",
       "</style>\n",
       "<table border=\"1\" class=\"dataframe\">\n",
       "  <thead>\n",
       "    <tr style=\"text-align: right;\">\n",
       "      <th></th>\n",
       "      <th>sqft_living</th>\n",
       "      <th>sqft_lot</th>\n",
       "      <th>sqft_basement</th>\n",
       "      <th>zipcode</th>\n",
       "      <th>sqft_living15</th>\n",
       "      <th>sqft_lot15</th>\n",
       "    </tr>\n",
       "  </thead>\n",
       "  <tbody>\n",
       "    <tr>\n",
       "      <th>0</th>\n",
       "      <td>1180</td>\n",
       "      <td>5650</td>\n",
       "      <td>0</td>\n",
       "      <td>98178</td>\n",
       "      <td>1340</td>\n",
       "      <td>5650</td>\n",
       "    </tr>\n",
       "    <tr>\n",
       "      <th>1</th>\n",
       "      <td>2570</td>\n",
       "      <td>7242</td>\n",
       "      <td>400</td>\n",
       "      <td>98125</td>\n",
       "      <td>1690</td>\n",
       "      <td>7639</td>\n",
       "    </tr>\n",
       "    <tr>\n",
       "      <th>2</th>\n",
       "      <td>770</td>\n",
       "      <td>10000</td>\n",
       "      <td>0</td>\n",
       "      <td>98028</td>\n",
       "      <td>2720</td>\n",
       "      <td>8062</td>\n",
       "    </tr>\n",
       "    <tr>\n",
       "      <th>3</th>\n",
       "      <td>1960</td>\n",
       "      <td>5000</td>\n",
       "      <td>910</td>\n",
       "      <td>98136</td>\n",
       "      <td>1360</td>\n",
       "      <td>5000</td>\n",
       "    </tr>\n",
       "    <tr>\n",
       "      <th>4</th>\n",
       "      <td>1680</td>\n",
       "      <td>8080</td>\n",
       "      <td>0</td>\n",
       "      <td>98074</td>\n",
       "      <td>1800</td>\n",
       "      <td>7503</td>\n",
       "    </tr>\n",
       "    <tr>\n",
       "      <th>...</th>\n",
       "      <td>...</td>\n",
       "      <td>...</td>\n",
       "      <td>...</td>\n",
       "      <td>...</td>\n",
       "      <td>...</td>\n",
       "      <td>...</td>\n",
       "    </tr>\n",
       "    <tr>\n",
       "      <th>21592</th>\n",
       "      <td>1530</td>\n",
       "      <td>1131</td>\n",
       "      <td>0</td>\n",
       "      <td>98103</td>\n",
       "      <td>1530</td>\n",
       "      <td>1509</td>\n",
       "    </tr>\n",
       "    <tr>\n",
       "      <th>21593</th>\n",
       "      <td>2310</td>\n",
       "      <td>5813</td>\n",
       "      <td>0</td>\n",
       "      <td>98146</td>\n",
       "      <td>1830</td>\n",
       "      <td>7200</td>\n",
       "    </tr>\n",
       "    <tr>\n",
       "      <th>21594</th>\n",
       "      <td>1020</td>\n",
       "      <td>1350</td>\n",
       "      <td>0</td>\n",
       "      <td>98144</td>\n",
       "      <td>1020</td>\n",
       "      <td>2007</td>\n",
       "    </tr>\n",
       "    <tr>\n",
       "      <th>21595</th>\n",
       "      <td>1600</td>\n",
       "      <td>2388</td>\n",
       "      <td>0</td>\n",
       "      <td>98027</td>\n",
       "      <td>1410</td>\n",
       "      <td>1287</td>\n",
       "    </tr>\n",
       "    <tr>\n",
       "      <th>21596</th>\n",
       "      <td>1020</td>\n",
       "      <td>1076</td>\n",
       "      <td>0</td>\n",
       "      <td>98144</td>\n",
       "      <td>1020</td>\n",
       "      <td>1357</td>\n",
       "    </tr>\n",
       "  </tbody>\n",
       "</table>\n",
       "<p>21596 rows × 6 columns</p>\n",
       "</div>"
      ],
      "text/plain": [
       "       sqft_living  sqft_lot  sqft_basement  zipcode  sqft_living15  \\\n",
       "0             1180      5650              0    98178           1340   \n",
       "1             2570      7242            400    98125           1690   \n",
       "2              770     10000              0    98028           2720   \n",
       "3             1960      5000            910    98136           1360   \n",
       "4             1680      8080              0    98074           1800   \n",
       "...            ...       ...            ...      ...            ...   \n",
       "21592         1530      1131              0    98103           1530   \n",
       "21593         2310      5813              0    98146           1830   \n",
       "21594         1020      1350              0    98144           1020   \n",
       "21595         1600      2388              0    98027           1410   \n",
       "21596         1020      1076              0    98144           1020   \n",
       "\n",
       "       sqft_lot15  \n",
       "0            5650  \n",
       "1            7639  \n",
       "2            8062  \n",
       "3            5000  \n",
       "4            7503  \n",
       "...           ...  \n",
       "21592        1509  \n",
       "21593        7200  \n",
       "21594        2007  \n",
       "21595        1287  \n",
       "21596        1357  \n",
       "\n",
       "[21596 rows x 6 columns]"
      ]
     },
     "execution_count": 90,
     "metadata": {},
     "output_type": "execute_result"
    }
   ],
   "source": [
    "numerical_2"
   ]
  },
  {
   "cell_type": "markdown",
   "id": "b69612ad",
   "metadata": {},
   "source": [
    "### Correlation of categorical variables"
   ]
  },
  {
   "cell_type": "code",
   "execution_count": 91,
   "id": "cca71cbb",
   "metadata": {},
   "outputs": [
    {
     "data": {
      "text/plain": [
       "<AxesSubplot:xlabel='waterfront', ylabel='price'>"
      ]
     },
     "execution_count": 91,
     "metadata": {},
     "output_type": "execute_result"
    },
    {
     "data": {
      "image/png": "[encoded data removed]",
      "text/plain": [
       "<Figure size 432x288 with 1 Axes>"
      ]
     },
     "metadata": {
      "needs_background": "light"
     },
     "output_type": "display_data"
    }
   ],
   "source": [
    "sns.barplot(x = df['waterfront'],y = df['price'])"
   ]
  },
  {
   "cell_type": "code",
   "execution_count": 92,
   "id": "6f79aacc",
   "metadata": {},
   "outputs": [
    {
     "data": {
      "text/plain": [
       "<AxesSubplot:xlabel='view', ylabel='price'>"
      ]
     },
     "execution_count": 92,
     "metadata": {},
     "output_type": "execute_result"
    },
    {
     "data": {
      "image/png": "[encoded data removed]",
      "text/plain": [
       "<Figure size 432x288 with 1 Axes>"
      ]
     },
     "metadata": {
      "needs_background": "light"
     },
     "output_type": "display_data"
    }
   ],
   "source": [
    "sns.barplot(x = df['view'],y = df['price'])"
   ]
  },
  {
   "cell_type": "code",
   "execution_count": 93,
   "id": "869c97d7",
   "metadata": {},
   "outputs": [
    {
     "data": {
      "text/plain": [
       "<AxesSubplot:xlabel='condition', ylabel='price'>"
      ]
     },
     "execution_count": 93,
     "metadata": {},
     "output_type": "execute_result"
    },
    {
     "data": {
      "image/png": "[encoded data removed]",
      "text/plain": [
       "<Figure size 432x288 with 1 Axes>"
      ]
     },
     "metadata": {
      "needs_background": "light"
     },
     "output_type": "display_data"
    }
   ],
   "source": [
    "sns.barplot(x = df['condition'],y = df['price'])"
   ]
  },
  {
   "cell_type": "code",
   "execution_count": 94,
   "id": "20947bd3",
   "metadata": {},
   "outputs": [
    {
     "data": {
      "text/plain": [
       "<AxesSubplot:xlabel='grade', ylabel='price'>"
      ]
     },
     "execution_count": 94,
     "metadata": {},
     "output_type": "execute_result"
    },
    {
     "data": {
      "image/png": "[encoded data removed]",
      "text/plain": [
       "<Figure size 432x288 with 1 Axes>"
      ]
     },
     "metadata": {
      "needs_background": "light"
     },
     "output_type": "display_data"
    }
   ],
   "source": [
    "sns.barplot(x = df['grade'],y = df['price'])"
   ]
  },
  {
   "cell_type": "code",
   "execution_count": 95,
   "id": "cc24f0f7",
   "metadata": {},
   "outputs": [
    {
     "data": {
      "text/plain": [
       "<AxesSubplot:xlabel='bedrooms', ylabel='price'>"
      ]
     },
     "execution_count": 95,
     "metadata": {},
     "output_type": "execute_result"
    },
    {
     "data": {
      "image/png": "[encoded data removed]",
      "text/plain": [
       "<Figure size 432x288 with 1 Axes>"
      ]
     },
     "metadata": {
      "needs_background": "light"
     },
     "output_type": "display_data"
    }
   ],
   "source": [
    "sns.barplot(x = df['bedrooms'],y = df['price'])"
   ]
  },
  {
   "cell_type": "code",
   "execution_count": 96,
   "id": "10afc455",
   "metadata": {},
   "outputs": [
    {
     "name": "stderr",
     "output_type": "stream",
     "text": [
      "/opt/anaconda3/lib/python3.9/site-packages/pandas/io/formats/format.py:1429: FutureWarning: Index.ravel returning ndarray is deprecated; in a future version this will return a view on self.\n",
      "  for val, m in zip(values.ravel(), mask.ravel())\n"
     ]
    },
    {
     "data": {
      "text/plain": [
       "<AxesSubplot:xlabel='bathrooms', ylabel='price'>"
      ]
     },
     "execution_count": 96,
     "metadata": {},
     "output_type": "execute_result"
    },
    {
     "data": {
      "image/png": "[encoded data removed]",
      "text/plain": [
       "<Figure size 432x288 with 1 Axes>"
      ]
     },
     "metadata": {
      "needs_background": "light"
     },
     "output_type": "display_data"
    }
   ],
   "source": [
    "sns.barplot(x = df['bathrooms'],y = df['price'])"
   ]
  },
  {
   "cell_type": "code",
   "execution_count": 97,
   "id": "a86226ab",
   "metadata": {},
   "outputs": [
    {
     "data": {
      "text/plain": [
       "<AxesSubplot:xlabel='yr_built', ylabel='price'>"
      ]
     },
     "execution_count": 97,
     "metadata": {},
     "output_type": "execute_result"
    },
    {
     "data": {
      "image/png": "[encoded data removed]",
      "text/plain": [
       "<Figure size 432x288 with 1 Axes>"
      ]
     },
     "metadata": {
      "needs_background": "light"
     },
     "output_type": "display_data"
    }
   ],
   "source": [
    "sns.barplot(x = df['yr_built'],y = df['price'])"
   ]
  },
  {
   "cell_type": "markdown",
   "id": "bc9cf375",
   "metadata": {},
   "source": [
    "### Normalize"
   ]
  },
  {
   "cell_type": "markdown",
   "id": "04d29521",
   "metadata": {},
   "source": [
    "sqft_living"
   ]
  },
  {
   "cell_type": "code",
   "execution_count": 98,
   "id": "54a05702",
   "metadata": {},
   "outputs": [
    {
     "name": "stderr",
     "output_type": "stream",
     "text": [
      "/var/folders/mm/gw92vpys6rggjz_4z42s244w0000gn/T/ipykernel_5288/1664979473.py:2: SettingWithCopyWarning: \n",
      "A value is trying to be set on a copy of a slice from a DataFrame.\n",
      "Try using .loc[row_indexer,col_indexer] = value instead\n",
      "\n",
      "See the caveats in the documentation: https://pandas.pydata.org/pandas-docs/stable/user_guide/indexing.html#returning-a-view-versus-a-copy\n",
      "  numerical_2['sqft_living'] = qt.fit_transform(numerical_2['sqft_living'].to_numpy().reshape(-1,1))\n"
     ]
    },
    {
     "data": {
      "text/plain": [
       "<seaborn.axisgrid.FacetGrid at 0x7fe3959d0970>"
      ]
     },
     "execution_count": 98,
     "metadata": {},
     "output_type": "execute_result"
    },
    {
     "data": {
      "image/png": "[encoded data removed]",
      "text/plain": [
       "<Figure size 360x360 with 1 Axes>"
      ]
     },
     "metadata": {
      "needs_background": "light"
     },
     "output_type": "display_data"
    }
   ],
   "source": [
    "qt = QuantileTransformer(output_distribution = 'normal')\n",
    "numerical_2['sqft_living'] = qt.fit_transform(numerical_2['sqft_living'].to_numpy().reshape(-1,1))\n",
    "sns.displot(numerical_2['sqft_living'])"
   ]
  },
  {
   "cell_type": "markdown",
   "id": "2ee5a190",
   "metadata": {},
   "source": [
    "sqft_living15"
   ]
  },
  {
   "cell_type": "code",
   "execution_count": 99,
   "id": "bde99b53",
   "metadata": {},
   "outputs": [
    {
     "name": "stderr",
     "output_type": "stream",
     "text": [
      "/var/folders/mm/gw92vpys6rggjz_4z42s244w0000gn/T/ipykernel_5288/1975453770.py:2: SettingWithCopyWarning: \n",
      "A value is trying to be set on a copy of a slice from a DataFrame.\n",
      "Try using .loc[row_indexer,col_indexer] = value instead\n",
      "\n",
      "See the caveats in the documentation: https://pandas.pydata.org/pandas-docs/stable/user_guide/indexing.html#returning-a-view-versus-a-copy\n",
      "  numerical_2['sqft_living15'] = qt.fit_transform(numerical_2['sqft_living15'].to_numpy().reshape(-1,1))\n"
     ]
    },
    {
     "data": {
      "text/plain": [
       "<seaborn.axisgrid.FacetGrid at 0x7fe397227640>"
      ]
     },
     "execution_count": 99,
     "metadata": {},
     "output_type": "execute_result"
    },
    {
     "data": {
      "image/png": "[encoded data removed]",
      "text/plain": [
       "<Figure size 360x360 with 1 Axes>"
      ]
     },
     "metadata": {
      "needs_background": "light"
     },
     "output_type": "display_data"
    }
   ],
   "source": [
    "qt = QuantileTransformer(output_distribution = 'normal')\n",
    "numerical_2['sqft_living15'] = qt.fit_transform(numerical_2['sqft_living15'].to_numpy().reshape(-1,1))\n",
    "sns.displot(numerical_2['sqft_living15'])"
   ]
  },
  {
   "cell_type": "markdown",
   "id": "fe5c4051",
   "metadata": {},
   "source": [
    "sqft_lot"
   ]
  },
  {
   "cell_type": "code",
   "execution_count": 100,
   "id": "f6c82539",
   "metadata": {},
   "outputs": [
    {
     "name": "stderr",
     "output_type": "stream",
     "text": [
      "/var/folders/mm/gw92vpys6rggjz_4z42s244w0000gn/T/ipykernel_5288/2662698753.py:2: SettingWithCopyWarning: \n",
      "A value is trying to be set on a copy of a slice from a DataFrame.\n",
      "Try using .loc[row_indexer,col_indexer] = value instead\n",
      "\n",
      "See the caveats in the documentation: https://pandas.pydata.org/pandas-docs/stable/user_guide/indexing.html#returning-a-view-versus-a-copy\n",
      "  numerical_2['sqft_lot'] = qt.fit_transform(numerical_2['sqft_lot'].to_numpy().reshape(-1,1))\n"
     ]
    },
    {
     "data": {
      "text/plain": [
       "<seaborn.axisgrid.FacetGrid at 0x7fe3956d1b50>"
      ]
     },
     "execution_count": 100,
     "metadata": {},
     "output_type": "execute_result"
    },
    {
     "data": {
      "image/png": "[encoded data removed]",
      "text/plain": [
       "<Figure size 360x360 with 1 Axes>"
      ]
     },
     "metadata": {
      "needs_background": "light"
     },
     "output_type": "display_data"
    }
   ],
   "source": [
    "qt = QuantileTransformer(output_distribution = 'normal')\n",
    "numerical_2['sqft_lot'] = qt.fit_transform(numerical_2['sqft_lot'].to_numpy().reshape(-1,1))\n",
    "sns.displot(numerical_2['sqft_lot'])"
   ]
  },
  {
   "cell_type": "markdown",
   "id": "8209a1c7",
   "metadata": {},
   "source": [
    "sqft_lot15"
   ]
  },
  {
   "cell_type": "code",
   "execution_count": 101,
   "id": "6c660702",
   "metadata": {},
   "outputs": [
    {
     "name": "stderr",
     "output_type": "stream",
     "text": [
      "/var/folders/mm/gw92vpys6rggjz_4z42s244w0000gn/T/ipykernel_5288/4243214181.py:2: SettingWithCopyWarning: \n",
      "A value is trying to be set on a copy of a slice from a DataFrame.\n",
      "Try using .loc[row_indexer,col_indexer] = value instead\n",
      "\n",
      "See the caveats in the documentation: https://pandas.pydata.org/pandas-docs/stable/user_guide/indexing.html#returning-a-view-versus-a-copy\n",
      "  numerical_2['sqft_lot15'] = qt.fit_transform(numerical_2['sqft_lot15'].to_numpy().reshape(-1,1))\n"
     ]
    },
    {
     "data": {
      "text/plain": [
       "<seaborn.axisgrid.FacetGrid at 0x7fe396553790>"
      ]
     },
     "execution_count": 101,
     "metadata": {},
     "output_type": "execute_result"
    },
    {
     "data": {
      "image/png": "[encoded data removed]",
      "text/plain": [
       "<Figure size 360x360 with 1 Axes>"
      ]
     },
     "metadata": {
      "needs_background": "light"
     },
     "output_type": "display_data"
    }
   ],
   "source": [
    "qt = QuantileTransformer(output_distribution = 'normal')\n",
    "numerical_2['sqft_lot15'] = qt.fit_transform(numerical_2['sqft_lot15'].to_numpy().reshape(-1,1))\n",
    "sns.displot(numerical_2['sqft_lot15'])"
   ]
  },
  {
   "cell_type": "markdown",
   "id": "2b3ddcaf",
   "metadata": {},
   "source": [
    "sqft_basement"
   ]
  },
  {
   "cell_type": "code",
   "execution_count": 102,
   "id": "e86bd7d0",
   "metadata": {},
   "outputs": [
    {
     "name": "stderr",
     "output_type": "stream",
     "text": [
      "/var/folders/mm/gw92vpys6rggjz_4z42s244w0000gn/T/ipykernel_5288/1424423749.py:2: SettingWithCopyWarning: \n",
      "A value is trying to be set on a copy of a slice from a DataFrame.\n",
      "Try using .loc[row_indexer,col_indexer] = value instead\n",
      "\n",
      "See the caveats in the documentation: https://pandas.pydata.org/pandas-docs/stable/user_guide/indexing.html#returning-a-view-versus-a-copy\n",
      "  numerical_2['sqft_basement'] = qt.fit_transform(numerical_2['sqft_basement'].to_numpy().reshape(-1,1))\n"
     ]
    },
    {
     "data": {
      "text/plain": [
       "<seaborn.axisgrid.FacetGrid at 0x7fe394c94be0>"
      ]
     },
     "execution_count": 102,
     "metadata": {},
     "output_type": "execute_result"
    },
    {
     "data": {
      "image/png": "[encoded data removed]",
      "text/plain": [
       "<Figure size 360x360 with 1 Axes>"
      ]
     },
     "metadata": {
      "needs_background": "light"
     },
     "output_type": "display_data"
    }
   ],
   "source": [
    "qt = QuantileTransformer(output_distribution = 'normal')\n",
    "numerical_2['sqft_basement'] = qt.fit_transform(numerical_2['sqft_basement'].to_numpy().reshape(-1,1))\n",
    "sns.displot(numerical_2['sqft_basement'])"
   ]
  },
  {
   "cell_type": "code",
   "execution_count": 105,
   "id": "2ccddbce",
   "metadata": {},
   "outputs": [
    {
     "data": {
      "text/html": [
       "<div>\n",
       "<style scoped>\n",
       "    .dataframe tbody tr th:only-of-type {\n",
       "        vertical-align: middle;\n",
       "    }\n",
       "\n",
       "    .dataframe tbody tr th {\n",
       "        vertical-align: top;\n",
       "    }\n",
       "\n",
       "    .dataframe thead th {\n",
       "        text-align: right;\n",
       "    }\n",
       "</style>\n",
       "<table border=\"1\" class=\"dataframe\">\n",
       "  <thead>\n",
       "    <tr style=\"text-align: right;\">\n",
       "      <th></th>\n",
       "      <th>sqft_living</th>\n",
       "      <th>sqft_lot</th>\n",
       "      <th>sqft_basement</th>\n",
       "      <th>zipcode</th>\n",
       "      <th>sqft_living15</th>\n",
       "      <th>sqft_lot15</th>\n",
       "    </tr>\n",
       "  </thead>\n",
       "  <tbody>\n",
       "    <tr>\n",
       "      <th>0</th>\n",
       "      <td>-1.109378</td>\n",
       "      <td>-0.517790</td>\n",
       "      <td>-5.199338</td>\n",
       "      <td>98178</td>\n",
       "      <td>-1.037937</td>\n",
       "      <td>-0.518117</td>\n",
       "    </tr>\n",
       "    <tr>\n",
       "      <th>1</th>\n",
       "      <td>0.694311</td>\n",
       "      <td>-0.115497</td>\n",
       "      <td>0.492137</td>\n",
       "      <td>98125</td>\n",
       "      <td>-0.247134</td>\n",
       "      <td>0.007519</td>\n",
       "    </tr>\n",
       "    <tr>\n",
       "      <th>2</th>\n",
       "      <td>-2.131682</td>\n",
       "      <td>0.562796</td>\n",
       "      <td>-5.199338</td>\n",
       "      <td>98028</td>\n",
       "      <td>1.064091</td>\n",
       "      <td>0.154098</td>\n",
       "    </tr>\n",
       "    <tr>\n",
       "      <th>3</th>\n",
       "      <td>0.051460</td>\n",
       "      <td>-0.718462</td>\n",
       "      <td>1.189522</td>\n",
       "      <td>98136</td>\n",
       "      <td>-0.985610</td>\n",
       "      <td>-0.744694</td>\n",
       "    </tr>\n",
       "    <tr>\n",
       "      <th>4</th>\n",
       "      <td>-0.293986</td>\n",
       "      <td>0.127972</td>\n",
       "      <td>-5.199338</td>\n",
       "      <td>98074</td>\n",
       "      <td>-0.062770</td>\n",
       "      <td>-0.040400</td>\n",
       "    </tr>\n",
       "    <tr>\n",
       "      <th>...</th>\n",
       "      <td>...</td>\n",
       "      <td>...</td>\n",
       "      <td>...</td>\n",
       "      <td>...</td>\n",
       "      <td>...</td>\n",
       "      <td>...</td>\n",
       "    </tr>\n",
       "    <tr>\n",
       "      <th>21592</th>\n",
       "      <td>-0.509202</td>\n",
       "      <td>-2.132197</td>\n",
       "      <td>-5.199338</td>\n",
       "      <td>98103</td>\n",
       "      <td>-0.573115</td>\n",
       "      <td>-1.831578</td>\n",
       "    </tr>\n",
       "    <tr>\n",
       "      <th>21593</th>\n",
       "      <td>0.436240</td>\n",
       "      <td>-0.475124</td>\n",
       "      <td>-5.199338</td>\n",
       "      <td>98146</td>\n",
       "      <td>-0.012546</td>\n",
       "      <td>-0.166367</td>\n",
       "    </tr>\n",
       "    <tr>\n",
       "      <th>21594</th>\n",
       "      <td>-1.428482</td>\n",
       "      <td>-1.837259</td>\n",
       "      <td>-5.199338</td>\n",
       "      <td>98144</td>\n",
       "      <td>-2.043115</td>\n",
       "      <td>-1.644054</td>\n",
       "    </tr>\n",
       "    <tr>\n",
       "      <th>21595</th>\n",
       "      <td>-0.406079</td>\n",
       "      <td>-1.515539</td>\n",
       "      <td>-5.199338</td>\n",
       "      <td>98027</td>\n",
       "      <td>-0.862544</td>\n",
       "      <td>-2.068014</td>\n",
       "    </tr>\n",
       "    <tr>\n",
       "      <th>21596</th>\n",
       "      <td>-1.428482</td>\n",
       "      <td>-2.220791</td>\n",
       "      <td>-5.199338</td>\n",
       "      <td>98144</td>\n",
       "      <td>-2.043115</td>\n",
       "      <td>-1.954804</td>\n",
       "    </tr>\n",
       "  </tbody>\n",
       "</table>\n",
       "<p>21596 rows × 6 columns</p>\n",
       "</div>"
      ],
      "text/plain": [
       "       sqft_living  sqft_lot  sqft_basement  zipcode  sqft_living15  \\\n",
       "0        -1.109378 -0.517790      -5.199338    98178      -1.037937   \n",
       "1         0.694311 -0.115497       0.492137    98125      -0.247134   \n",
       "2        -2.131682  0.562796      -5.199338    98028       1.064091   \n",
       "3         0.051460 -0.718462       1.189522    98136      -0.985610   \n",
       "4        -0.293986  0.127972      -5.199338    98074      -0.062770   \n",
       "...            ...       ...            ...      ...            ...   \n",
       "21592    -0.509202 -2.132197      -5.199338    98103      -0.573115   \n",
       "21593     0.436240 -0.475124      -5.199338    98146      -0.012546   \n",
       "21594    -1.428482 -1.837259      -5.199338    98144      -2.043115   \n",
       "21595    -0.406079 -1.515539      -5.199338    98027      -0.862544   \n",
       "21596    -1.428482 -2.220791      -5.199338    98144      -2.043115   \n",
       "\n",
       "       sqft_lot15  \n",
       "0       -0.518117  \n",
       "1        0.007519  \n",
       "2        0.154098  \n",
       "3       -0.744694  \n",
       "4       -0.040400  \n",
       "...           ...  \n",
       "21592   -1.831578  \n",
       "21593   -0.166367  \n",
       "21594   -1.644054  \n",
       "21595   -2.068014  \n",
       "21596   -1.954804  \n",
       "\n",
       "[21596 rows x 6 columns]"
      ]
     },
     "execution_count": 105,
     "metadata": {},
     "output_type": "execute_result"
    }
   ],
   "source": [
    "numerical_2"
   ]
  },
  {
   "cell_type": "markdown",
   "id": "0f22d877",
   "metadata": {},
   "source": [
    "## Trial 1: only numerical varaibles"
   ]
  },
  {
   "cell_type": "markdown",
   "id": "0eb795d6",
   "metadata": {},
   "source": [
    "#### XY Split"
   ]
  },
  {
   "cell_type": "code",
   "execution_count": 106,
   "id": "6dc57a7f",
   "metadata": {},
   "outputs": [
    {
     "data": {
      "text/plain": [
       "0        221900\n",
       "1        538000\n",
       "2        180000\n",
       "3        604000\n",
       "4        510000\n",
       "          ...  \n",
       "21592    360000\n",
       "21593    400000\n",
       "21594    402101\n",
       "21595    400000\n",
       "21596    325000\n",
       "Name: price, Length: 21596, dtype: int64"
      ]
     },
     "execution_count": 106,
     "metadata": {},
     "output_type": "execute_result"
    }
   ],
   "source": [
    "X=numerical_2\n",
    "X\n",
    "y=numerical.price\n",
    "y"
   ]
  },
  {
   "cell_type": "code",
   "execution_count": 107,
   "id": "f0aeedda",
   "metadata": {},
   "outputs": [
    {
     "data": {
      "text/html": [
       "<div>\n",
       "<style scoped>\n",
       "    .dataframe tbody tr th:only-of-type {\n",
       "        vertical-align: middle;\n",
       "    }\n",
       "\n",
       "    .dataframe tbody tr th {\n",
       "        vertical-align: top;\n",
       "    }\n",
       "\n",
       "    .dataframe thead th {\n",
       "        text-align: right;\n",
       "    }\n",
       "</style>\n",
       "<table border=\"1\" class=\"dataframe\">\n",
       "  <thead>\n",
       "    <tr style=\"text-align: right;\">\n",
       "      <th></th>\n",
       "      <th>sqft_living</th>\n",
       "      <th>sqft_lot</th>\n",
       "      <th>sqft_basement</th>\n",
       "      <th>zipcode</th>\n",
       "      <th>sqft_living15</th>\n",
       "      <th>sqft_lot15</th>\n",
       "    </tr>\n",
       "  </thead>\n",
       "  <tbody>\n",
       "    <tr>\n",
       "      <th>0</th>\n",
       "      <td>-1.109378</td>\n",
       "      <td>-0.517790</td>\n",
       "      <td>-5.199338</td>\n",
       "      <td>98178</td>\n",
       "      <td>-1.037937</td>\n",
       "      <td>-0.518117</td>\n",
       "    </tr>\n",
       "    <tr>\n",
       "      <th>1</th>\n",
       "      <td>0.694311</td>\n",
       "      <td>-0.115497</td>\n",
       "      <td>0.492137</td>\n",
       "      <td>98125</td>\n",
       "      <td>-0.247134</td>\n",
       "      <td>0.007519</td>\n",
       "    </tr>\n",
       "    <tr>\n",
       "      <th>2</th>\n",
       "      <td>-2.131682</td>\n",
       "      <td>0.562796</td>\n",
       "      <td>-5.199338</td>\n",
       "      <td>98028</td>\n",
       "      <td>1.064091</td>\n",
       "      <td>0.154098</td>\n",
       "    </tr>\n",
       "    <tr>\n",
       "      <th>3</th>\n",
       "      <td>0.051460</td>\n",
       "      <td>-0.718462</td>\n",
       "      <td>1.189522</td>\n",
       "      <td>98136</td>\n",
       "      <td>-0.985610</td>\n",
       "      <td>-0.744694</td>\n",
       "    </tr>\n",
       "    <tr>\n",
       "      <th>4</th>\n",
       "      <td>-0.293986</td>\n",
       "      <td>0.127972</td>\n",
       "      <td>-5.199338</td>\n",
       "      <td>98074</td>\n",
       "      <td>-0.062770</td>\n",
       "      <td>-0.040400</td>\n",
       "    </tr>\n",
       "    <tr>\n",
       "      <th>...</th>\n",
       "      <td>...</td>\n",
       "      <td>...</td>\n",
       "      <td>...</td>\n",
       "      <td>...</td>\n",
       "      <td>...</td>\n",
       "      <td>...</td>\n",
       "    </tr>\n",
       "    <tr>\n",
       "      <th>21592</th>\n",
       "      <td>-0.509202</td>\n",
       "      <td>-2.132197</td>\n",
       "      <td>-5.199338</td>\n",
       "      <td>98103</td>\n",
       "      <td>-0.573115</td>\n",
       "      <td>-1.831578</td>\n",
       "    </tr>\n",
       "    <tr>\n",
       "      <th>21593</th>\n",
       "      <td>0.436240</td>\n",
       "      <td>-0.475124</td>\n",
       "      <td>-5.199338</td>\n",
       "      <td>98146</td>\n",
       "      <td>-0.012546</td>\n",
       "      <td>-0.166367</td>\n",
       "    </tr>\n",
       "    <tr>\n",
       "      <th>21594</th>\n",
       "      <td>-1.428482</td>\n",
       "      <td>-1.837259</td>\n",
       "      <td>-5.199338</td>\n",
       "      <td>98144</td>\n",
       "      <td>-2.043115</td>\n",
       "      <td>-1.644054</td>\n",
       "    </tr>\n",
       "    <tr>\n",
       "      <th>21595</th>\n",
       "      <td>-0.406079</td>\n",
       "      <td>-1.515539</td>\n",
       "      <td>-5.199338</td>\n",
       "      <td>98027</td>\n",
       "      <td>-0.862544</td>\n",
       "      <td>-2.068014</td>\n",
       "    </tr>\n",
       "    <tr>\n",
       "      <th>21596</th>\n",
       "      <td>-1.428482</td>\n",
       "      <td>-2.220791</td>\n",
       "      <td>-5.199338</td>\n",
       "      <td>98144</td>\n",
       "      <td>-2.043115</td>\n",
       "      <td>-1.954804</td>\n",
       "    </tr>\n",
       "  </tbody>\n",
       "</table>\n",
       "<p>21596 rows × 6 columns</p>\n",
       "</div>"
      ],
      "text/plain": [
       "       sqft_living  sqft_lot  sqft_basement  zipcode  sqft_living15  \\\n",
       "0        -1.109378 -0.517790      -5.199338    98178      -1.037937   \n",
       "1         0.694311 -0.115497       0.492137    98125      -0.247134   \n",
       "2        -2.131682  0.562796      -5.199338    98028       1.064091   \n",
       "3         0.051460 -0.718462       1.189522    98136      -0.985610   \n",
       "4        -0.293986  0.127972      -5.199338    98074      -0.062770   \n",
       "...            ...       ...            ...      ...            ...   \n",
       "21592    -0.509202 -2.132197      -5.199338    98103      -0.573115   \n",
       "21593     0.436240 -0.475124      -5.199338    98146      -0.012546   \n",
       "21594    -1.428482 -1.837259      -5.199338    98144      -2.043115   \n",
       "21595    -0.406079 -1.515539      -5.199338    98027      -0.862544   \n",
       "21596    -1.428482 -2.220791      -5.199338    98144      -2.043115   \n",
       "\n",
       "       sqft_lot15  \n",
       "0       -0.518117  \n",
       "1        0.007519  \n",
       "2        0.154098  \n",
       "3       -0.744694  \n",
       "4       -0.040400  \n",
       "...           ...  \n",
       "21592   -1.831578  \n",
       "21593   -0.166367  \n",
       "21594   -1.644054  \n",
       "21595   -2.068014  \n",
       "21596   -1.954804  \n",
       "\n",
       "[21596 rows x 6 columns]"
      ]
     },
     "execution_count": 107,
     "metadata": {},
     "output_type": "execute_result"
    }
   ],
   "source": [
    "X=X._get_numeric_data()\n",
    "X"
   ]
  },
  {
   "cell_type": "markdown",
   "id": "45949852",
   "metadata": {},
   "source": [
    "#### Data Splitting"
   ]
  },
  {
   "cell_type": "code",
   "execution_count": 108,
   "id": "637240d2",
   "metadata": {},
   "outputs": [],
   "source": [
    "X_train, X_test, y_train, y_test=train_test_split(X, y, test_size=.30,random_state=123)"
   ]
  },
  {
   "cell_type": "markdown",
   "id": "8cdb93e7",
   "metadata": {},
   "source": [
    "#### Standardize"
   ]
  },
  {
   "cell_type": "code",
   "execution_count": 112,
   "id": "dd7923f2",
   "metadata": {},
   "outputs": [],
   "source": [
    "std_scaler = StandardScaler().fit(X_train) \n",
    "\n",
    "X_train_scaled = std_scaler.transform(X_train)"
   ]
  },
  {
   "cell_type": "code",
   "execution_count": 113,
   "id": "8ad2572f",
   "metadata": {},
   "outputs": [],
   "source": [
    "X_test_scaled=std_scaler.transform(X_test)"
   ]
  },
  {
   "cell_type": "code",
   "execution_count": 114,
   "id": "6b89bac3",
   "metadata": {},
   "outputs": [
    {
     "name": "stdout",
     "output_type": "stream",
     "text": [
      "[[-0.71707153  0.41865299 -0.80398269  0.52695717 -0.41855798  0.27814248]\n",
      " [ 0.54640315  0.37730395 -0.80398269 -1.39808504 -0.88431417 -0.16690314]\n",
      " [ 0.1867116   0.81873396  1.26869464 -0.07111419  0.37987618  0.9915377 ]\n",
      " ...\n",
      " [-0.16726225 -0.08728358 -0.80398269 -0.74394448 -0.6149564   0.0020762 ]\n",
      " [ 0.00642335  0.49158368  1.15376161 -0.8747726  -0.64090562  0.51783934]\n",
      " [-0.82856292 -1.80782357  1.02941601  0.71385448 -0.45577345 -0.81851476]]\n",
      "--------\n",
      "[[ 0.71975034  0.3302575  -0.80398269 -0.37014988  0.88311427  0.34810092]\n",
      " [-0.58388885 -1.82944958  1.02323993  1.08764908 -0.52357866 -1.96006164]\n",
      " [-0.50968445 -2.37422485  0.99591801  0.47088798 -0.57161943 -2.07731091]\n",
      " ...\n",
      " [-1.4278584   0.08286582 -0.80398269  0.52695717 -2.11501665 -0.18381468]\n",
      " [-0.21703882 -0.09885053  1.19704374  1.68572045 -0.16316295 -0.01723105]\n",
      " [ 1.42220091 -0.30117319  1.34689479  1.08764908 -0.14795428 -0.29942452]]\n"
     ]
    }
   ],
   "source": [
    "print(X_train_scaled)\n",
    "print(\"--------\")\n",
    "print(X_test_scaled)"
   ]
  },
  {
   "cell_type": "code",
   "execution_count": 115,
   "id": "cd1df7ad",
   "metadata": {},
   "outputs": [
    {
     "name": "stdout",
     "output_type": "stream",
     "text": [
      "                            OLS Regression Results                            \n",
      "==============================================================================\n",
      "Dep. Variable:                  price   R-squared:                       0.409\n",
      "Model:                            OLS   Adj. R-squared:                  0.409\n",
      "Method:                 Least Squares   F-statistic:                     1745.\n",
      "Date:                Tue, 08 Feb 2022   Prob (F-statistic):               0.00\n",
      "Time:                        14:50:40   Log-Likelihood:            -2.1109e+05\n",
      "No. Observations:               15117   AIC:                         4.222e+05\n",
      "Df Residuals:                   15110   BIC:                         4.222e+05\n",
      "Df Model:                           6                                         \n",
      "Covariance Type:            nonrobust                                         \n",
      "==============================================================================\n",
      "                 coef    std err          t      P>|t|      [0.025      0.975]\n",
      "------------------------------------------------------------------------------\n",
      "const       5.391e+05   2282.657    236.171      0.000    5.35e+05    5.44e+05\n",
      "x1          1.722e+05   3631.367     47.417      0.000    1.65e+05    1.79e+05\n",
      "x2         -6087.0560   6075.845     -1.002      0.316    -1.8e+04    5822.335\n",
      "x3          1.808e+04   2456.500      7.360      0.000    1.33e+04    2.29e+04\n",
      "x4          3.069e+04   2490.321     12.323      0.000    2.58e+04    3.56e+04\n",
      "x5          8.297e+04   3582.288     23.161      0.000    7.59e+04       9e+04\n",
      "x6         -1.587e+04   6080.364     -2.609      0.009   -2.78e+04   -3947.747\n",
      "==============================================================================\n",
      "Omnibus:                    13528.422   Durbin-Watson:                   1.993\n",
      "Prob(Omnibus):                  0.000   Jarque-Bera (JB):          1051802.201\n",
      "Skew:                           3.987   Prob(JB):                         0.00\n",
      "Kurtosis:                      43.078   Cond. No.                         6.10\n",
      "==============================================================================\n",
      "\n",
      "Notes:\n",
      "[1] Standard Errors assume that the covariance matrix of the errors is correctly specified.\n"
     ]
    }
   ],
   "source": [
    "X_train_const_scaled = sm.add_constant(X_train_scaled) # adding a constant\n",
    "\n",
    "model = sm.OLS(y_train, X_train_const_scaled).fit()\n",
    "predictions_train = model.predict(X_train_const_scaled) \n",
    "\n",
    "X_test_const_scaled = sm.add_constant(X_test_scaled) # adding a constant\n",
    "predictions_test = model.predict(X_test_const_scaled) \n",
    "print_model = model.summary()\n",
    "print(print_model)"
   ]
  },
  {
   "cell_type": "markdown",
   "id": "0737c16d",
   "metadata": {},
   "source": [
    "#### Model validation"
   ]
  },
  {
   "cell_type": "code",
   "execution_count": 117,
   "id": "23272923",
   "metadata": {},
   "outputs": [
    {
     "data": {
      "text/plain": [
       "LinearRegression()"
      ]
     },
     "execution_count": 117,
     "metadata": {},
     "output_type": "execute_result"
    }
   ],
   "source": [
    "#using sklearn\n",
    "model=LinearRegression()    # model\n",
    "model.fit(X_train_scaled, y_train)   # model train"
   ]
  },
  {
   "cell_type": "code",
   "execution_count": 118,
   "id": "6110b242",
   "metadata": {},
   "outputs": [
    {
     "data": {
      "text/plain": [
       "array([172188.97632841,  -6087.05598458,  18080.65654043,  30688.82151719,\n",
       "        82968.78072857, -15865.99526638])"
      ]
     },
     "execution_count": 118,
     "metadata": {},
     "output_type": "execute_result"
    }
   ],
   "source": [
    "model.coef_ #gives you per column the slope (alpha)"
   ]
  },
  {
   "cell_type": "code",
   "execution_count": 119,
   "id": "d5a51742",
   "metadata": {},
   "outputs": [
    {
     "data": {
      "text/plain": [
       "539096.3280412788"
      ]
     },
     "execution_count": 119,
     "metadata": {},
     "output_type": "execute_result"
    }
   ],
   "source": [
    "model.intercept_ #gives the optimal slope"
   ]
  },
  {
   "cell_type": "code",
   "execution_count": 121,
   "id": "53696ed5",
   "metadata": {},
   "outputs": [
    {
     "data": {
      "text/plain": [
       "0.39903738712669945"
      ]
     },
     "execution_count": 121,
     "metadata": {},
     "output_type": "execute_result"
    }
   ],
   "source": [
    "R2_test = model.score(X_test_scaled,y_test) # measure R2\n",
    "R2_test"
   ]
  },
  {
   "cell_type": "code",
   "execution_count": 123,
   "id": "8c904781",
   "metadata": {},
   "outputs": [
    {
     "data": {
      "text/plain": [
       "array([702871.05482948, 489230.23096484, 483776.21135703, ...,\n",
       "       121801.6537099 , 562438.41285828, 836023.39647354])"
      ]
     },
     "execution_count": 123,
     "metadata": {},
     "output_type": "execute_result"
    }
   ],
   "source": [
    "# Making prediction\n",
    "y_pred = model.predict(X_test_scaled)\n",
    "y_pred"
   ]
  },
  {
   "cell_type": "code",
   "execution_count": 124,
   "id": "a819a457",
   "metadata": {},
   "outputs": [
    {
     "data": {
      "text/plain": [
       "14863     392000\n",
       "2277      418000\n",
       "21579     520000\n",
       "18670    1050000\n",
       "21454     249000\n",
       "          ...   \n",
       "12811     291970\n",
       "12288     741000\n",
       "6556      269000\n",
       "16311     180000\n",
       "1050      850000\n",
       "Name: price, Length: 6479, dtype: int64"
      ]
     },
     "execution_count": 124,
     "metadata": {},
     "output_type": "execute_result"
    }
   ],
   "source": [
    "y_test"
   ]
  },
  {
   "cell_type": "code",
   "execution_count": 125,
   "id": "3ed27918",
   "metadata": {},
   "outputs": [],
   "source": [
    "result=pd.DataFrame({\"y_test\":y_test,\"y_pred\":y_pred})"
   ]
  },
  {
   "cell_type": "code",
   "execution_count": 126,
   "id": "d9f709ce",
   "metadata": {},
   "outputs": [
    {
     "data": {
      "text/plain": [
       "[<matplotlib.lines.Line2D at 0x7fe3996d5fd0>]"
      ]
     },
     "execution_count": 126,
     "metadata": {},
     "output_type": "execute_result"
    },
    {
     "data": {
      "image/png": "[encoded data removed]",
      "text/plain": [
       "<Figure size 1008x288 with 3 Axes>"
      ]
     },
     "metadata": {
      "needs_background": "light"
     },
     "output_type": "display_data"
    }
   ],
   "source": [
    "# Make an scatter plot y_pred vs y\n",
    "# What kind of plot you will get if all the all the predictions are ok?\n",
    "# A stright line\n",
    "\n",
    "fig, ax = plt.subplots(1,3,figsize=(14,4))\n",
    "ax[0].plot(y_pred, y_test, 'o')\n",
    "ax[0].set_xlabel(\"y_test\")\n",
    "ax[0].set_ylabel(\"y_pred\")\n",
    "ax[0].set_title(\"Test Set -Predicted vs real\")\n",
    "\n",
    "# Get a histogram of the residuals ie: y - y_pred.  Homoscdasticity\n",
    "# It resembles a normal distribution?\n",
    "ax[1].hist(y_test - y_pred)\n",
    "ax[1].set_xlabel(\"Test y-y_pred\")\n",
    "ax[1].set_title(\"Test Set Residual histogram\")\n",
    "\n",
    "ax[2].plot(y_pred,y_test - y_pred,\"o\")\n",
    "ax[2].set_xlabel(\"predited\")\n",
    "ax[2].set_ylabel(\"residuals\")\n",
    "ax[2].set_title(\"Residuals by Predicted\")\n",
    "ax[2].plot(y_pred,np.zeros(len(y_pred)),linestyle='dashed')"
   ]
  },
  {
   "cell_type": "code",
   "execution_count": 127,
   "id": "032533cc",
   "metadata": {},
   "outputs": [
    {
     "data": {
      "text/plain": [
       "<AxesSubplot:xlabel='y_pred', ylabel='y_test'>"
      ]
     },
     "execution_count": 127,
     "metadata": {},
     "output_type": "execute_result"
    },
    {
     "data": {
      "image/png": "[encoded data removed]",
      "text/plain": [
       "<Figure size 432x288 with 1 Axes>"
      ]
     },
     "metadata": {
      "needs_background": "light"
     },
     "output_type": "display_data"
    }
   ],
   "source": [
    "sns.regplot(x='y_pred',y='y_test', data=result, scatter_kws={\"color\": \"red\"}, line_kws={\"color\": \"black\"})"
   ]
  },
  {
   "cell_type": "markdown",
   "id": "afbc2dad",
   "metadata": {},
   "source": [
    "#### Error metrics"
   ]
  },
  {
   "cell_type": "code",
   "execution_count": 130,
   "id": "3ee02b02",
   "metadata": {},
   "outputs": [
    {
     "name": "stdout",
     "output_type": "stream",
     "text": [
      "83465479923.69533\n",
      "180062.4743405861\n"
     ]
    }
   ],
   "source": [
    "print(mse(y_test,y_pred))\n",
    "print(mae(y_test,y_pred))"
   ]
  },
  {
   "cell_type": "markdown",
   "id": "4e393428",
   "metadata": {},
   "source": [
    "#### Features Importance"
   ]
  },
  {
   "cell_type": "code",
   "execution_count": 129,
   "id": "ac12682d",
   "metadata": {},
   "outputs": [
    {
     "data": {
      "text/html": [
       "<div>\n",
       "<style scoped>\n",
       "    .dataframe tbody tr th:only-of-type {\n",
       "        vertical-align: middle;\n",
       "    }\n",
       "\n",
       "    .dataframe tbody tr th {\n",
       "        vertical-align: top;\n",
       "    }\n",
       "\n",
       "    .dataframe thead th {\n",
       "        text-align: right;\n",
       "    }\n",
       "</style>\n",
       "<table border=\"1\" class=\"dataframe\">\n",
       "  <thead>\n",
       "    <tr style=\"text-align: right;\">\n",
       "      <th></th>\n",
       "      <th>Attribute</th>\n",
       "      <th>Importance</th>\n",
       "    </tr>\n",
       "  </thead>\n",
       "  <tbody>\n",
       "    <tr>\n",
       "      <th>0</th>\n",
       "      <td>sqft_living</td>\n",
       "      <td>172188.976328</td>\n",
       "    </tr>\n",
       "    <tr>\n",
       "      <th>4</th>\n",
       "      <td>sqft_living15</td>\n",
       "      <td>82968.780729</td>\n",
       "    </tr>\n",
       "    <tr>\n",
       "      <th>3</th>\n",
       "      <td>zipcode</td>\n",
       "      <td>30688.821517</td>\n",
       "    </tr>\n",
       "    <tr>\n",
       "      <th>2</th>\n",
       "      <td>sqft_basement</td>\n",
       "      <td>18080.656540</td>\n",
       "    </tr>\n",
       "    <tr>\n",
       "      <th>5</th>\n",
       "      <td>sqft_lot15</td>\n",
       "      <td>15865.995266</td>\n",
       "    </tr>\n",
       "    <tr>\n",
       "      <th>1</th>\n",
       "      <td>sqft_lot</td>\n",
       "      <td>6087.055985</td>\n",
       "    </tr>\n",
       "  </tbody>\n",
       "</table>\n",
       "</div>"
      ],
      "text/plain": [
       "       Attribute     Importance\n",
       "0    sqft_living  172188.976328\n",
       "4  sqft_living15   82968.780729\n",
       "3        zipcode   30688.821517\n",
       "2  sqft_basement   18080.656540\n",
       "5     sqft_lot15   15865.995266\n",
       "1       sqft_lot    6087.055985"
      ]
     },
     "execution_count": 129,
     "metadata": {},
     "output_type": "execute_result"
    }
   ],
   "source": [
    "features_importances = pd.DataFrame(data={\n",
    "    'Attribute': X_train.columns,\n",
    "    'Importance': abs(model.coef_)\n",
    "})\n",
    "features_importances = features_importances.sort_values(by='Importance', ascending=False)\n",
    "features_importances"
   ]
  }
 ],
 "metadata": {
  "kernelspec": {
   "display_name": "Python 3 (ipykernel)",
   "language": "python",
   "name": "python3"
  },
  "language_info": {
   "codemirror_mode": {
    "name": "ipython",
    "version": 3
   },
   "file_extension": ".py",
   "mimetype": "text/x-python",
   "name": "python",
   "nbconvert_exporter": "python",
   "pygments_lexer": "ipython3",
   "version": "3.9.7"
  },
  "toc": {
   "base_numbering": 1,
   "nav_menu": {},
   "number_sections": true,
   "sideBar": true,
   "skip_h1_title": false,
   "title_cell": "Table of Contents",
   "title_sidebar": "Contents",
   "toc_cell": false,
   "toc_position": {},
   "toc_section_display": true,
   "toc_window_display": true
  }
 },
 "nbformat": 4,
 "nbformat_minor": 5
}
